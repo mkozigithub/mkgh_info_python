{
 "cells": [
  {
   "cell_type": "markdown",
   "metadata": {},
   "source": [
    "# List Comprehensions\n",
    "see python tutorial: [List Comprehensions](https://docs.python.org/3/tutorial/datastructures.html#list-comprehensions)"
   ]
  },
  {
   "cell_type": "code",
   "execution_count": 3,
   "metadata": {},
   "outputs": [
    {
     "name": "stdout",
     "output_type": "stream",
     "text": [
      "[0, 1, 4, 9, 16, 25, 36, 49, 64, 81]\n"
     ]
    },
    {
     "data": {
      "text/plain": [
       "[0, 1, 4, 9, 16, 25, 36, 49, 64, 81]"
      ]
     },
     "execution_count": 3,
     "metadata": {},
     "output_type": "execute_result"
    }
   ],
   "source": [
    "# non-comprehension way\n",
    "squares = []\n",
    "for x in range(10):\n",
    "    squares.append(x**2)\n",
    "print(squares)\n",
    "\n",
    "# alternate way\n",
    "squares2 = list(map(lambda x: x**2, range(10)))\n",
    "squares2"
   ]
  },
  {
   "cell_type": "markdown",
   "metadata": {},
   "source": [
    "### Basic list comprehension"
   ]
  },
  {
   "cell_type": "code",
   "execution_count": 4,
   "metadata": {},
   "outputs": [
    {
     "data": {
      "text/plain": [
       "[0, 1, 4, 9, 16, 25, 36, 49, 64, 81]"
      ]
     },
     "execution_count": 4,
     "metadata": {},
     "output_type": "execute_result"
    }
   ],
   "source": [
    "# list comprehension\n",
    "squares = [x**2 for x in range(10)]\n",
    "squares"
   ]
  },
  {
   "cell_type": "markdown",
   "metadata": {},
   "source": [
    "### Using if clause in list comprehension"
   ]
  },
  {
   "cell_type": "code",
   "execution_count": 5,
   "metadata": {},
   "outputs": [
    {
     "data": {
      "text/plain": [
       "[1, 9, 25, 49, 81, 121, 169, 225, 289, 361]"
      ]
     },
     "execution_count": 5,
     "metadata": {},
     "output_type": "execute_result"
    }
   ],
   "source": [
    "# use if in list comprehension to filter source values\n",
    "odd_squares = [x**2 for x in range(20) if x % 2 == 1]\n",
    "odd_squares"
   ]
  },
  {
   "cell_type": "markdown",
   "metadata": {},
   "source": [
    "### Multiple variables in list comprehension"
   ]
  },
  {
   "cell_type": "code",
   "execution_count": 8,
   "metadata": {},
   "outputs": [
    {
     "name": "stdout",
     "output_type": "stream",
     "text": [
      "[(1, 4), (1, 5), (1, 6), (2, 4), (2, 5), (2, 6), (3, 4), (3, 5), (3, 6)]\n",
      "[(1, 4), (1, 5), (1, 6), (2, 4), (2, 5), (2, 6), (3, 4), (3, 5), (3, 6)]\n"
     ]
    }
   ],
   "source": [
    "# multi-variable list comprehension\n",
    "lc = [(x,y) for x in [1,2,3] for y in [4,5,6]]\n",
    "print(lc)\n",
    "\n",
    "# equivalent imperitive code\n",
    "lc = []\n",
    "for x in [1,2,3]:\n",
    "    for y in [4,5,6]:\n",
    "        lc.append((x,y))\n",
    "print(lc)"
   ]
  },
  {
   "cell_type": "markdown",
   "metadata": {},
   "source": [
    "### Multiple variables with if clause"
   ]
  },
  {
   "cell_type": "code",
   "execution_count": 11,
   "metadata": {},
   "outputs": [
    {
     "name": "stdout",
     "output_type": "stream",
     "text": [
      "[(1, 4), (1, 2), (1, 6), (2, 4), (2, 6), (3, 4), (3, 2), (3, 6)]\n",
      "[(1, 4), (1, 2), (1, 6), (2, 4), (2, 6), (3, 4), (3, 2), (3, 6)]\n"
     ]
    }
   ],
   "source": [
    "# multi-variable list comprehension\n",
    "lc = [(x,y) for x in [1,2,3] for y in [4,2,6] if x != y]\n",
    "print(lc)\n",
    "\n",
    "# equivalent imperitive code\n",
    "lc = []\n",
    "for x in [1,2,3]:\n",
    "    for y in [4,2,6]:\n",
    "        if x != y:\n",
    "            lc.append((x,y))\n",
    "print(lc)"
   ]
  },
  {
   "cell_type": "markdown",
   "metadata": {},
   "source": [
    "### Multiple variables - using outer variable in inner for"
   ]
  },
  {
   "cell_type": "code",
   "execution_count": 12,
   "metadata": {},
   "outputs": [
    {
     "data": {
      "text/plain": [
       "[(1, 1),\n",
       " (1, 2),\n",
       " (1, 3),\n",
       " (1, 4),\n",
       " (2, 2),\n",
       " (2, 3),\n",
       " (2, 4),\n",
       " (3, 3),\n",
       " (3, 4),\n",
       " (4, 4)]"
      ]
     },
     "execution_count": 12,
     "metadata": {},
     "output_type": "execute_result"
    }
   ],
   "source": [
    "# later for clause can use earlier variable\n",
    "lc = [(x,y) for x in range(1,5) for y in range(x,5) ]\n",
    "lc"
   ]
  },
  {
   "cell_type": "markdown",
   "metadata": {},
   "source": [
    "### Nested list comprehensions"
   ]
  },
  {
   "cell_type": "code",
   "execution_count": 23,
   "metadata": {},
   "outputs": [
    {
     "name": "stdout",
     "output_type": "stream",
     "text": [
      "[[0, 1, 2, 3], [4, 5, 6, 7], [8, 9, 10, 11]]\n",
      "[[0, 4, 8], [1, 5, 9], [2, 6, 10], [3, 7, 11]]\n",
      "[[0, 4, 8], [1, 5, 9], [2, 6, 10], [3, 7, 11]]\n"
     ]
    }
   ],
   "source": [
    "# create a 3x4 matrix with nested list comprehension\n",
    "m = [[i*4+j for j in range(4)] for i in range(3)]\n",
    "print(m)\n",
    "\n",
    "# now transpose the matrix\n",
    "m_t = [[row[i] for row in m] for i in range(4)]\n",
    "print(m_t)\n",
    "\n",
    "# equivalent to\n",
    "m_t2 = []\n",
    "for i in range(4):\n",
    "    row_t = []\n",
    "    for row in m:\n",
    "        row_t.append(row[i])\n",
    "    m_t2.append(row_t)\n",
    "print(mt2)"
   ]
  },
  {
   "cell_type": "code",
   "execution_count": null,
   "metadata": {},
   "outputs": [],
   "source": []
  }
 ],
 "metadata": {
  "kernelspec": {
   "display_name": "Python 3",
   "language": "python",
   "name": "python3"
  },
  "language_info": {
   "codemirror_mode": {
    "name": "ipython",
    "version": 3
   },
   "file_extension": ".py",
   "mimetype": "text/x-python",
   "name": "python",
   "nbconvert_exporter": "python",
   "pygments_lexer": "ipython3",
   "version": "3.7.1"
  }
 },
 "nbformat": 4,
 "nbformat_minor": 2
}
