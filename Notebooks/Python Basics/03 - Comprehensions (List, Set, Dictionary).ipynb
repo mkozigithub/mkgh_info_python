{
 "cells": [
  {
   "cell_type": "markdown",
   "metadata": {},
   "source": [
    "# Comprehensions"
   ]
  },
  {
   "cell_type": "markdown",
   "metadata": {},
   "source": [
    "## List Comprehensions\n",
    "see python tutorial: [List Comprehensions](https://docs.python.org/3/tutorial/datastructures.html#list-comprehensions)"
   ]
  },
  {
   "cell_type": "code",
   "execution_count": 2,
   "metadata": {},
   "outputs": [
    {
     "name": "stdout",
     "output_type": "stream",
     "text": [
      "[0, 1, 4, 9, 16, 25, 36, 49, 64, 81]\n"
     ]
    },
    {
     "data": {
      "text/plain": [
       "[0, 1, 4, 9, 16, 25, 36, 49, 64, 81]"
      ]
     },
     "execution_count": 2,
     "metadata": {},
     "output_type": "execute_result"
    }
   ],
   "source": [
    "# non-comprehension way\n",
    "squares = []\n",
    "for x in range(10):\n",
    "    squares.append(x**2)\n",
    "print(squares)\n",
    "\n",
    "# alternate way\n",
    "squares2 = list(map(lambda x: x**2, range(10)))\n",
    "squares2"
   ]
  },
  {
   "cell_type": "markdown",
   "metadata": {},
   "source": [
    "### Basic list comprehension"
   ]
  },
  {
   "cell_type": "code",
   "execution_count": 3,
   "metadata": {},
   "outputs": [
    {
     "data": {
      "text/plain": [
       "[0, 1, 4, 9, 16, 25, 36, 49, 64, 81]"
      ]
     },
     "execution_count": 3,
     "metadata": {},
     "output_type": "execute_result"
    }
   ],
   "source": [
    "# list comprehension\n",
    "squares = [x**2 for x in range(10)]\n",
    "squares"
   ]
  },
  {
   "cell_type": "markdown",
   "metadata": {},
   "source": [
    "### Using if clause in list comprehension"
   ]
  },
  {
   "cell_type": "code",
   "execution_count": 4,
   "metadata": {},
   "outputs": [
    {
     "data": {
      "text/plain": [
       "[1, 9, 25, 49, 81, 121, 169, 225, 289, 361]"
      ]
     },
     "execution_count": 4,
     "metadata": {},
     "output_type": "execute_result"
    }
   ],
   "source": [
    "# use if in list comprehension to filter source values\n",
    "odd_squares = [x**2 for x in range(20) if x % 2 == 1]\n",
    "odd_squares"
   ]
  },
  {
   "cell_type": "markdown",
   "metadata": {},
   "source": [
    "### Multiple variables in list comprehension"
   ]
  },
  {
   "cell_type": "code",
   "execution_count": 5,
   "metadata": {},
   "outputs": [
    {
     "name": "stdout",
     "output_type": "stream",
     "text": [
      "[(1, 4), (1, 5), (1, 6), (2, 4), (2, 5), (2, 6), (3, 4), (3, 5), (3, 6)]\n",
      "[(1, 4), (1, 5), (1, 6), (2, 4), (2, 5), (2, 6), (3, 4), (3, 5), (3, 6)]\n"
     ]
    }
   ],
   "source": [
    "# multi-variable list comprehension\n",
    "lc = [(x,y) for x in [1,2,3] for y in [4,5,6]]\n",
    "print(lc)\n",
    "\n",
    "# equivalent imperitive code\n",
    "lc = []\n",
    "for x in [1,2,3]:\n",
    "    for y in [4,5,6]:\n",
    "        lc.append((x,y))\n",
    "print(lc)"
   ]
  },
  {
   "cell_type": "markdown",
   "metadata": {},
   "source": [
    "### Multiple variables with if clause"
   ]
  },
  {
   "cell_type": "code",
   "execution_count": 6,
   "metadata": {},
   "outputs": [
    {
     "name": "stdout",
     "output_type": "stream",
     "text": [
      "[(1, 4), (1, 2), (1, 6), (2, 4), (2, 6), (3, 4), (3, 2), (3, 6)]\n",
      "[(1, 4), (1, 2), (1, 6), (2, 4), (2, 6), (3, 4), (3, 2), (3, 6)]\n"
     ]
    }
   ],
   "source": [
    "# multi-variable list comprehension\n",
    "lc = [(x,y) for x in [1,2,3] for y in [4,2,6] if x != y]\n",
    "print(lc)\n",
    "\n",
    "# equivalent imperitive code\n",
    "lc = []\n",
    "for x in [1,2,3]:\n",
    "    for y in [4,2,6]:\n",
    "        if x != y:\n",
    "            lc.append((x,y))\n",
    "print(lc)"
   ]
  },
  {
   "cell_type": "markdown",
   "metadata": {},
   "source": [
    "### Multiple variables - using outer variable in inner for"
   ]
  },
  {
   "cell_type": "code",
   "execution_count": 7,
   "metadata": {},
   "outputs": [
    {
     "data": {
      "text/plain": [
       "[(1, 1),\n",
       " (1, 2),\n",
       " (1, 3),\n",
       " (1, 4),\n",
       " (2, 2),\n",
       " (2, 3),\n",
       " (2, 4),\n",
       " (3, 3),\n",
       " (3, 4),\n",
       " (4, 4)]"
      ]
     },
     "execution_count": 7,
     "metadata": {},
     "output_type": "execute_result"
    }
   ],
   "source": [
    "# later for clause can use earlier variable\n",
    "lc = [(x,y) for x in range(1,5) for y in range(x,5) ]\n",
    "lc"
   ]
  },
  {
   "cell_type": "markdown",
   "metadata": {},
   "source": [
    "### Nested list comprehensions"
   ]
  },
  {
   "cell_type": "code",
   "execution_count": 8,
   "metadata": {},
   "outputs": [
    {
     "name": "stdout",
     "output_type": "stream",
     "text": [
      "[[0, 1, 2, 3], [4, 5, 6, 7], [8, 9, 10, 11]]\n",
      "[[0, 4, 8], [1, 5, 9], [2, 6, 10], [3, 7, 11]]\n"
     ]
    },
    {
     "ename": "NameError",
     "evalue": "name 'mt2' is not defined",
     "output_type": "error",
     "traceback": [
      "\u001b[1;31m---------------------------------------------------------------------------\u001b[0m",
      "\u001b[1;31mNameError\u001b[0m                                 Traceback (most recent call last)",
      "\u001b[1;32m<ipython-input-8-ba621c179ef2>\u001b[0m in \u001b[0;36m<module>\u001b[1;34m\u001b[0m\n\u001b[0;32m     14\u001b[0m         \u001b[0mrow_t\u001b[0m\u001b[1;33m.\u001b[0m\u001b[0mappend\u001b[0m\u001b[1;33m(\u001b[0m\u001b[0mrow\u001b[0m\u001b[1;33m[\u001b[0m\u001b[0mi\u001b[0m\u001b[1;33m]\u001b[0m\u001b[1;33m)\u001b[0m\u001b[1;33m\u001b[0m\u001b[1;33m\u001b[0m\u001b[0m\n\u001b[0;32m     15\u001b[0m     \u001b[0mm_t2\u001b[0m\u001b[1;33m.\u001b[0m\u001b[0mappend\u001b[0m\u001b[1;33m(\u001b[0m\u001b[0mrow_t\u001b[0m\u001b[1;33m)\u001b[0m\u001b[1;33m\u001b[0m\u001b[1;33m\u001b[0m\u001b[0m\n\u001b[1;32m---> 16\u001b[1;33m \u001b[0mprint\u001b[0m\u001b[1;33m(\u001b[0m\u001b[0mmt2\u001b[0m\u001b[1;33m)\u001b[0m\u001b[1;33m\u001b[0m\u001b[1;33m\u001b[0m\u001b[0m\n\u001b[0m",
      "\u001b[1;31mNameError\u001b[0m: name 'mt2' is not defined"
     ]
    }
   ],
   "source": [
    "# create a 3x4 matrix with nested list comprehension\n",
    "m = [[i*4+j for j in range(4)] for i in range(3)]\n",
    "print(m)\n",
    "\n",
    "# now transpose the matrix\n",
    "m_t = [[row[i] for row in m] for i in range(4)]\n",
    "print(m_t)\n",
    "\n",
    "# equivalent to\n",
    "m_t2 = []\n",
    "for i in range(4):\n",
    "    row_t = []\n",
    "    for row in m:\n",
    "        row_t.append(row[i])\n",
    "    m_t2.append(row_t)\n",
    "print(mt2)"
   ]
  },
  {
   "cell_type": "markdown",
   "metadata": {},
   "source": [
    "## Set Comprehensions\n",
    "Similar to list comprehension, Set comprehensions are also available.  The difference is that Set comprehensions use {} instead of list comprehensions []."
   ]
  },
  {
   "cell_type": "code",
   "execution_count": 13,
   "metadata": {},
   "outputs": [
    {
     "name": "stdout",
     "output_type": "stream",
     "text": [
      "<class 'set'>\n"
     ]
    },
    {
     "data": {
      "text/plain": [
       "{'d', 'r'}"
      ]
     },
     "execution_count": 13,
     "metadata": {},
     "output_type": "execute_result"
    }
   ],
   "source": [
    "a = {x for x in 'abracadabra' if x not in 'abc'}\n",
    "print(type(a))\n",
    "a"
   ]
  },
  {
   "cell_type": "code",
   "execution_count": 14,
   "metadata": {},
   "outputs": [
    {
     "name": "stdout",
     "output_type": "stream",
     "text": [
      "<class 'set'>\n"
     ]
    },
    {
     "data": {
      "text/plain": [
       "{'a:x',\n",
       " 'a:y',\n",
       " 'a:z',\n",
       " 'b:x',\n",
       " 'b:y',\n",
       " 'b:z',\n",
       " 'c:x',\n",
       " 'c:y',\n",
       " 'c:z',\n",
       " 'd:x',\n",
       " 'd:y',\n",
       " 'd:z'}"
      ]
     },
     "execution_count": 14,
     "metadata": {},
     "output_type": "execute_result"
    }
   ],
   "source": [
    "a = {f'{x}:{y}' for x in 'abcdabc' for y in 'xyzzyx'}\n",
    "print(type(a))\n",
    "a"
   ]
  },
  {
   "cell_type": "markdown",
   "metadata": {},
   "source": [
    "## Dictionary Comprehensions\n",
    "Dictionary comprehensions are also available.  They are surrounded with curly braces {}, and require the output expression to include a key and value (key:value)."
   ]
  },
  {
   "cell_type": "code",
   "execution_count": 16,
   "metadata": {},
   "outputs": [
    {
     "name": "stdout",
     "output_type": "stream",
     "text": [
      "<class 'dict'>\n"
     ]
    },
    {
     "data": {
      "text/plain": [
       "{'10': 100,\n",
       " '11': 121,\n",
       " '12': 144,\n",
       " '13': 169,\n",
       " '14': 196,\n",
       " '15': 225,\n",
       " '16': 256,\n",
       " '17': 289,\n",
       " '18': 324,\n",
       " '19': 361}"
      ]
     },
     "execution_count": 16,
     "metadata": {},
     "output_type": "execute_result"
    }
   ],
   "source": [
    "d = {str(x):x**2 for x in range(10,20)}\n",
    "print(type(d))\n",
    "d"
   ]
  },
  {
   "cell_type": "markdown",
   "metadata": {},
   "source": [
    "## Generator Comprehensions\n",
    "Similar to list comprehensions, except they don't allocate memory for the whole list when created.  Instead, they generate the values as they are requested, so they can be more memory efficient."
   ]
  },
  {
   "cell_type": "code",
   "execution_count": 24,
   "metadata": {},
   "outputs": [
    {
     "name": "stdout",
     "output_type": "stream",
     "text": [
      "515377520732011331036461129765621272702107522001\n",
      "<generator object <genexpr> at 0x000002387F3601B0>\n",
      "0\n",
      "1\n",
      "2\n",
      "3\n",
      "4\n",
      "5\n"
     ]
    }
   ],
   "source": [
    "x = 3**100\n",
    "print(x)\n",
    "gen = (i for i in range(x))\n",
    "print(gen)\n",
    "\n",
    "n = 0\n",
    "while n < 5:\n",
    "    n = next(gen)\n",
    "    print(n)\n",
    "    "
   ]
  }
 ],
 "metadata": {
  "kernelspec": {
   "display_name": "Python 3",
   "language": "python",
   "name": "python3"
  },
  "language_info": {
   "codemirror_mode": {
    "name": "ipython",
    "version": 3
   },
   "file_extension": ".py",
   "mimetype": "text/x-python",
   "name": "python",
   "nbconvert_exporter": "python",
   "pygments_lexer": "ipython3",
   "version": "3.7.1"
  }
 },
 "nbformat": 4,
 "nbformat_minor": 2
}
