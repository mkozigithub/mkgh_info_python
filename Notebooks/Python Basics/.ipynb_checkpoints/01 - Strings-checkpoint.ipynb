{
 "cells": [
  {
   "cell_type": "markdown",
   "metadata": {},
   "source": [
    "# Strings"
   ]
  },
  {
   "cell_type": "markdown",
   "metadata": {},
   "source": [
    "### String delimiters"
   ]
  },
  {
   "cell_type": "code",
   "execution_count": 5,
   "metadata": {},
   "outputs": [
    {
     "name": "stdout",
     "output_type": "stream",
     "text": [
      "this is a string (\"str\")\n",
      "this is also a string ('str')\n"
     ]
    }
   ],
   "source": [
    "# can use single quotes (' ') or double quotes (\" \") or both\n",
    "print('this is a string (\"str\")')\n",
    "print(\"this is also a string ('str')\")"
   ]
  },
  {
   "cell_type": "markdown",
   "metadata": {},
   "source": [
    "### Adjacent strings"
   ]
  },
  {
   "cell_type": "code",
   "execution_count": 6,
   "metadata": {},
   "outputs": [
    {
     "data": {
      "text/plain": [
       "'one two three'"
      ]
     },
     "execution_count": 6,
     "metadata": {},
     "output_type": "execute_result"
    }
   ],
   "source": [
    "# adjacent strings are automatically concatenated\n",
    "str1 = \"one \" \"two \" \"three\"\n",
    "str1"
   ]
  },
  {
   "cell_type": "markdown",
   "metadata": {},
   "source": [
    "### Multiline strings"
   ]
  },
  {
   "cell_type": "code",
   "execution_count": 8,
   "metadata": {},
   "outputs": [
    {
     "name": "stdout",
     "output_type": "stream",
     "text": [
      "A\n",
      "multi\n",
      "line\n",
      "string\n",
      "\n"
     ]
    }
   ],
   "source": [
    "# multiline string\n",
    "multiline = \"\"\"A\n",
    "multi\n",
    "line\n",
    "string\n",
    "\"\"\"\n",
    "print(multiline)"
   ]
  },
  {
   "cell_type": "code",
   "execution_count": 10,
   "metadata": {},
   "outputs": [
    {
     "name": "stdout",
     "output_type": "stream",
     "text": [
      "Can\n",
      "also\n",
      "use\n",
      "single quotes\n",
      "\n"
     ]
    }
   ],
   "source": [
    "# multiline string\n",
    "multiline = '''Can\n",
    "also\n",
    "use\n",
    "single quotes\n",
    "'''\n",
    "print(multiline)"
   ]
  },
  {
   "cell_type": "markdown",
   "metadata": {},
   "source": [
    "### Raw strings"
   ]
  },
  {
   "cell_type": "code",
   "execution_count": 13,
   "metadata": {},
   "outputs": [
    {
     "name": "stdout",
     "output_type": "stream",
     "text": [
      "C:\\Users\\Bob\\New\n"
     ]
    }
   ],
   "source": [
    "# print('C:\\Users\\Bob\\New') # \\u is processed as unicode, raises error\n",
    "print(r'C:\\Users\\Bob\\New')  # this does not process \\ as escape"
   ]
  },
  {
   "cell_type": "markdown",
   "metadata": {},
   "source": [
    "### String conversion"
   ]
  },
  {
   "cell_type": "code",
   "execution_count": 14,
   "metadata": {},
   "outputs": [
    {
     "name": "stdout",
     "output_type": "stream",
     "text": [
      "496\n",
      "6.02e+23\n",
      "True\n"
     ]
    }
   ],
   "source": [
    "print(str(496))\n",
    "print(str(6.02e23))\n",
    "print(str(True))"
   ]
  },
  {
   "cell_type": "markdown",
   "metadata": {},
   "source": [
    "### Sequence functionality"
   ]
  },
  {
   "cell_type": "code",
   "execution_count": 15,
   "metadata": {},
   "outputs": [
    {
     "name": "stdout",
     "output_type": "stream",
     "text": [
      "o\n",
      "<class 'str'>\n"
     ]
    }
   ],
   "source": [
    "s = 'parrot'\n",
    "print(s[4])\n",
    "print(type(s[4]))"
   ]
  },
  {
   "cell_type": "markdown",
   "metadata": {},
   "source": [
    "### Interpolated strings ([pep 498](https://www.python.org/dev/peps/pep-0498/))"
   ]
  },
  {
   "cell_type": "code",
   "execution_count": 16,
   "metadata": {},
   "outputs": [
    {
     "name": "stdout",
     "output_type": "stream",
     "text": [
      "oslo capitalized: Oslo\n"
     ]
    }
   ],
   "source": [
    "c = 'oslo'\n",
    "print(f\"{c} capitalized: {c.capitalize()}\")"
   ]
  },
  {
   "cell_type": "markdown",
   "metadata": {},
   "source": [
    "### Formatted strings (see pythong doc: [string](https://docs.python.org/3.4/library/string.html))"
   ]
  },
  {
   "cell_type": "code",
   "execution_count": 18,
   "metadata": {},
   "outputs": [
    {
     "name": "stdout",
     "output_type": "stream",
     "text": [
      "oslo capitalized: Oslo\n"
     ]
    }
   ],
   "source": [
    "c = 'oslo'\n",
    "print(\"{} capitalized: {}\".format(c, c.capitalize()))"
   ]
  }
 ],
 "metadata": {
  "kernelspec": {
   "display_name": "Python 3",
   "language": "python",
   "name": "python3"
  },
  "language_info": {
   "codemirror_mode": {
    "name": "ipython",
    "version": 3
   },
   "file_extension": ".py",
   "mimetype": "text/x-python",
   "name": "python",
   "nbconvert_exporter": "python",
   "pygments_lexer": "ipython3",
   "version": "3.7.1"
  }
 },
 "nbformat": 4,
 "nbformat_minor": 2
}
