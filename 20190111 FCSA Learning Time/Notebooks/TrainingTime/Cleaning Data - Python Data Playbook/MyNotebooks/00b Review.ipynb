{
 "cells": [
  {
   "cell_type": "markdown",
   "metadata": {},
   "source": [
    "# Review for Section of Course"
   ]
  },
  {
   "cell_type": "markdown",
   "metadata": {},
   "source": [
    "## 01 Understanding Your Data"
   ]
  },
  {
   "cell_type": "markdown",
   "metadata": {},
   "source": [
    "|Command|Notes|\n",
    "|-------|-----|\n",
    "|df.dtypes|View the data types of columns|\n",
    "|df['year'].astype(float)|Convert column to a new type|\n",
    "|df['year] = df['year'].astype(float)|Assign converted type back to dataframe|\n",
    "|pd.to_numeric(df.height, errors=\"coerce\")|Coerse conversion errors - conversion errors are set to 'nan' |\n",
    "|df['year'].min()|Call aggregation function on series|\n",
    "|df.agg(['min','max','mean','std'])|Use .agg to call multiple functions on dataframe|\n",
    "|(c - c.mean() / c.std()|Standardize column data around 0|\n",
    "|(c - c.min()) / (c.max() - c.min())|Noramalize column data between 0 and 1|\n",
    "|df['normalized_column'] = new_values|Assign normalized values back to dataframe as a new column|\n",
    "|||"
   ]
  },
  {
   "cell_type": "code",
   "execution_count": null,
   "metadata": {},
   "outputs": [],
   "source": []
  }
 ],
 "metadata": {
  "kernelspec": {
   "display_name": "Python 3",
   "language": "python",
   "name": "python3"
  },
  "language_info": {
   "codemirror_mode": {
    "name": "ipython",
    "version": 3
   },
   "file_extension": ".py",
   "mimetype": "text/x-python",
   "name": "python",
   "nbconvert_exporter": "python",
   "pygments_lexer": "ipython3",
   "version": "3.7.1"
  }
 },
 "nbformat": 4,
 "nbformat_minor": 2
}
