{
 "cells": [
  {
   "cell_type": "markdown",
   "metadata": {},
   "source": [
    "# Cleaning Data: Python Data Playbook\n",
    "Course: [link](https://app.pluralsight.com/library/courses/cleaning-data-python-data-playbook/table-of-contents)  \n",
    "Author: [Chris Achard\n",
    "](https://app.pluralsight.com/profile/author/chris-achard)  \n",
    "Dataset: [link](https://www.tate.org.uk/about-us/digital/collection-data)  \n",
    "\n",
    "## Setup\n",
    "### Python Environment\n",
    "* Install Anaconda:\n",
    "    Anaconda: [site](https://www.anaconda.com/) | [download](https://www.anaconda.com/download/) | [docs](https://docs.anaconda.com/anaconda/#)\n",
    "* Create Anaconda Environment:  \n",
    "    ```\n",
    "    > python --version\n",
    "    > conda --version\n",
    "    > where conda\n",
    "    > conda create --help\n",
    "    > conda create -n training numpy --dry-run\n",
    "    > conda create -n training numpy\n",
    "    > activate training\n",
    "    (training) > conda install pandas\n",
    "    (training) > conda install matplotlib\n",
    "    (training) > conda install jupyter\n",
    "    (training) > conda list\n",
    "    ```\n",
    "* Launch Jupyter in project root directory\n",
    "    ```\n",
    "    (training) > jupyter notebook\n",
    "    ```"
   ]
  },
  {
   "cell_type": "code",
   "execution_count": null,
   "metadata": {},
   "outputs": [],
   "source": []
  }
 ],
 "metadata": {
  "kernelspec": {
   "display_name": "Python 3",
   "language": "python",
   "name": "python3"
  },
  "language_info": {
   "codemirror_mode": {
    "name": "ipython",
    "version": 3
   },
   "file_extension": ".py",
   "mimetype": "text/x-python",
   "name": "python",
   "nbconvert_exporter": "python",
   "pygments_lexer": "ipython3",
   "version": "3.7.1"
  }
 },
 "nbformat": 4,
 "nbformat_minor": 2
}
