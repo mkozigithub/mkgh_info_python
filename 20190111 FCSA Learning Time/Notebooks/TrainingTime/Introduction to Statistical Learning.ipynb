{
 "cells": [
  {
   "cell_type": "markdown",
   "metadata": {},
   "source": [
    "## An Introductin to Statisctical Learning (7th ed.)\n",
    "Url: http://www-bcf.usc.edu/~gareth/ISL/  "
   ]
  },
  {
   "cell_type": "code",
   "execution_count": 1,
   "metadata": {},
   "outputs": [
    {
     "data": {
      "text/html": [
       "<style>\n",
       "table {float:left}\n",
       "</style>\n"
      ],
      "text/plain": [
       "<IPython.core.display.HTML object>"
      ]
     },
     "metadata": {},
     "output_type": "display_data"
    }
   ],
   "source": [
    "# this will left align the markdown tables\n",
    "%%html\n",
    "<style>\n",
    "table {float:left}\n",
    "</style>"
   ]
  },
  {
   "cell_type": "markdown",
   "metadata": {},
   "source": [
    "## Book Notation Conventions\n",
    "|notation|example|explaination|\n",
    "| --- | --- | --- |\n",
    "| $n$ | &nbsp; | number of observations |\n",
    "| $p$ | &nbsp; | number of variables available for prediction |\n",
    "| $x_{i,j}$ | &nbsp; | $j^{th}$ variable for the $i^{th}$ observationp, where $i$ = 1,2,..,$n$ and $j$ = 1,2,...,$p$ |\n",
    "| $X$ | &nbsp; | $n$ x $p$ matrix whose $(i,j)$th element is $x_{i,j}$ |\n",
    "| &nbsp; | &nbsp; | $X = \\begin{pmatrix}x_{1,1} & x_{1,2} & ... & x_{1,p}\\\\. & . & ... & .\\\\x_{n,1} & x_{n,2} & ... & x_{n,p}\\end{pmatrix}$ |\n",
    "| rows of $X$ | &nbsp; | $X = x_1, x_2, ..., x_n$ |\n",
    "| $x_i$ | &nbsp; | row of $X$: $x_i = \\begin{pmatrix}x_{i,1} \\\\ x_{i,2} \\\\ .. \\\\ .. \\\\ x_{i,p}\\end{pmatrix}$ |\n",
    "| columns of $X$ | &nbsp; | $X = \\bf{x_1}, \\pmb{x_2}, ..., \\bf{x_n}$ |\n",
    "| $\\pmb{x_j}$ | &nbsp; | column of $X$: $\\bf{x_j} = \\begin{pmatrix}x_{1,j} \\\\ x_{2,j} \\\\ .. \\\\ .. \\\\ x_{n,j}\\end{pmatrix}$ |\n",
    "| $X$ | &nbsp; | $X = (\\bf{x_1}, \\bf{x_2}, ..., \\bf{x_n}) = \\begin{pmatrix}x_1^T \\\\ x_2^T \\\\ .. \\\\ .. \\\\ x_n^T \\end{pmatrix}$ |\n",
    "| &nbsp; | &nbsp; | $x_i^T = (x_{i,1} \\; x_{i,2} \\; ... \\; x_{i,p})$ |\n",
    "| $\\bf{y}$ | &nbsp; | prediction values: $\\bf{y} = \\begin{pmatrix}y_1 \\\\ y_2 \\\\ .. \\\\ y_n\\end{pmatrix}$ |\n",
    "| $\\bf{a}$ | &nbsp; | vector of length $n$: $\\bf{a} = \\begin{pmatrix}a_1 \\\\ a_2 \\\\ .. \\\\ a_n\\end{pmatrix}$ |\n",
    "| $a$ | &nbsp; | vector of length  not equal to $n$: $a = \\begin{pmatrix}a_1 \\\\ a_2 \\\\ .. \\\\ a_m\\end{pmatrix}$ |\n",
    "| $\\bf{A}$ | &nbsp; | matrices denoted in bold capital |\n",
    "| $A$ | &nbsp; | random variable in noraml capital |\n",
    "| $a \\in \\mathbb{R}$ | &nbsp; | a scalar value |\n",
    "| $a \\in \\mathbb{R}^k$ | &nbsp; | a vector of length $k$ |\n",
    "| $a \\in \\mathbb{R}^{r \\times s}$ | &nbsp; | a matrix with $r$ rows and $s$ columns |"
   ]
  },
  {
   "cell_type": "markdown",
   "metadata": {},
   "source": [
    "## Mean Squared Error (MSE)\n",
    "$$MSE = \\frac{1}{n} \\sum_{i=1}^n(y_i - \\hat{f}(x_i))^2$$"
   ]
  },
  {
   "cell_type": "code",
   "execution_count": null,
   "metadata": {},
   "outputs": [],
   "source": []
  }
 ],
 "metadata": {
  "kernelspec": {
   "display_name": "Python 3",
   "language": "python",
   "name": "python3"
  },
  "language_info": {
   "codemirror_mode": {
    "name": "ipython",
    "version": 3
   },
   "file_extension": ".py",
   "mimetype": "text/x-python",
   "name": "python",
   "nbconvert_exporter": "python",
   "pygments_lexer": "ipython3",
   "version": "3.7.1"
  }
 },
 "nbformat": 4,
 "nbformat_minor": 2
}
