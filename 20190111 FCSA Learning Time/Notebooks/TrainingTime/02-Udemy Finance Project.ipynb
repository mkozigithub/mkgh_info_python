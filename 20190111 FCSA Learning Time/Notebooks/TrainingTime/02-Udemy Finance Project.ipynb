{
 "cells": [
  {
   "cell_type": "markdown",
   "metadata": {},
   "source": [
    "Source of this notebook: [Udemy: Python for Data Science and Machine Learning Bootcamp](https://www.udemy.com/python-for-data-science-and-machine-learning-bootcamp) by Jose Portilla"
   ]
  },
  {
   "cell_type": "code",
   "execution_count": 1,
   "metadata": {},
   "outputs": [],
   "source": [
    "from pandas_datareader import data, wb\n",
    "import pandas as pd\n",
    "import numpy as np\n",
    "import datetime\n",
    "import seaborn as sns\n",
    "%matplotlib inline"
   ]
  },
  {
   "cell_type": "markdown",
   "metadata": {},
   "source": [
    "## Data\n",
    "\n",
    "We need to get data using pandas [datareader](https://pandas-datareader.readthedocs.io/en/latest/remote_data.html). We will get stock information for the following banks:\n",
    "*  Bank of America\n",
    "* CitiGroup\n",
    "* Goldman Sachs\n",
    "* JPMorgan Chase\n",
    "* Morgan Stanley\n",
    "* Wells Fargo"
   ]
  },
  {
   "cell_type": "markdown",
   "metadata": {},
   "source": [
    "## Read the data from remote server"
   ]
  },
  {
   "cell_type": "code",
   "execution_count": 2,
   "metadata": {},
   "outputs": [],
   "source": [
    "start = datetime.datetime(2013,12,31)\n",
    "end = datetime.datetime(2019,1,1)"
   ]
  },
  {
   "cell_type": "code",
   "execution_count": 4,
   "metadata": {},
   "outputs": [],
   "source": [
    "# needed due to issue with firewall\n",
    "import requests\n",
    "session = requests.Session()\n",
    "session.verify = False #SSL verification will be turned OFF, requests will give you an InsecureRequestWarning"
   ]
  },
  {
   "cell_type": "code",
   "execution_count": 6,
   "metadata": {},
   "outputs": [
    {
     "name": "stderr",
     "output_type": "stream",
     "text": [
      "C:\\Users\\kozisekm\\AppData\\Local\\Continuum\\anaconda3\\envs\\training\\lib\\site-packages\\urllib3\\connectionpool.py:847: InsecureRequestWarning: Unverified HTTPS request is being made. Adding certificate verification is strongly advised. See: https://urllib3.readthedocs.io/en/latest/advanced-usage.html#ssl-warnings\n",
      "  InsecureRequestWarning)\n",
      "C:\\Users\\kozisekm\\AppData\\Local\\Continuum\\anaconda3\\envs\\training\\lib\\site-packages\\urllib3\\connectionpool.py:847: InsecureRequestWarning: Unverified HTTPS request is being made. Adding certificate verification is strongly advised. See: https://urllib3.readthedocs.io/en/latest/advanced-usage.html#ssl-warnings\n",
      "  InsecureRequestWarning)\n",
      "C:\\Users\\kozisekm\\AppData\\Local\\Continuum\\anaconda3\\envs\\training\\lib\\site-packages\\urllib3\\connectionpool.py:847: InsecureRequestWarning: Unverified HTTPS request is being made. Adding certificate verification is strongly advised. See: https://urllib3.readthedocs.io/en/latest/advanced-usage.html#ssl-warnings\n",
      "  InsecureRequestWarning)\n",
      "C:\\Users\\kozisekm\\AppData\\Local\\Continuum\\anaconda3\\envs\\training\\lib\\site-packages\\urllib3\\connectionpool.py:847: InsecureRequestWarning: Unverified HTTPS request is being made. Adding certificate verification is strongly advised. See: https://urllib3.readthedocs.io/en/latest/advanced-usage.html#ssl-warnings\n",
      "  InsecureRequestWarning)\n",
      "C:\\Users\\kozisekm\\AppData\\Local\\Continuum\\anaconda3\\envs\\training\\lib\\site-packages\\urllib3\\connectionpool.py:847: InsecureRequestWarning: Unverified HTTPS request is being made. Adding certificate verification is strongly advised. See: https://urllib3.readthedocs.io/en/latest/advanced-usage.html#ssl-warnings\n",
      "  InsecureRequestWarning)\n",
      "C:\\Users\\kozisekm\\AppData\\Local\\Continuum\\anaconda3\\envs\\training\\lib\\site-packages\\urllib3\\connectionpool.py:847: InsecureRequestWarning: Unverified HTTPS request is being made. Adding certificate verification is strongly advised. See: https://urllib3.readthedocs.io/en/latest/advanced-usage.html#ssl-warnings\n",
      "  InsecureRequestWarning)\n"
     ]
    }
   ],
   "source": [
    "# get stock infromation from remote server\n",
    "BAC = data.DataReader('BAC', 'iex', start, end, session=session) # Bank of America\n",
    "C = data.DataReader('C','iex',start,end, session=session) #CitiGroup\n",
    "GS = data.DataReader('GS','iex',start,end, session=session) # Goldman Sachs\n",
    "JPM = data.DataReader('JPM','iex',start,end, session=session) # JPMorgan Chase\n",
    "MS = data.DataReader('MS','iex',start,end, session=session) # Morgan Stanley\n",
    "WFC = data.DataReader('WFC','iex',start,end, session=session) # Wells Fargo"
   ]
  },
  {
   "cell_type": "code",
   "execution_count": 7,
   "metadata": {},
   "outputs": [],
   "source": [
    "# Create a list of the ticker symbols (as strings) in alphabetical order.\n",
    "tickers = ['BAC','C','GS','JPM','MS','WFC']"
   ]
  },
  {
   "cell_type": "markdown",
   "metadata": {},
   "source": [
    "## Consolidate data into one dataframe"
   ]
  },
  {
   "cell_type": "code",
   "execution_count": 8,
   "metadata": {},
   "outputs": [
    {
     "data": {
      "text/html": [
       "<div>\n",
       "<style scoped>\n",
       "    .dataframe tbody tr th:only-of-type {\n",
       "        vertical-align: middle;\n",
       "    }\n",
       "\n",
       "    .dataframe tbody tr th {\n",
       "        vertical-align: top;\n",
       "    }\n",
       "\n",
       "    .dataframe thead tr th {\n",
       "        text-align: left;\n",
       "    }\n",
       "\n",
       "    .dataframe thead tr:last-of-type th {\n",
       "        text-align: right;\n",
       "    }\n",
       "</style>\n",
       "<table border=\"1\" class=\"dataframe\">\n",
       "  <thead>\n",
       "    <tr>\n",
       "      <th></th>\n",
       "      <th colspan=\"5\" halign=\"left\">BAC</th>\n",
       "      <th colspan=\"5\" halign=\"left\">C</th>\n",
       "      <th>...</th>\n",
       "      <th colspan=\"5\" halign=\"left\">MS</th>\n",
       "      <th colspan=\"5\" halign=\"left\">WFC</th>\n",
       "    </tr>\n",
       "    <tr>\n",
       "      <th></th>\n",
       "      <th>open</th>\n",
       "      <th>high</th>\n",
       "      <th>low</th>\n",
       "      <th>close</th>\n",
       "      <th>volume</th>\n",
       "      <th>open</th>\n",
       "      <th>high</th>\n",
       "      <th>low</th>\n",
       "      <th>close</th>\n",
       "      <th>volume</th>\n",
       "      <th>...</th>\n",
       "      <th>open</th>\n",
       "      <th>high</th>\n",
       "      <th>low</th>\n",
       "      <th>close</th>\n",
       "      <th>volume</th>\n",
       "      <th>open</th>\n",
       "      <th>high</th>\n",
       "      <th>low</th>\n",
       "      <th>close</th>\n",
       "      <th>volume</th>\n",
       "    </tr>\n",
       "    <tr>\n",
       "      <th>date</th>\n",
       "      <th></th>\n",
       "      <th></th>\n",
       "      <th></th>\n",
       "      <th></th>\n",
       "      <th></th>\n",
       "      <th></th>\n",
       "      <th></th>\n",
       "      <th></th>\n",
       "      <th></th>\n",
       "      <th></th>\n",
       "      <th></th>\n",
       "      <th></th>\n",
       "      <th></th>\n",
       "      <th></th>\n",
       "      <th></th>\n",
       "      <th></th>\n",
       "      <th></th>\n",
       "      <th></th>\n",
       "      <th></th>\n",
       "      <th></th>\n",
       "      <th></th>\n",
       "    </tr>\n",
       "  </thead>\n",
       "  <tbody>\n",
       "    <tr>\n",
       "      <th>2014-01-08</th>\n",
       "      <td>15.5611</td>\n",
       "      <td>15.5797</td>\n",
       "      <td>15.4202</td>\n",
       "      <td>15.4771</td>\n",
       "      <td>101227932</td>\n",
       "      <td>51.6789</td>\n",
       "      <td>52.3547</td>\n",
       "      <td>51.5932</td>\n",
       "      <td>52.1739</td>\n",
       "      <td>26002326</td>\n",
       "      <td>...</td>\n",
       "      <td>28.7932</td>\n",
       "      <td>29.0441</td>\n",
       "      <td>28.6199</td>\n",
       "      <td>28.7932</td>\n",
       "      <td>8930184</td>\n",
       "      <td>39.3699</td>\n",
       "      <td>39.8469</td>\n",
       "      <td>39.3266</td>\n",
       "      <td>39.8209</td>\n",
       "      <td>20907314</td>\n",
       "    </tr>\n",
       "    <tr>\n",
       "      <th>2014-01-09</th>\n",
       "      <td>15.5611</td>\n",
       "      <td>15.8004</td>\n",
       "      <td>15.5097</td>\n",
       "      <td>15.7104</td>\n",
       "      <td>101275343</td>\n",
       "      <td>52.3547</td>\n",
       "      <td>52.6213</td>\n",
       "      <td>52.1263</td>\n",
       "      <td>52.5451</td>\n",
       "      <td>21812007</td>\n",
       "      <td>...</td>\n",
       "      <td>28.8844</td>\n",
       "      <td>28.9574</td>\n",
       "      <td>28.6107</td>\n",
       "      <td>28.7841</td>\n",
       "      <td>7322294</td>\n",
       "      <td>39.8642</td>\n",
       "      <td>40.0637</td>\n",
       "      <td>39.7168</td>\n",
       "      <td>40.0290</td>\n",
       "      <td>14389488</td>\n",
       "    </tr>\n",
       "    <tr>\n",
       "      <th>2014-01-10</th>\n",
       "      <td>15.6358</td>\n",
       "      <td>15.6731</td>\n",
       "      <td>15.5051</td>\n",
       "      <td>15.6544</td>\n",
       "      <td>87682477</td>\n",
       "      <td>52.3833</td>\n",
       "      <td>52.4372</td>\n",
       "      <td>51.6884</td>\n",
       "      <td>52.0882</td>\n",
       "      <td>22496888</td>\n",
       "      <td>...</td>\n",
       "      <td>28.8114</td>\n",
       "      <td>28.8571</td>\n",
       "      <td>28.3735</td>\n",
       "      <td>28.5560</td>\n",
       "      <td>10571296</td>\n",
       "      <td>39.9423</td>\n",
       "      <td>39.9423</td>\n",
       "      <td>39.5694</td>\n",
       "      <td>39.8382</td>\n",
       "      <td>15532776</td>\n",
       "    </tr>\n",
       "    <tr>\n",
       "      <th>2014-01-13</th>\n",
       "      <td>15.6731</td>\n",
       "      <td>15.6824</td>\n",
       "      <td>15.3090</td>\n",
       "      <td>15.3370</td>\n",
       "      <td>90827849</td>\n",
       "      <td>51.8407</td>\n",
       "      <td>52.0311</td>\n",
       "      <td>50.8698</td>\n",
       "      <td>51.1363</td>\n",
       "      <td>21116568</td>\n",
       "      <td>...</td>\n",
       "      <td>28.5560</td>\n",
       "      <td>28.7567</td>\n",
       "      <td>28.0542</td>\n",
       "      <td>28.1637</td>\n",
       "      <td>9605058</td>\n",
       "      <td>39.8555</td>\n",
       "      <td>39.9813</td>\n",
       "      <td>39.4133</td>\n",
       "      <td>39.5087</td>\n",
       "      <td>21059377</td>\n",
       "    </tr>\n",
       "    <tr>\n",
       "      <th>2014-01-14</th>\n",
       "      <td>15.4397</td>\n",
       "      <td>15.6544</td>\n",
       "      <td>15.4304</td>\n",
       "      <td>15.6544</td>\n",
       "      <td>98517898</td>\n",
       "      <td>51.5266</td>\n",
       "      <td>51.7836</td>\n",
       "      <td>51.0506</td>\n",
       "      <td>51.3552</td>\n",
       "      <td>17790818</td>\n",
       "      <td>...</td>\n",
       "      <td>28.0633</td>\n",
       "      <td>28.4830</td>\n",
       "      <td>27.9174</td>\n",
       "      <td>28.3735</td>\n",
       "      <td>13721984</td>\n",
       "      <td>39.4393</td>\n",
       "      <td>39.7515</td>\n",
       "      <td>38.9537</td>\n",
       "      <td>39.5347</td>\n",
       "      <td>28526935</td>\n",
       "    </tr>\n",
       "  </tbody>\n",
       "</table>\n",
       "<p>5 rows × 30 columns</p>\n",
       "</div>"
      ],
      "text/plain": [
       "                BAC                                              C           \\\n",
       "               open     high      low    close     volume     open     high   \n",
       "date                                                                          \n",
       "2014-01-08  15.5611  15.5797  15.4202  15.4771  101227932  51.6789  52.3547   \n",
       "2014-01-09  15.5611  15.8004  15.5097  15.7104  101275343  52.3547  52.6213   \n",
       "2014-01-10  15.6358  15.6731  15.5051  15.6544   87682477  52.3833  52.4372   \n",
       "2014-01-13  15.6731  15.6824  15.3090  15.3370   90827849  51.8407  52.0311   \n",
       "2014-01-14  15.4397  15.6544  15.4304  15.6544   98517898  51.5266  51.7836   \n",
       "\n",
       "                                          ...          MS                    \\\n",
       "                low    close    volume    ...        open     high      low   \n",
       "date                                      ...                                 \n",
       "2014-01-08  51.5932  52.1739  26002326    ...     28.7932  29.0441  28.6199   \n",
       "2014-01-09  52.1263  52.5451  21812007    ...     28.8844  28.9574  28.6107   \n",
       "2014-01-10  51.6884  52.0882  22496888    ...     28.8114  28.8571  28.3735   \n",
       "2014-01-13  50.8698  51.1363  21116568    ...     28.5560  28.7567  28.0542   \n",
       "2014-01-14  51.0506  51.3552  17790818    ...     28.0633  28.4830  27.9174   \n",
       "\n",
       "                                   WFC                                       \n",
       "              close    volume     open     high      low    close    volume  \n",
       "date                                                                         \n",
       "2014-01-08  28.7932   8930184  39.3699  39.8469  39.3266  39.8209  20907314  \n",
       "2014-01-09  28.7841   7322294  39.8642  40.0637  39.7168  40.0290  14389488  \n",
       "2014-01-10  28.5560  10571296  39.9423  39.9423  39.5694  39.8382  15532776  \n",
       "2014-01-13  28.1637   9605058  39.8555  39.9813  39.4133  39.5087  21059377  \n",
       "2014-01-14  28.3735  13721984  39.4393  39.7515  38.9537  39.5347  28526935  \n",
       "\n",
       "[5 rows x 30 columns]"
      ]
     },
     "execution_count": 8,
     "metadata": {},
     "output_type": "execute_result"
    }
   ],
   "source": [
    "# concatenate the individual bank dataframes into one dataframe, using the tickers as a column index\n",
    "bank_stocks = pd.concat([BAC,C,GS,JPM,MS,WFC],keys=tickers,axis=1)\n",
    "bank_stocks.head()"
   ]
  },
  {
   "cell_type": "code",
   "execution_count": 9,
   "metadata": {},
   "outputs": [],
   "source": [
    "# set the names of the column level names for indices\n",
    "bank_stocks.columns.names = ['Bank Ticker','Stock Info']"
   ]
  },
  {
   "cell_type": "code",
   "execution_count": 10,
   "metadata": {},
   "outputs": [
    {
     "data": {
      "text/html": [
       "<div>\n",
       "<style scoped>\n",
       "    .dataframe tbody tr th:only-of-type {\n",
       "        vertical-align: middle;\n",
       "    }\n",
       "\n",
       "    .dataframe tbody tr th {\n",
       "        vertical-align: top;\n",
       "    }\n",
       "\n",
       "    .dataframe thead tr th {\n",
       "        text-align: left;\n",
       "    }\n",
       "\n",
       "    .dataframe thead tr:last-of-type th {\n",
       "        text-align: right;\n",
       "    }\n",
       "</style>\n",
       "<table border=\"1\" class=\"dataframe\">\n",
       "  <thead>\n",
       "    <tr>\n",
       "      <th>Bank Ticker</th>\n",
       "      <th colspan=\"5\" halign=\"left\">BAC</th>\n",
       "      <th colspan=\"5\" halign=\"left\">C</th>\n",
       "      <th>...</th>\n",
       "      <th colspan=\"5\" halign=\"left\">MS</th>\n",
       "      <th colspan=\"5\" halign=\"left\">WFC</th>\n",
       "    </tr>\n",
       "    <tr>\n",
       "      <th>Stock Info</th>\n",
       "      <th>open</th>\n",
       "      <th>high</th>\n",
       "      <th>low</th>\n",
       "      <th>close</th>\n",
       "      <th>volume</th>\n",
       "      <th>open</th>\n",
       "      <th>high</th>\n",
       "      <th>low</th>\n",
       "      <th>close</th>\n",
       "      <th>volume</th>\n",
       "      <th>...</th>\n",
       "      <th>open</th>\n",
       "      <th>high</th>\n",
       "      <th>low</th>\n",
       "      <th>close</th>\n",
       "      <th>volume</th>\n",
       "      <th>open</th>\n",
       "      <th>high</th>\n",
       "      <th>low</th>\n",
       "      <th>close</th>\n",
       "      <th>volume</th>\n",
       "    </tr>\n",
       "    <tr>\n",
       "      <th>date</th>\n",
       "      <th></th>\n",
       "      <th></th>\n",
       "      <th></th>\n",
       "      <th></th>\n",
       "      <th></th>\n",
       "      <th></th>\n",
       "      <th></th>\n",
       "      <th></th>\n",
       "      <th></th>\n",
       "      <th></th>\n",
       "      <th></th>\n",
       "      <th></th>\n",
       "      <th></th>\n",
       "      <th></th>\n",
       "      <th></th>\n",
       "      <th></th>\n",
       "      <th></th>\n",
       "      <th></th>\n",
       "      <th></th>\n",
       "      <th></th>\n",
       "      <th></th>\n",
       "    </tr>\n",
       "  </thead>\n",
       "  <tbody>\n",
       "    <tr>\n",
       "      <th>2014-01-08</th>\n",
       "      <td>15.5611</td>\n",
       "      <td>15.5797</td>\n",
       "      <td>15.4202</td>\n",
       "      <td>15.4771</td>\n",
       "      <td>101227932</td>\n",
       "      <td>51.6789</td>\n",
       "      <td>52.3547</td>\n",
       "      <td>51.5932</td>\n",
       "      <td>52.1739</td>\n",
       "      <td>26002326</td>\n",
       "      <td>...</td>\n",
       "      <td>28.7932</td>\n",
       "      <td>29.0441</td>\n",
       "      <td>28.6199</td>\n",
       "      <td>28.7932</td>\n",
       "      <td>8930184</td>\n",
       "      <td>39.3699</td>\n",
       "      <td>39.8469</td>\n",
       "      <td>39.3266</td>\n",
       "      <td>39.8209</td>\n",
       "      <td>20907314</td>\n",
       "    </tr>\n",
       "    <tr>\n",
       "      <th>2014-01-09</th>\n",
       "      <td>15.5611</td>\n",
       "      <td>15.8004</td>\n",
       "      <td>15.5097</td>\n",
       "      <td>15.7104</td>\n",
       "      <td>101275343</td>\n",
       "      <td>52.3547</td>\n",
       "      <td>52.6213</td>\n",
       "      <td>52.1263</td>\n",
       "      <td>52.5451</td>\n",
       "      <td>21812007</td>\n",
       "      <td>...</td>\n",
       "      <td>28.8844</td>\n",
       "      <td>28.9574</td>\n",
       "      <td>28.6107</td>\n",
       "      <td>28.7841</td>\n",
       "      <td>7322294</td>\n",
       "      <td>39.8642</td>\n",
       "      <td>40.0637</td>\n",
       "      <td>39.7168</td>\n",
       "      <td>40.0290</td>\n",
       "      <td>14389488</td>\n",
       "    </tr>\n",
       "    <tr>\n",
       "      <th>2014-01-10</th>\n",
       "      <td>15.6358</td>\n",
       "      <td>15.6731</td>\n",
       "      <td>15.5051</td>\n",
       "      <td>15.6544</td>\n",
       "      <td>87682477</td>\n",
       "      <td>52.3833</td>\n",
       "      <td>52.4372</td>\n",
       "      <td>51.6884</td>\n",
       "      <td>52.0882</td>\n",
       "      <td>22496888</td>\n",
       "      <td>...</td>\n",
       "      <td>28.8114</td>\n",
       "      <td>28.8571</td>\n",
       "      <td>28.3735</td>\n",
       "      <td>28.5560</td>\n",
       "      <td>10571296</td>\n",
       "      <td>39.9423</td>\n",
       "      <td>39.9423</td>\n",
       "      <td>39.5694</td>\n",
       "      <td>39.8382</td>\n",
       "      <td>15532776</td>\n",
       "    </tr>\n",
       "    <tr>\n",
       "      <th>2014-01-13</th>\n",
       "      <td>15.6731</td>\n",
       "      <td>15.6824</td>\n",
       "      <td>15.3090</td>\n",
       "      <td>15.3370</td>\n",
       "      <td>90827849</td>\n",
       "      <td>51.8407</td>\n",
       "      <td>52.0311</td>\n",
       "      <td>50.8698</td>\n",
       "      <td>51.1363</td>\n",
       "      <td>21116568</td>\n",
       "      <td>...</td>\n",
       "      <td>28.5560</td>\n",
       "      <td>28.7567</td>\n",
       "      <td>28.0542</td>\n",
       "      <td>28.1637</td>\n",
       "      <td>9605058</td>\n",
       "      <td>39.8555</td>\n",
       "      <td>39.9813</td>\n",
       "      <td>39.4133</td>\n",
       "      <td>39.5087</td>\n",
       "      <td>21059377</td>\n",
       "    </tr>\n",
       "    <tr>\n",
       "      <th>2014-01-14</th>\n",
       "      <td>15.4397</td>\n",
       "      <td>15.6544</td>\n",
       "      <td>15.4304</td>\n",
       "      <td>15.6544</td>\n",
       "      <td>98517898</td>\n",
       "      <td>51.5266</td>\n",
       "      <td>51.7836</td>\n",
       "      <td>51.0506</td>\n",
       "      <td>51.3552</td>\n",
       "      <td>17790818</td>\n",
       "      <td>...</td>\n",
       "      <td>28.0633</td>\n",
       "      <td>28.4830</td>\n",
       "      <td>27.9174</td>\n",
       "      <td>28.3735</td>\n",
       "      <td>13721984</td>\n",
       "      <td>39.4393</td>\n",
       "      <td>39.7515</td>\n",
       "      <td>38.9537</td>\n",
       "      <td>39.5347</td>\n",
       "      <td>28526935</td>\n",
       "    </tr>\n",
       "  </tbody>\n",
       "</table>\n",
       "<p>5 rows × 30 columns</p>\n",
       "</div>"
      ],
      "text/plain": [
       "Bank Ticker      BAC                                              C           \\\n",
       "Stock Info      open     high      low    close     volume     open     high   \n",
       "date                                                                           \n",
       "2014-01-08   15.5611  15.5797  15.4202  15.4771  101227932  51.6789  52.3547   \n",
       "2014-01-09   15.5611  15.8004  15.5097  15.7104  101275343  52.3547  52.6213   \n",
       "2014-01-10   15.6358  15.6731  15.5051  15.6544   87682477  52.3833  52.4372   \n",
       "2014-01-13   15.6731  15.6824  15.3090  15.3370   90827849  51.8407  52.0311   \n",
       "2014-01-14   15.4397  15.6544  15.4304  15.6544   98517898  51.5266  51.7836   \n",
       "\n",
       "Bank Ticker                                ...          MS                    \\\n",
       "Stock Info       low    close    volume    ...        open     high      low   \n",
       "date                                       ...                                 \n",
       "2014-01-08   51.5932  52.1739  26002326    ...     28.7932  29.0441  28.6199   \n",
       "2014-01-09   52.1263  52.5451  21812007    ...     28.8844  28.9574  28.6107   \n",
       "2014-01-10   51.6884  52.0882  22496888    ...     28.8114  28.8571  28.3735   \n",
       "2014-01-13   50.8698  51.1363  21116568    ...     28.5560  28.7567  28.0542   \n",
       "2014-01-14   51.0506  51.3552  17790818    ...     28.0633  28.4830  27.9174   \n",
       "\n",
       "Bank Ticker                         WFC                                       \n",
       "Stock Info     close    volume     open     high      low    close    volume  \n",
       "date                                                                          \n",
       "2014-01-08   28.7932   8930184  39.3699  39.8469  39.3266  39.8209  20907314  \n",
       "2014-01-09   28.7841   7322294  39.8642  40.0637  39.7168  40.0290  14389488  \n",
       "2014-01-10   28.5560  10571296  39.9423  39.9423  39.5694  39.8382  15532776  \n",
       "2014-01-13   28.1637   9605058  39.8555  39.9813  39.4133  39.5087  21059377  \n",
       "2014-01-14   28.3735  13721984  39.4393  39.7515  38.9537  39.5347  28526935  \n",
       "\n",
       "[5 rows x 30 columns]"
      ]
     },
     "execution_count": 10,
     "metadata": {},
     "output_type": "execute_result"
    }
   ],
   "source": [
    "# look at the first few rows of the consolidated dataframe\n",
    "bank_stocks.head()"
   ]
  },
  {
   "cell_type": "markdown",
   "metadata": {},
   "source": [
    "## Explore the data\n",
    "\n",
    "Following steps make use of [Multi-Level Indexing](http://pandas.pydata.org/pandas-docs/stable/advanced.html).\n",
    "The pandas dataframe [.xs()](http://pandas.pydata.org/pandas-docs/stable/generated/pandas.DataFrame.xs.html), and the pandas dataframe [.xs()](https://pandas.pydata.org/pandas-docs/stable/generated/pandas.DataFrame.xs.html) function is also used - this function can be used to get a cross-section of the data in a dataframe."
   ]
  },
  {
   "cell_type": "markdown",
   "metadata": {},
   "source": [
    "### Find the max close price for each bank"
   ]
  },
  {
   "cell_type": "code",
   "execution_count": 11,
   "metadata": {},
   "outputs": [
    {
     "name": "stdout",
     "output_type": "stream",
     "text": [
      "BAC 32.3681\n",
      "C 78.3443\n",
      "GS 270.4223\n",
      "JPM 116.856\n",
      "MS 57.8855\n",
      "WFC 64.0585\n"
     ]
    }
   ],
   "source": [
    "# Method 1\n",
    "for tick in tickers:\n",
    "    print(tick,bank_stocks[tick]['close'].max())"
   ]
  },
  {
   "cell_type": "code",
   "execution_count": 12,
   "metadata": {},
   "outputs": [
    {
     "data": {
      "text/html": [
       "<div>\n",
       "<style scoped>\n",
       "    .dataframe tbody tr th:only-of-type {\n",
       "        vertical-align: middle;\n",
       "    }\n",
       "\n",
       "    .dataframe tbody tr th {\n",
       "        vertical-align: top;\n",
       "    }\n",
       "\n",
       "    .dataframe thead th {\n",
       "        text-align: right;\n",
       "    }\n",
       "</style>\n",
       "<table border=\"1\" class=\"dataframe\">\n",
       "  <thead>\n",
       "    <tr style=\"text-align: right;\">\n",
       "      <th>Bank Ticker</th>\n",
       "      <th>BAC</th>\n",
       "      <th>C</th>\n",
       "      <th>GS</th>\n",
       "      <th>JPM</th>\n",
       "      <th>MS</th>\n",
       "      <th>WFC</th>\n",
       "    </tr>\n",
       "    <tr>\n",
       "      <th>date</th>\n",
       "      <th></th>\n",
       "      <th></th>\n",
       "      <th></th>\n",
       "      <th></th>\n",
       "      <th></th>\n",
       "      <th></th>\n",
       "    </tr>\n",
       "  </thead>\n",
       "  <tbody>\n",
       "    <tr>\n",
       "      <th>2014-01-08</th>\n",
       "      <td>15.4771</td>\n",
       "      <td>52.1739</td>\n",
       "      <td>166.7442</td>\n",
       "      <td>51.7386</td>\n",
       "      <td>28.7932</td>\n",
       "      <td>39.8209</td>\n",
       "    </tr>\n",
       "    <tr>\n",
       "      <th>2014-01-09</th>\n",
       "      <td>15.7104</td>\n",
       "      <td>52.5451</td>\n",
       "      <td>165.7724</td>\n",
       "      <td>51.6419</td>\n",
       "      <td>28.7841</td>\n",
       "      <td>40.0290</td>\n",
       "    </tr>\n",
       "  </tbody>\n",
       "</table>\n",
       "</div>"
      ],
      "text/plain": [
       "Bank Ticker      BAC        C        GS      JPM       MS      WFC\n",
       "date                                                              \n",
       "2014-01-08   15.4771  52.1739  166.7442  51.7386  28.7932  39.8209\n",
       "2014-01-09   15.7104  52.5451  165.7724  51.6419  28.7841  40.0290"
      ]
     },
     "execution_count": 12,
     "metadata": {},
     "output_type": "execute_result"
    }
   ],
   "source": [
    "# Method 2\n",
    "bank_stocks.xs(key='close',axis=1,level='Stock Info').head(2)"
   ]
  },
  {
   "cell_type": "code",
   "execution_count": 13,
   "metadata": {},
   "outputs": [
    {
     "data": {
      "text/plain": [
       "Bank Ticker\n",
       "BAC     32.3681\n",
       "C       78.3443\n",
       "GS     270.4223\n",
       "JPM    116.8560\n",
       "MS      57.8855\n",
       "WFC     64.0585\n",
       "dtype: float64"
      ]
     },
     "execution_count": 13,
     "metadata": {},
     "output_type": "execute_result"
    }
   ],
   "source": [
    "bank_stocks.xs(key='close',axis=1,level='Stock Info').max()"
   ]
  },
  {
   "cell_type": "markdown",
   "metadata": {},
   "source": [
    "### Calculate percent returns for each bank\n",
    "Returns are typically defined by:\n",
    "\n",
    "$$r_t = \\frac{p_t - p_{t-1}}{p_{t-1}} = \\frac{p_t}{p_{t-1}} - 1$$"
   ]
  },
  {
   "cell_type": "code",
   "execution_count": null,
   "metadata": {},
   "outputs": [],
   "source": [
    "# create a new pandas dataframe to hold the returns data\n",
    "returns = pd.DataFrame()"
   ]
  },
  {
   "cell_type": "markdown",
   "metadata": {},
   "source": [
    "We can use pandas [pct_change()](https://pandas.pydata.org/pandas-docs/stable/generated/pandas.Series.pct_change.html) method on the Close column to create a column representing this return value."
   ]
  },
  {
   "cell_type": "code",
   "execution_count": null,
   "metadata": {},
   "outputs": [],
   "source": [
    "for tick in tickers:\n",
    "    returns[f'{tick} Returns'] = bank_stocks[tick]['close'].pct_change()\n",
    "returns.head()"
   ]
  },
  {
   "cell_type": "markdown",
   "metadata": {},
   "source": [
    "### Create a [seaborn](https://seaborn.pydata.org/) [pairplot](https://seaborn.pydata.org/generated/seaborn.pairplot.html) using the returns dataframe."
   ]
  },
  {
   "cell_type": "code",
   "execution_count": null,
   "metadata": {},
   "outputs": [],
   "source": [
    "# note that the .dropna() function removes the initial row of 'NaN' data\n",
    "sns.pairplot(returns.dropna(how='all'))"
   ]
  },
  {
   "cell_type": "markdown",
   "metadata": {},
   "source": [
    "### Determine the dates each bank stock had the best and worst single day returns"
   ]
  },
  {
   "cell_type": "code",
   "execution_count": null,
   "metadata": {},
   "outputs": [],
   "source": [
    "df_returns = pd.DataFrame()"
   ]
  },
  {
   "cell_type": "code",
   "execution_count": null,
   "metadata": {},
   "outputs": [],
   "source": [
    "# date of worst return\n",
    "df_returns['Worst Day'] = returns.idxmin()  # returns index of the min"
   ]
  },
  {
   "cell_type": "code",
   "execution_count": null,
   "metadata": {},
   "outputs": [],
   "source": [
    "# value of worst return\n",
    "df_returns['Worst Day Value'] = returns.min()  # min value in each column"
   ]
  },
  {
   "cell_type": "code",
   "execution_count": null,
   "metadata": {},
   "outputs": [],
   "source": [
    "df_returns['Best Day'] = returns.idxmax()"
   ]
  },
  {
   "cell_type": "code",
   "execution_count": null,
   "metadata": {},
   "outputs": [],
   "source": [
    "df_returns['Best Day Value'] = returns.max()"
   ]
  },
  {
   "cell_type": "code",
   "execution_count": null,
   "metadata": {},
   "outputs": [],
   "source": [
    "df_returns"
   ]
  },
  {
   "cell_type": "markdown",
   "metadata": {},
   "source": [
    "### Examine standard deviation of the returns"
   ]
  },
  {
   "cell_type": "code",
   "execution_count": null,
   "metadata": {},
   "outputs": [],
   "source": [
    "# standard deviation over all rows\n",
    "returns.std()"
   ]
  },
  {
   "cell_type": "code",
   "execution_count": null,
   "metadata": {},
   "outputs": [],
   "source": [
    "# standard deviation over 2015\n",
    "returns.loc['2015-01-01':'2015-12-31'].std()"
   ]
  },
  {
   "cell_type": "markdown",
   "metadata": {},
   "source": [
    "### Create a distplot using seaborn of the 2015 returns for Morgan Stanley"
   ]
  },
  {
   "cell_type": "code",
   "execution_count": null,
   "metadata": {},
   "outputs": [],
   "source": [
    "from matplotlib import pyplot\n",
    "fig, ax = pyplot.subplots(figsize=(12,6))\n",
    "sns.set_style(\"whitegrid\")\n",
    "sns.distplot(returns.loc['2015-01-01':'2015-12-31']['MS Returns'],color='green',bins=50,ax=ax)"
   ]
  },
  {
   "cell_type": "markdown",
   "metadata": {},
   "source": [
    "Note: the line in the plot above is a \"kde\" ([kernal density estimation](https://seaborn.pydata.org/tutorial/distributions.html#kernel-density-estimation) plot"
   ]
  },
  {
   "cell_type": "markdown",
   "metadata": {},
   "source": [
    "____\n",
    "## More Visualization"
   ]
  },
  {
   "cell_type": "code",
   "execution_count": null,
   "metadata": {},
   "outputs": [],
   "source": [
    "import matplotlib.pyplot as plt\n",
    "import seaborn as sns\n",
    "sns.set_style('whitegrid')\n",
    "%matplotlib inline\n",
    "\n",
    "# Optional Plotly Method Imports\n",
    "import plotly\n",
    "import cufflinks as cf\n",
    "cf.go_offline()"
   ]
  },
  {
   "cell_type": "markdown",
   "metadata": {},
   "source": [
    "### Create a line plot showing Close price for each bank for the entire index of time"
   ]
  },
  {
   "cell_type": "code",
   "execution_count": null,
   "metadata": {},
   "outputs": [],
   "source": [
    "# use dataframe plotting method\n",
    "for tick in tickers:\n",
    "    bank_stocks[tick]['close'].plot(label=tick,figsize=(12,4))\n",
    "plt.legend(loc='center left',bbox_to_anchor=(1,.5))"
   ]
  },
  {
   "cell_type": "markdown",
   "metadata": {},
   "source": [
    "### Create an interactive plot using plotly"
   ]
  },
  {
   "cell_type": "code",
   "execution_count": null,
   "metadata": {},
   "outputs": [],
   "source": [
    "bank_stocks.xs(key='close',axis=1,level='Stock Info').iplot()"
   ]
  },
  {
   "cell_type": "markdown",
   "metadata": {},
   "source": [
    "### Moving Averages\n",
    "\n",
    "Let's analyze the moving averages for these stocks in the year 2015. "
   ]
  },
  {
   "cell_type": "code",
   "execution_count": null,
   "metadata": {},
   "outputs": [],
   "source": [
    "plt.figure(figsize=(12,4))\n",
    "BAC['close'].loc['2015-01-01':'2016-01-01'].rolling(window=30).mean().plot(label='30 day moving average')\n",
    "BAC['close'].loc['2015-01-01':'2016-01-01'].plot(label='BAC Close')\n",
    "plt.legend()"
   ]
  },
  {
   "cell_type": "code",
   "execution_count": null,
   "metadata": {},
   "outputs": [],
   "source": []
  },
  {
   "cell_type": "markdown",
   "metadata": {},
   "source": [
    "### Create a heatmap of the correlation between the stocks Close Price\n",
    "Uses the pandas dataframe [.corr()](https://pandas.pydata.org/pandas-docs/stable/generated/pandas.DataFrame.corr.html) method to calculate pairwise correlation of the columns"
   ]
  },
  {
   "cell_type": "code",
   "execution_count": null,
   "metadata": {},
   "outputs": [],
   "source": [
    "bank_stocks.xs(key='close',axis=1,level='Stock Info').corr()"
   ]
  },
  {
   "cell_type": "code",
   "execution_count": null,
   "metadata": {},
   "outputs": [],
   "source": [
    "sns.heatmap(bank_stocks.xs(key='close',axis=1,level='Stock Info').corr(),annot=True)"
   ]
  },
  {
   "cell_type": "markdown",
   "metadata": {},
   "source": [
    "### Create a clustermap of the correlation between the stocks Close Price"
   ]
  },
  {
   "cell_type": "code",
   "execution_count": null,
   "metadata": {},
   "outputs": [],
   "source": [
    "sns.clustermap(bank_stocks.xs(key='close',axis=1,level='Stock Info').corr(),annot=True)"
   ]
  },
  {
   "cell_type": "markdown",
   "metadata": {},
   "source": [
    "# Create Technical Analysis Plots"
   ]
  },
  {
   "cell_type": "code",
   "execution_count": null,
   "metadata": {},
   "outputs": [],
   "source": [
    "close_corr = bank_stocks.xs(key='close',axis=1,level='Stock Info').corr()"
   ]
  },
  {
   "cell_type": "code",
   "execution_count": null,
   "metadata": {},
   "outputs": [],
   "source": [
    "close_corr"
   ]
  },
  {
   "cell_type": "markdown",
   "metadata": {},
   "source": [
    "### Create a candle stick plot"
   ]
  },
  {
   "cell_type": "code",
   "execution_count": null,
   "metadata": {},
   "outputs": [],
   "source": [
    "bac15 = BAC[['open','high','low','close']].loc['2015-01-01':'2016-01-01'] # need in specific order\n",
    "bac15.iplot(kind='candle')"
   ]
  },
  {
   "cell_type": "markdown",
   "metadata": {},
   "source": [
    "### Create a [moving average plot](https://plot.ly/pandas/moving-average/#moving-averages-in-cufflinks)"
   ]
  },
  {
   "cell_type": "code",
   "execution_count": null,
   "metadata": {},
   "outputs": [],
   "source": [
    "MS['close'].loc['2015-01-01':'2016-01-01'].ta_plot(study='sma',periods=[13,21,55])  # plotly technical analysis plots"
   ]
  },
  {
   "cell_type": "markdown",
   "metadata": {},
   "source": [
    "### Create a [Bollinger Band Plot](https://plot.ly/pandas/bollinger-bands/)"
   ]
  },
  {
   "cell_type": "code",
   "execution_count": null,
   "metadata": {},
   "outputs": [],
   "source": [
    "#Bollinger Band Plot\n",
    "BAC['close'].loc['2015-01-01':'2016-01-01'].ta_plot(study='boll')"
   ]
  }
 ],
 "metadata": {
  "kernelspec": {
   "display_name": "Python 3",
   "language": "python",
   "name": "python3"
  },
  "language_info": {
   "codemirror_mode": {
    "name": "ipython",
    "version": 3
   },
   "file_extension": ".py",
   "mimetype": "text/x-python",
   "name": "python",
   "nbconvert_exporter": "python",
   "pygments_lexer": "ipython3",
   "version": "3.7.2"
  }
 },
 "nbformat": 4,
 "nbformat_minor": 1
}
