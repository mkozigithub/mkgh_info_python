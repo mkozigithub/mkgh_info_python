{
 "cells": [
  {
   "cell_type": "markdown",
   "metadata": {},
   "source": [
    "### Using python csv package"
   ]
  },
  {
   "cell_type": "code",
   "execution_count": 5,
   "metadata": {},
   "outputs": [],
   "source": [
    "import csv  # PEP 305 - CSV File API: https://www.python.org/dev/peps/pep-0305/"
   ]
  },
  {
   "cell_type": "code",
   "execution_count": 3,
   "metadata": {},
   "outputs": [
    {
     "data": {
      "text/plain": [
       "['Dialect',\n",
       " 'DictReader',\n",
       " 'DictWriter',\n",
       " 'Error',\n",
       " 'OrderedDict',\n",
       " 'QUOTE_ALL',\n",
       " 'QUOTE_MINIMAL',\n",
       " 'QUOTE_NONE',\n",
       " 'QUOTE_NONNUMERIC',\n",
       " 'Sniffer',\n",
       " 'StringIO',\n",
       " '_Dialect',\n",
       " '__all__',\n",
       " '__builtins__',\n",
       " '__cached__',\n",
       " '__doc__',\n",
       " '__file__',\n",
       " '__loader__',\n",
       " '__name__',\n",
       " '__package__',\n",
       " '__spec__',\n",
       " '__version__',\n",
       " 'excel',\n",
       " 'excel_tab',\n",
       " 'field_size_limit',\n",
       " 'get_dialect',\n",
       " 'list_dialects',\n",
       " 're',\n",
       " 'reader',\n",
       " 'register_dialect',\n",
       " 'unix_dialect',\n",
       " 'unregister_dialect',\n",
       " 'writer']"
      ]
     },
     "execution_count": 3,
     "metadata": {},
     "output_type": "execute_result"
    }
   ],
   "source": [
    "dir(csv)"
   ]
  },
  {
   "cell_type": "code",
   "execution_count": 7,
   "metadata": {},
   "outputs": [
    {
     "data": {
      "text/plain": [
       "['excel', 'excel-tab', 'unix']"
      ]
     },
     "execution_count": 7,
     "metadata": {},
     "output_type": "execute_result"
    }
   ],
   "source": [
    "csv.list_dialects()"
   ]
  },
  {
   "cell_type": "code",
   "execution_count": 10,
   "metadata": {},
   "outputs": [
    {
     "name": "stdout",
     "output_type": "stream",
     "text": [
      "['-1', '1', 'on the server farm', 'Community'] <class 'list'>\n",
      "['1', '101', 'New York, NY', 'Adam Lear'] <class 'list'>\n",
      "['2', '101', 'Corvallis, OR', 'Geoff Dalgas'] <class 'list'>\n",
      "['3', '101', '', 'hichris123'] <class 'list'>\n",
      "['4', '101', 'Republic of Texas', 'Ben Collins'] <class 'list'>\n"
     ]
    }
   ],
   "source": [
    "with open('./files/users-simple-five.csv','r') as csv_file:\n",
    "    csv_reader = csv.reader(csv_file, delimiter=',',quotechar='\"')\n",
    "    for row in csv_reader:\n",
    "        print(row, type(row))"
   ]
  },
  {
   "cell_type": "code",
   "execution_count": 11,
   "metadata": {},
   "outputs": [
    {
     "name": "stdout",
     "output_type": "stream",
     "text": [
      "Community has a reputation of 1\n",
      "Adam Lear has a reputation of 101\n",
      "Geoff Dalgas has a reputation of 101\n",
      "hichris123 has a reputation of 101\n",
      "Ben Collins has a reputation of 101\n"
     ]
    }
   ],
   "source": [
    "with open('./files/users-simple-five.csv','r') as csv_file:\n",
    "    reader = csv.DictReader(csv_file,fieldnames=['Id','Reputation','Location','DisplayName'])\n",
    "    for row in reader:\n",
    "        print(f\"{row['DisplayName']} has a reputation of {row['Reputation']}\")"
   ]
  },
  {
   "cell_type": "code",
   "execution_count": 12,
   "metadata": {},
   "outputs": [
    {
     "name": "stdout",
     "output_type": "stream",
     "text": [
      "[-1.0, 1.0, 'on the server farm', 'Community']\n",
      "[1.0, 101.0, 'New York, NY', 'Adam Lear']\n",
      "[2.0, 101.0, 'Corvallis, OR', 'Geoff Dalgas']\n",
      "[3.0, 101.0, '', 'hichris123']\n",
      "[4.0, 101.0, 'Republic of Texas', 'Ben Collins']\n"
     ]
    }
   ],
   "source": [
    "# to load non-quoted as numeric, use the 'quoting' parameter\n",
    "with open('./files/users-simple-five.csv','r') as file:\n",
    "    csv_reader = csv.reader(file,quoting=csv.QUOTE_NONNUMERIC)\n",
    "    for row in csv_reader:\n",
    "        print(row)"
   ]
  },
  {
   "cell_type": "code",
   "execution_count": 15,
   "metadata": {},
   "outputs": [
    {
     "ename": "ValueError",
     "evalue": "could not convert string to float: 'on the server farm'",
     "output_type": "error",
     "traceback": [
      "\u001b[1;31m---------------------------------------------------------------------------\u001b[0m",
      "\u001b[1;31mValueError\u001b[0m                                Traceback (most recent call last)",
      "\u001b[1;32m<ipython-input-15-5e32deaf1ed6>\u001b[0m in \u001b[0;36m<module>\u001b[1;34m\u001b[0m\n\u001b[0;32m      2\u001b[0m \u001b[1;32mwith\u001b[0m \u001b[0mopen\u001b[0m\u001b[1;33m(\u001b[0m\u001b[1;34m'./files/users-five.csv'\u001b[0m\u001b[1;33m,\u001b[0m\u001b[1;34m'r'\u001b[0m\u001b[1;33m)\u001b[0m \u001b[1;32mas\u001b[0m \u001b[0mfile\u001b[0m\u001b[1;33m:\u001b[0m\u001b[1;33m\u001b[0m\u001b[1;33m\u001b[0m\u001b[0m\n\u001b[0;32m      3\u001b[0m     \u001b[0mcsv_reader\u001b[0m \u001b[1;33m=\u001b[0m \u001b[0mcsv\u001b[0m\u001b[1;33m.\u001b[0m\u001b[0mreader\u001b[0m\u001b[1;33m(\u001b[0m\u001b[0mfile\u001b[0m\u001b[1;33m,\u001b[0m\u001b[0mquoting\u001b[0m\u001b[1;33m=\u001b[0m\u001b[0mcsv\u001b[0m\u001b[1;33m.\u001b[0m\u001b[0mQUOTE_NONNUMERIC\u001b[0m\u001b[1;33m)\u001b[0m\u001b[1;33m\u001b[0m\u001b[1;33m\u001b[0m\u001b[0m\n\u001b[1;32m----> 4\u001b[1;33m     \u001b[1;32mfor\u001b[0m \u001b[0mrow\u001b[0m \u001b[1;32min\u001b[0m \u001b[0mcsv_reader\u001b[0m\u001b[1;33m:\u001b[0m\u001b[1;33m\u001b[0m\u001b[1;33m\u001b[0m\u001b[0m\n\u001b[0m\u001b[0;32m      5\u001b[0m         \u001b[0mprint\u001b[0m\u001b[1;33m(\u001b[0m\u001b[0mrow\u001b[0m\u001b[1;33m)\u001b[0m\u001b[1;33m\u001b[0m\u001b[1;33m\u001b[0m\u001b[0m\n",
      "\u001b[1;31mValueError\u001b[0m: could not convert string to float: 'on the server farm'"
     ]
    }
   ],
   "source": [
    "# raises error because file was created with quoting=csv.QUOTE_MINIMAL\n",
    "with open('./files/users-five.csv','r') as file:\n",
    "    csv_reader = csv.reader(file,quoting=csv.QUOTE_NONNUMERIC)\n",
    "    for row in csv_reader:\n",
    "        print(row)"
   ]
  },
  {
   "cell_type": "markdown",
   "metadata": {},
   "source": [
    "### Using pandas"
   ]
  },
  {
   "cell_type": "code",
   "execution_count": 16,
   "metadata": {},
   "outputs": [],
   "source": [
    "import pandas as pd"
   ]
  },
  {
   "cell_type": "code",
   "execution_count": 19,
   "metadata": {},
   "outputs": [
    {
     "name": "stdout",
     "output_type": "stream",
     "text": [
      "<class 'pandas.core.frame.DataFrame'>\n"
     ]
    },
    {
     "data": {
      "text/html": [
       "<div>\n",
       "<style scoped>\n",
       "    .dataframe tbody tr th:only-of-type {\n",
       "        vertical-align: middle;\n",
       "    }\n",
       "\n",
       "    .dataframe tbody tr th {\n",
       "        vertical-align: top;\n",
       "    }\n",
       "\n",
       "    .dataframe thead th {\n",
       "        text-align: right;\n",
       "    }\n",
       "</style>\n",
       "<table border=\"1\" class=\"dataframe\">\n",
       "  <thead>\n",
       "    <tr style=\"text-align: right;\">\n",
       "      <th></th>\n",
       "      <th>5</th>\n",
       "      <th>1</th>\n",
       "      <th>2014-05-13T23:58:30.457</th>\n",
       "      <th>9</th>\n",
       "      <th>448</th>\n",
       "      <th>2014-05-14T00:36:31.077</th>\n",
       "      <th>How can I do simple machine learning without hard-coding behavior?</th>\n",
       "      <th>&lt;machine-learning&gt;</th>\n",
       "      <th>1.1</th>\n",
       "      <th>1.2</th>\n",
       "      <th>1.3</th>\n",
       "      <th>2014-05-14T14:40:25.950</th>\n",
       "    </tr>\n",
       "  </thead>\n",
       "  <tbody>\n",
       "    <tr>\n",
       "      <th>0</th>\n",
       "      <td>7</td>\n",
       "      <td>1</td>\n",
       "      <td>2014-05-14T00:11:06.457</td>\n",
       "      <td>4</td>\n",
       "      <td>388.0</td>\n",
       "      <td>2014-05-16T13:45:00.237</td>\n",
       "      <td>What open-source books (or other materials) pr...</td>\n",
       "      <td>&lt;education&gt;&lt;open-source&gt;</td>\n",
       "      <td>3.0</td>\n",
       "      <td>4</td>\n",
       "      <td>1.0</td>\n",
       "      <td>2014-05-14T08:40:54.950</td>\n",
       "    </tr>\n",
       "    <tr>\n",
       "      <th>1</th>\n",
       "      <td>9</td>\n",
       "      <td>2</td>\n",
       "      <td>2014-05-14T00:36:31.077</td>\n",
       "      <td>5</td>\n",
       "      <td>NaN</td>\n",
       "      <td>2014-05-14T00:36:31.077</td>\n",
       "      <td>NaN</td>\n",
       "      <td>NaN</td>\n",
       "      <td>NaN</td>\n",
       "      <td>0</td>\n",
       "      <td>NaN</td>\n",
       "      <td>NaN</td>\n",
       "    </tr>\n",
       "  </tbody>\n",
       "</table>\n",
       "</div>"
      ],
      "text/plain": [
       "   5  1  2014-05-13T23:58:30.457  9    448  2014-05-14T00:36:31.077  \\\n",
       "0  7  1  2014-05-14T00:11:06.457  4  388.0  2014-05-16T13:45:00.237   \n",
       "1  9  2  2014-05-14T00:36:31.077  5    NaN  2014-05-14T00:36:31.077   \n",
       "\n",
       "  How can I do simple machine learning without hard-coding behavior?  \\\n",
       "0  What open-source books (or other materials) pr...                   \n",
       "1                                                NaN                   \n",
       "\n",
       "         <machine-learning>  1.1  1.2  1.3  2014-05-14T14:40:25.950  \n",
       "0  <education><open-source>  3.0    4  1.0  2014-05-14T08:40:54.950  \n",
       "1                       NaN  NaN    0  NaN                      NaN  "
      ]
     },
     "execution_count": 19,
     "metadata": {},
     "output_type": "execute_result"
    }
   ],
   "source": [
    "posts_csv = pd.read_csv('./files/posts-100.csv')\n",
    "print(type(posts_csv))\n",
    "posts_csv.head(2)"
   ]
  },
  {
   "cell_type": "code",
   "execution_count": 21,
   "metadata": {},
   "outputs": [],
   "source": [
    "remote_file = 'https://raw.githubusercontent.com/xmorera/sample-data/master/csv/posts-100.csv'"
   ]
  },
  {
   "cell_type": "code",
   "execution_count": 20,
   "metadata": {},
   "outputs": [
    {
     "data": {
      "text/html": [
       "<div>\n",
       "<style scoped>\n",
       "    .dataframe tbody tr th:only-of-type {\n",
       "        vertical-align: middle;\n",
       "    }\n",
       "\n",
       "    .dataframe tbody tr th {\n",
       "        vertical-align: top;\n",
       "    }\n",
       "\n",
       "    .dataframe thead th {\n",
       "        text-align: right;\n",
       "    }\n",
       "</style>\n",
       "<table border=\"1\" class=\"dataframe\">\n",
       "  <thead>\n",
       "    <tr style=\"text-align: right;\">\n",
       "      <th></th>\n",
       "      <th>0</th>\n",
       "      <th>1</th>\n",
       "      <th>2</th>\n",
       "      <th>3</th>\n",
       "      <th>4</th>\n",
       "      <th>5</th>\n",
       "      <th>6</th>\n",
       "      <th>7</th>\n",
       "      <th>8</th>\n",
       "      <th>9</th>\n",
       "      <th>10</th>\n",
       "      <th>11</th>\n",
       "    </tr>\n",
       "  </thead>\n",
       "  <tbody>\n",
       "    <tr>\n",
       "      <th>0</th>\n",
       "      <td>5</td>\n",
       "      <td>1</td>\n",
       "      <td>2014-05-13T23:58:30.457</td>\n",
       "      <td>9</td>\n",
       "      <td>448.0</td>\n",
       "      <td>2014-05-14T00:36:31.077</td>\n",
       "      <td>How can I do simple machine learning without h...</td>\n",
       "      <td>&lt;machine-learning&gt;</td>\n",
       "      <td>1.0</td>\n",
       "      <td>1</td>\n",
       "      <td>1.0</td>\n",
       "      <td>2014-05-14T14:40:25.950</td>\n",
       "    </tr>\n",
       "    <tr>\n",
       "      <th>1</th>\n",
       "      <td>7</td>\n",
       "      <td>1</td>\n",
       "      <td>2014-05-14T00:11:06.457</td>\n",
       "      <td>4</td>\n",
       "      <td>388.0</td>\n",
       "      <td>2014-05-16T13:45:00.237</td>\n",
       "      <td>What open-source books (or other materials) pr...</td>\n",
       "      <td>&lt;education&gt;&lt;open-source&gt;</td>\n",
       "      <td>3.0</td>\n",
       "      <td>4</td>\n",
       "      <td>1.0</td>\n",
       "      <td>2014-05-14T08:40:54.950</td>\n",
       "    </tr>\n",
       "  </tbody>\n",
       "</table>\n",
       "</div>"
      ],
      "text/plain": [
       "   0   1                        2   3      4                        5   \\\n",
       "0   5   1  2014-05-13T23:58:30.457   9  448.0  2014-05-14T00:36:31.077   \n",
       "1   7   1  2014-05-14T00:11:06.457   4  388.0  2014-05-16T13:45:00.237   \n",
       "\n",
       "                                                  6   \\\n",
       "0  How can I do simple machine learning without h...   \n",
       "1  What open-source books (or other materials) pr...   \n",
       "\n",
       "                         7    8   9    10                       11  \n",
       "0        <machine-learning>  1.0   1  1.0  2014-05-14T14:40:25.950  \n",
       "1  <education><open-source>  3.0   4  1.0  2014-05-14T08:40:54.950  "
      ]
     },
     "execution_count": 20,
     "metadata": {},
     "output_type": "execute_result"
    }
   ],
   "source": [
    "# can read from internet: for example - https://raw.githubusercontent.com/xmorera/sample-data/master/csv/posts-100.csv\n",
    "df = pd.read_csv(remote_file,header=None)\n",
    "df.head(2)"
   ]
  },
  {
   "cell_type": "code",
   "execution_count": 23,
   "metadata": {},
   "outputs": [
    {
     "data": {
      "text/html": [
       "<div>\n",
       "<style scoped>\n",
       "    .dataframe tbody tr th:only-of-type {\n",
       "        vertical-align: middle;\n",
       "    }\n",
       "\n",
       "    .dataframe tbody tr th {\n",
       "        vertical-align: top;\n",
       "    }\n",
       "\n",
       "    .dataframe thead th {\n",
       "        text-align: right;\n",
       "    }\n",
       "</style>\n",
       "<table border=\"1\" class=\"dataframe\">\n",
       "  <thead>\n",
       "    <tr style=\"text-align: right;\">\n",
       "      <th></th>\n",
       "      <th>5</th>\n",
       "      <th>1</th>\n",
       "      <th>2014-05-13T23:58:30.457</th>\n",
       "      <th>9</th>\n",
       "      <th>448</th>\n",
       "      <th>2014-05-14T00:36:31.077</th>\n",
       "      <th>How can I do simple machine learning without hard-coding behavior?</th>\n",
       "      <th>&lt;machine-learning&gt;</th>\n",
       "      <th>1.1</th>\n",
       "      <th>1.2</th>\n",
       "      <th>1.3</th>\n",
       "      <th>2014-05-14T14:40:25.950</th>\n",
       "    </tr>\n",
       "  </thead>\n",
       "  <tbody>\n",
       "    <tr>\n",
       "      <th>0</th>\n",
       "      <td>7</td>\n",
       "      <td>1</td>\n",
       "      <td>2014-05-14T00:11:06.457</td>\n",
       "      <td>4</td>\n",
       "      <td>388.0</td>\n",
       "      <td>2014-05-16T13:45:00.237</td>\n",
       "      <td>What open-source books (or other materials) pr...</td>\n",
       "      <td>&lt;education&gt;&lt;open-source&gt;</td>\n",
       "      <td>3.0</td>\n",
       "      <td>4</td>\n",
       "      <td>1.0</td>\n",
       "      <td>2014-05-14T08:40:54.950</td>\n",
       "    </tr>\n",
       "    <tr>\n",
       "      <th>1</th>\n",
       "      <td>9</td>\n",
       "      <td>2</td>\n",
       "      <td>2014-05-14T00:36:31.077</td>\n",
       "      <td>5</td>\n",
       "      <td>NaN</td>\n",
       "      <td>2014-05-14T00:36:31.077</td>\n",
       "      <td>NaN</td>\n",
       "      <td>NaN</td>\n",
       "      <td>NaN</td>\n",
       "      <td>0</td>\n",
       "      <td>NaN</td>\n",
       "      <td>NaN</td>\n",
       "    </tr>\n",
       "    <tr>\n",
       "      <th>2</th>\n",
       "      <td>10</td>\n",
       "      <td>2</td>\n",
       "      <td>2014-05-14T00:53:43.273</td>\n",
       "      <td>12</td>\n",
       "      <td>NaN</td>\n",
       "      <td>2014-05-14T00:53:43.273</td>\n",
       "      <td>NaN</td>\n",
       "      <td>NaN</td>\n",
       "      <td>NaN</td>\n",
       "      <td>1</td>\n",
       "      <td>NaN</td>\n",
       "      <td>NaN</td>\n",
       "    </tr>\n",
       "  </tbody>\n",
       "</table>\n",
       "</div>"
      ],
      "text/plain": [
       "    5  1  2014-05-13T23:58:30.457   9    448  2014-05-14T00:36:31.077  \\\n",
       "0   7  1  2014-05-14T00:11:06.457   4  388.0  2014-05-16T13:45:00.237   \n",
       "1   9  2  2014-05-14T00:36:31.077   5    NaN  2014-05-14T00:36:31.077   \n",
       "2  10  2  2014-05-14T00:53:43.273  12    NaN  2014-05-14T00:53:43.273   \n",
       "\n",
       "  How can I do simple machine learning without hard-coding behavior?  \\\n",
       "0  What open-source books (or other materials) pr...                   \n",
       "1                                                NaN                   \n",
       "2                                                NaN                   \n",
       "\n",
       "         <machine-learning>  1.1  1.2  1.3  2014-05-14T14:40:25.950  \n",
       "0  <education><open-source>  3.0    4  1.0  2014-05-14T08:40:54.950  \n",
       "1                       NaN  NaN    0  NaN                      NaN  \n",
       "2                       NaN  NaN    1  NaN                      NaN  "
      ]
     },
     "execution_count": 23,
     "metadata": {},
     "output_type": "execute_result"
    }
   ],
   "source": [
    "# can read partial files\n",
    "df_small = pd.read_csv(remote_file,nrows=3)\n",
    "df_small"
   ]
  },
  {
   "cell_type": "code",
   "execution_count": 24,
   "metadata": {},
   "outputs": [
    {
     "data": {
      "text/html": [
       "<div>\n",
       "<style scoped>\n",
       "    .dataframe tbody tr th:only-of-type {\n",
       "        vertical-align: middle;\n",
       "    }\n",
       "\n",
       "    .dataframe tbody tr th {\n",
       "        vertical-align: top;\n",
       "    }\n",
       "\n",
       "    .dataframe thead th {\n",
       "        text-align: right;\n",
       "    }\n",
       "</style>\n",
       "<table border=\"1\" class=\"dataframe\">\n",
       "  <thead>\n",
       "    <tr style=\"text-align: right;\">\n",
       "      <th></th>\n",
       "      <th>10</th>\n",
       "      <th>2</th>\n",
       "      <th>2014-05-14T00:53:43.273</th>\n",
       "      <th>12</th>\n",
       "      <th>Unnamed: 4</th>\n",
       "      <th>2014-05-14T00:53:43.273.1</th>\n",
       "      <th>Unnamed: 6</th>\n",
       "      <th>Unnamed: 7</th>\n",
       "      <th>Unnamed: 8</th>\n",
       "      <th>1</th>\n",
       "      <th>Unnamed: 10</th>\n",
       "      <th>Unnamed: 11</th>\n",
       "    </tr>\n",
       "  </thead>\n",
       "  <tbody>\n",
       "    <tr>\n",
       "      <th>0</th>\n",
       "      <td>14</td>\n",
       "      <td>1</td>\n",
       "      <td>2014-05-14T01:25:59.677</td>\n",
       "      <td>21</td>\n",
       "      <td>1243</td>\n",
       "      <td>2014-06-20T17:36:05.023</td>\n",
       "      <td>Is Data Science the Same as Data Mining?</td>\n",
       "      <td>&lt;data-mining&gt;&lt;definitions&gt;</td>\n",
       "      <td>4</td>\n",
       "      <td>1</td>\n",
       "      <td>4.0</td>\n",
       "      <td>NaN</td>\n",
       "    </tr>\n",
       "    <tr>\n",
       "      <th>1</th>\n",
       "      <td>15</td>\n",
       "      <td>1</td>\n",
       "      <td>2014-05-14T01:41:23.110</td>\n",
       "      <td>2</td>\n",
       "      <td>543</td>\n",
       "      <td>2014-05-14T01:41:23.110</td>\n",
       "      <td>What are the advantages and disadvantages of S...</td>\n",
       "      <td>&lt;databases&gt;</td>\n",
       "      <td>0</td>\n",
       "      <td>1</td>\n",
       "      <td>NaN</td>\n",
       "      <td>2014-05-14T07:41:49.437</td>\n",
       "    </tr>\n",
       "    <tr>\n",
       "      <th>2</th>\n",
       "      <td>16</td>\n",
       "      <td>1</td>\n",
       "      <td>2014-05-14T01:57:56.880</td>\n",
       "      <td>18</td>\n",
       "      <td>322</td>\n",
       "      <td>2014-05-17T16:24:14.523</td>\n",
       "      <td>Use liblinear on big data for semantic analysis</td>\n",
       "      <td>&lt;machine-learning&gt;&lt;bigdata&gt;&lt;libsvm&gt;</td>\n",
       "      <td>2</td>\n",
       "      <td>0</td>\n",
       "      <td>NaN</td>\n",
       "      <td>NaN</td>\n",
       "    </tr>\n",
       "  </tbody>\n",
       "</table>\n",
       "</div>"
      ],
      "text/plain": [
       "   10  2  2014-05-14T00:53:43.273  12  Unnamed: 4 2014-05-14T00:53:43.273.1  \\\n",
       "0  14  1  2014-05-14T01:25:59.677  21        1243   2014-06-20T17:36:05.023   \n",
       "1  15  1  2014-05-14T01:41:23.110   2         543   2014-05-14T01:41:23.110   \n",
       "2  16  1  2014-05-14T01:57:56.880  18         322   2014-05-17T16:24:14.523   \n",
       "\n",
       "                                          Unnamed: 6  \\\n",
       "0           Is Data Science the Same as Data Mining?   \n",
       "1  What are the advantages and disadvantages of S...   \n",
       "2    Use liblinear on big data for semantic analysis   \n",
       "\n",
       "                            Unnamed: 7  Unnamed: 8  1  Unnamed: 10  \\\n",
       "0           <data-mining><definitions>           4  1          4.0   \n",
       "1                          <databases>           0  1          NaN   \n",
       "2  <machine-learning><bigdata><libsvm>           2  0          NaN   \n",
       "\n",
       "               Unnamed: 11  \n",
       "0                      NaN  \n",
       "1  2014-05-14T07:41:49.437  \n",
       "2                      NaN  "
      ]
     },
     "execution_count": 24,
     "metadata": {},
     "output_type": "execute_result"
    }
   ],
   "source": [
    "# can read from middle of file\n",
    "df_small = pd.read_csv(remote_file,nrows=3,skiprows=3)\n",
    "df_small"
   ]
  },
  {
   "cell_type": "code",
   "execution_count": 26,
   "metadata": {},
   "outputs": [
    {
     "data": {
      "text/html": [
       "<div>\n",
       "<style scoped>\n",
       "    .dataframe tbody tr th:only-of-type {\n",
       "        vertical-align: middle;\n",
       "    }\n",
       "\n",
       "    .dataframe tbody tr th {\n",
       "        vertical-align: top;\n",
       "    }\n",
       "\n",
       "    .dataframe thead th {\n",
       "        text-align: right;\n",
       "    }\n",
       "</style>\n",
       "<table border=\"1\" class=\"dataframe\">\n",
       "  <thead>\n",
       "    <tr style=\"text-align: right;\">\n",
       "      <th></th>\n",
       "      <th>5</th>\n",
       "      <th>1</th>\n",
       "      <th>2014-05-13T23:58:30.457</th>\n",
       "      <th>9</th>\n",
       "      <th>448</th>\n",
       "      <th>2014-05-14T00:36:31.077</th>\n",
       "      <th>How can I do simple machine learning without hard-coding behavior?</th>\n",
       "      <th>&lt;machine-learning&gt;</th>\n",
       "      <th>1.1</th>\n",
       "      <th>1.2</th>\n",
       "      <th>1.3</th>\n",
       "      <th>2014-05-14T14:40:25.950</th>\n",
       "    </tr>\n",
       "  </thead>\n",
       "  <tbody>\n",
       "    <tr>\n",
       "      <th>0</th>\n",
       "      <td>9</td>\n",
       "      <td>2</td>\n",
       "      <td>2014-05-14T00:36:31.077</td>\n",
       "      <td>5</td>\n",
       "      <td>NaN</td>\n",
       "      <td>2014-05-14T00:36:31.077</td>\n",
       "      <td>NaN</td>\n",
       "      <td>NaN</td>\n",
       "      <td>NaN</td>\n",
       "      <td>0</td>\n",
       "      <td>NaN</td>\n",
       "      <td>NaN</td>\n",
       "    </tr>\n",
       "    <tr>\n",
       "      <th>1</th>\n",
       "      <td>14</td>\n",
       "      <td>1</td>\n",
       "      <td>2014-05-14T01:25:59.677</td>\n",
       "      <td>21</td>\n",
       "      <td>1243.0</td>\n",
       "      <td>2014-06-20T17:36:05.023</td>\n",
       "      <td>Is Data Science the Same as Data Mining?</td>\n",
       "      <td>&lt;data-mining&gt;&lt;definitions&gt;</td>\n",
       "      <td>4.0</td>\n",
       "      <td>1</td>\n",
       "      <td>4.0</td>\n",
       "      <td>NaN</td>\n",
       "    </tr>\n",
       "    <tr>\n",
       "      <th>2</th>\n",
       "      <td>16</td>\n",
       "      <td>1</td>\n",
       "      <td>2014-05-14T01:57:56.880</td>\n",
       "      <td>18</td>\n",
       "      <td>322.0</td>\n",
       "      <td>2014-05-17T16:24:14.523</td>\n",
       "      <td>Use liblinear on big data for semantic analysis</td>\n",
       "      <td>&lt;machine-learning&gt;&lt;bigdata&gt;&lt;libsvm&gt;</td>\n",
       "      <td>2.0</td>\n",
       "      <td>0</td>\n",
       "      <td>NaN</td>\n",
       "      <td>NaN</td>\n",
       "    </tr>\n",
       "    <tr>\n",
       "      <th>3</th>\n",
       "      <td>18</td>\n",
       "      <td>4</td>\n",
       "      <td>2014-05-14T02:49:14.580</td>\n",
       "      <td>0</td>\n",
       "      <td>NaN</td>\n",
       "      <td>2014-05-14T02:49:14.580</td>\n",
       "      <td>NaN</td>\n",
       "      <td>NaN</td>\n",
       "      <td>NaN</td>\n",
       "      <td>0</td>\n",
       "      <td>NaN</td>\n",
       "      <td>NaN</td>\n",
       "    </tr>\n",
       "    <tr>\n",
       "      <th>4</th>\n",
       "      <td>20</td>\n",
       "      <td>1</td>\n",
       "      <td>2014-05-14T05:37:46.780</td>\n",
       "      <td>17</td>\n",
       "      <td>311.0</td>\n",
       "      <td>2017-08-29T11:26:37.137</td>\n",
       "      <td>the data on our relational DBMS is getting big...</td>\n",
       "      <td>&lt;nosql&gt;&lt;relational-dbms&gt;</td>\n",
       "      <td>5.0</td>\n",
       "      <td>1</td>\n",
       "      <td>1.0</td>\n",
       "      <td>NaN</td>\n",
       "    </tr>\n",
       "  </tbody>\n",
       "</table>\n",
       "</div>"
      ],
      "text/plain": [
       "    5  1  2014-05-13T23:58:30.457   9     448  2014-05-14T00:36:31.077  \\\n",
       "0   9  2  2014-05-14T00:36:31.077   5     NaN  2014-05-14T00:36:31.077   \n",
       "1  14  1  2014-05-14T01:25:59.677  21  1243.0  2014-06-20T17:36:05.023   \n",
       "2  16  1  2014-05-14T01:57:56.880  18   322.0  2014-05-17T16:24:14.523   \n",
       "3  18  4  2014-05-14T02:49:14.580   0     NaN  2014-05-14T02:49:14.580   \n",
       "4  20  1  2014-05-14T05:37:46.780  17   311.0  2017-08-29T11:26:37.137   \n",
       "\n",
       "  How can I do simple machine learning without hard-coding behavior?  \\\n",
       "0                                                NaN                   \n",
       "1           Is Data Science the Same as Data Mining?                   \n",
       "2    Use liblinear on big data for semantic analysis                   \n",
       "3                                                NaN                   \n",
       "4  the data on our relational DBMS is getting big...                   \n",
       "\n",
       "                    <machine-learning>  1.1  1.2  1.3 2014-05-14T14:40:25.950  \n",
       "0                                  NaN  NaN    0  NaN                     NaN  \n",
       "1           <data-mining><definitions>  4.0    1  4.0                     NaN  \n",
       "2  <machine-learning><bigdata><libsvm>  2.0    0  NaN                     NaN  \n",
       "3                                  NaN  NaN    0  NaN                     NaN  \n",
       "4             <nosql><relational-dbms>  5.0    1  1.0                     NaN  "
      ]
     },
     "execution_count": 26,
     "metadata": {},
     "output_type": "execute_result"
    }
   ],
   "source": [
    "# can use a function to define which rows to include (using the row index as supplied argument)\n",
    "df_odd = pd.read_csv(remote_file,skiprows=lambda indx: indx % 2 != 0)\n",
    "df_odd.head(5)"
   ]
  },
  {
   "cell_type": "code",
   "execution_count": 28,
   "metadata": {},
   "outputs": [
    {
     "data": {
      "text/html": [
       "<div>\n",
       "<style scoped>\n",
       "    .dataframe tbody tr th:only-of-type {\n",
       "        vertical-align: middle;\n",
       "    }\n",
       "\n",
       "    .dataframe tbody tr th {\n",
       "        vertical-align: top;\n",
       "    }\n",
       "\n",
       "    .dataframe thead th {\n",
       "        text-align: right;\n",
       "    }\n",
       "</style>\n",
       "<table border=\"1\" class=\"dataframe\">\n",
       "  <thead>\n",
       "    <tr style=\"text-align: right;\">\n",
       "      <th></th>\n",
       "      <th>5</th>\n",
       "      <th>How can I do simple machine learning without hard-coding behavior?</th>\n",
       "      <th>&lt;machine-learning&gt;</th>\n",
       "      <th>1.1</th>\n",
       "    </tr>\n",
       "  </thead>\n",
       "  <tbody>\n",
       "    <tr>\n",
       "      <th>0</th>\n",
       "      <td>7</td>\n",
       "      <td>What open-source books (or other materials) pr...</td>\n",
       "      <td>&lt;education&gt;&lt;open-source&gt;</td>\n",
       "      <td>3.0</td>\n",
       "    </tr>\n",
       "    <tr>\n",
       "      <th>1</th>\n",
       "      <td>9</td>\n",
       "      <td>NaN</td>\n",
       "      <td>NaN</td>\n",
       "      <td>NaN</td>\n",
       "    </tr>\n",
       "  </tbody>\n",
       "</table>\n",
       "</div>"
      ],
      "text/plain": [
       "   5 How can I do simple machine learning without hard-coding behavior?  \\\n",
       "0  7  What open-source books (or other materials) pr...                   \n",
       "1  9                                                NaN                   \n",
       "\n",
       "         <machine-learning>  1.1  \n",
       "0  <education><open-source>  3.0  \n",
       "1                       NaN  NaN  "
      ]
     },
     "execution_count": 28,
     "metadata": {},
     "output_type": "execute_result"
    }
   ],
   "source": [
    "# specify which columns to load\n",
    "df_columns = pd.read_csv(remote_file,usecols=[0,6,7,8])\n",
    "df_columns.head(2)"
   ]
  },
  {
   "cell_type": "code",
   "execution_count": 30,
   "metadata": {},
   "outputs": [
    {
     "data": {
      "text/plain": [
       "Index(['5',\n",
       "       'How can I do simple machine learning without hard-coding behavior?',\n",
       "       '<machine-learning>', '1.1'],\n",
       "      dtype='object')"
      ]
     },
     "execution_count": 30,
     "metadata": {},
     "output_type": "execute_result"
    }
   ],
   "source": [
    "df_columns.columns # returns an index of the column names"
   ]
  },
  {
   "cell_type": "code",
   "execution_count": 31,
   "metadata": {},
   "outputs": [
    {
     "data": {
      "text/html": [
       "<div>\n",
       "<style scoped>\n",
       "    .dataframe tbody tr th:only-of-type {\n",
       "        vertical-align: middle;\n",
       "    }\n",
       "\n",
       "    .dataframe tbody tr th {\n",
       "        vertical-align: top;\n",
       "    }\n",
       "\n",
       "    .dataframe thead th {\n",
       "        text-align: right;\n",
       "    }\n",
       "</style>\n",
       "<table border=\"1\" class=\"dataframe\">\n",
       "  <thead>\n",
       "    <tr style=\"text-align: right;\">\n",
       "      <th></th>\n",
       "      <th>0</th>\n",
       "      <th>1</th>\n",
       "      <th>2</th>\n",
       "      <th>3</th>\n",
       "      <th>4</th>\n",
       "      <th>5</th>\n",
       "      <th>6</th>\n",
       "      <th>7</th>\n",
       "      <th>8</th>\n",
       "      <th>9</th>\n",
       "      <th>10</th>\n",
       "      <th>11</th>\n",
       "    </tr>\n",
       "  </thead>\n",
       "  <tbody>\n",
       "    <tr>\n",
       "      <th>0</th>\n",
       "      <td>5</td>\n",
       "      <td>1</td>\n",
       "      <td>2014-05-13T23:58:30.457</td>\n",
       "      <td>9</td>\n",
       "      <td>448.0</td>\n",
       "      <td>2014-05-14T00:36:31.077</td>\n",
       "      <td>How can I do simple machine learning without h...</td>\n",
       "      <td>&lt;machine-learning&gt;</td>\n",
       "      <td>1.0</td>\n",
       "      <td>1</td>\n",
       "      <td>1.0</td>\n",
       "      <td>2014-05-14T14:40:25.950</td>\n",
       "    </tr>\n",
       "    <tr>\n",
       "      <th>1</th>\n",
       "      <td>7</td>\n",
       "      <td>1</td>\n",
       "      <td>2014-05-14T00:11:06.457</td>\n",
       "      <td>4</td>\n",
       "      <td>388.0</td>\n",
       "      <td>2014-05-16T13:45:00.237</td>\n",
       "      <td>What open-source books (or other materials) pr...</td>\n",
       "      <td>&lt;education&gt;&lt;open-source&gt;</td>\n",
       "      <td>3.0</td>\n",
       "      <td>4</td>\n",
       "      <td>1.0</td>\n",
       "      <td>2014-05-14T08:40:54.950</td>\n",
       "    </tr>\n",
       "  </tbody>\n",
       "</table>\n",
       "</div>"
      ],
      "text/plain": [
       "   0   1                        2   3      4                        5   \\\n",
       "0   5   1  2014-05-13T23:58:30.457   9  448.0  2014-05-14T00:36:31.077   \n",
       "1   7   1  2014-05-14T00:11:06.457   4  388.0  2014-05-16T13:45:00.237   \n",
       "\n",
       "                                                  6   \\\n",
       "0  How can I do simple machine learning without h...   \n",
       "1  What open-source books (or other materials) pr...   \n",
       "\n",
       "                         7    8   9    10                       11  \n",
       "0        <machine-learning>  1.0   1  1.0  2014-05-14T14:40:25.950  \n",
       "1  <education><open-source>  3.0   4  1.0  2014-05-14T08:40:54.950  "
      ]
     },
     "execution_count": 31,
     "metadata": {},
     "output_type": "execute_result"
    }
   ],
   "source": [
    "# use header=None to indicate the file does not have a header row, and to auto-generate a column index\n",
    "df_no_header = pd.read_csv(remote_file,header=None)\n",
    "df_no_header.head(2)"
   ]
  },
  {
   "cell_type": "code",
   "execution_count": 33,
   "metadata": {},
   "outputs": [
    {
     "name": "stdout",
     "output_type": "stream",
     "text": [
      "Index(['Col0', 'Col1', 'Col2', 'Col3', 'Col4', 'Col5', 'Col6', 'Col7', 'Col8',\n",
      "       'Col9', 'Col10', 'Col11'],\n",
      "      dtype='object')\n"
     ]
    },
    {
     "data": {
      "text/html": [
       "<div>\n",
       "<style scoped>\n",
       "    .dataframe tbody tr th:only-of-type {\n",
       "        vertical-align: middle;\n",
       "    }\n",
       "\n",
       "    .dataframe tbody tr th {\n",
       "        vertical-align: top;\n",
       "    }\n",
       "\n",
       "    .dataframe thead th {\n",
       "        text-align: right;\n",
       "    }\n",
       "</style>\n",
       "<table border=\"1\" class=\"dataframe\">\n",
       "  <thead>\n",
       "    <tr style=\"text-align: right;\">\n",
       "      <th></th>\n",
       "      <th>Col0</th>\n",
       "      <th>Col1</th>\n",
       "      <th>Col2</th>\n",
       "      <th>Col3</th>\n",
       "      <th>Col4</th>\n",
       "      <th>Col5</th>\n",
       "      <th>Col6</th>\n",
       "      <th>Col7</th>\n",
       "      <th>Col8</th>\n",
       "      <th>Col9</th>\n",
       "      <th>Col10</th>\n",
       "      <th>Col11</th>\n",
       "    </tr>\n",
       "  </thead>\n",
       "  <tbody>\n",
       "    <tr>\n",
       "      <th>0</th>\n",
       "      <td>5</td>\n",
       "      <td>1</td>\n",
       "      <td>2014-05-13T23:58:30.457</td>\n",
       "      <td>9</td>\n",
       "      <td>448.0</td>\n",
       "      <td>2014-05-14T00:36:31.077</td>\n",
       "      <td>How can I do simple machine learning without h...</td>\n",
       "      <td>&lt;machine-learning&gt;</td>\n",
       "      <td>1.0</td>\n",
       "      <td>1</td>\n",
       "      <td>1.0</td>\n",
       "      <td>2014-05-14T14:40:25.950</td>\n",
       "    </tr>\n",
       "    <tr>\n",
       "      <th>1</th>\n",
       "      <td>7</td>\n",
       "      <td>1</td>\n",
       "      <td>2014-05-14T00:11:06.457</td>\n",
       "      <td>4</td>\n",
       "      <td>388.0</td>\n",
       "      <td>2014-05-16T13:45:00.237</td>\n",
       "      <td>What open-source books (or other materials) pr...</td>\n",
       "      <td>&lt;education&gt;&lt;open-source&gt;</td>\n",
       "      <td>3.0</td>\n",
       "      <td>4</td>\n",
       "      <td>1.0</td>\n",
       "      <td>2014-05-14T08:40:54.950</td>\n",
       "    </tr>\n",
       "  </tbody>\n",
       "</table>\n",
       "</div>"
      ],
      "text/plain": [
       "   Col0  Col1                     Col2  Col3   Col4                     Col5  \\\n",
       "0     5     1  2014-05-13T23:58:30.457     9  448.0  2014-05-14T00:36:31.077   \n",
       "1     7     1  2014-05-14T00:11:06.457     4  388.0  2014-05-16T13:45:00.237   \n",
       "\n",
       "                                                Col6  \\\n",
       "0  How can I do simple machine learning without h...   \n",
       "1  What open-source books (or other materials) pr...   \n",
       "\n",
       "                       Col7  Col8  Col9  Col10                    Col11  \n",
       "0        <machine-learning>   1.0     1    1.0  2014-05-14T14:40:25.950  \n",
       "1  <education><open-source>   3.0     4    1.0  2014-05-14T08:40:54.950  "
      ]
     },
     "execution_count": 33,
     "metadata": {},
     "output_type": "execute_result"
    }
   ],
   "source": [
    "# add prefix to auto-generated column index\n",
    "df_no_header = pd.read_csv(remote_file,header=None,prefix='Col')\n",
    "print(df_no_header.columns)\n",
    "df_no_header.head(2)"
   ]
  },
  {
   "cell_type": "code",
   "execution_count": 35,
   "metadata": {},
   "outputs": [
    {
     "name": "stdout",
     "output_type": "stream",
     "text": [
      "Index(['New_Id', 'New_PostTypeId', 'New_CreationDate', 'New_Score'], dtype='object')\n"
     ]
    },
    {
     "data": {
      "text/html": [
       "<div>\n",
       "<style scoped>\n",
       "    .dataframe tbody tr th:only-of-type {\n",
       "        vertical-align: middle;\n",
       "    }\n",
       "\n",
       "    .dataframe tbody tr th {\n",
       "        vertical-align: top;\n",
       "    }\n",
       "\n",
       "    .dataframe thead th {\n",
       "        text-align: right;\n",
       "    }\n",
       "</style>\n",
       "<table border=\"1\" class=\"dataframe\">\n",
       "  <thead>\n",
       "    <tr style=\"text-align: right;\">\n",
       "      <th></th>\n",
       "      <th>New_Id</th>\n",
       "      <th>New_PostTypeId</th>\n",
       "      <th>New_CreationDate</th>\n",
       "      <th>New_Score</th>\n",
       "    </tr>\n",
       "  </thead>\n",
       "  <tbody>\n",
       "    <tr>\n",
       "      <th>0</th>\n",
       "      <td>5</td>\n",
       "      <td>1</td>\n",
       "      <td>2014-05-13T23:58:30.457</td>\n",
       "      <td>9</td>\n",
       "    </tr>\n",
       "    <tr>\n",
       "      <th>1</th>\n",
       "      <td>7</td>\n",
       "      <td>1</td>\n",
       "      <td>2014-05-14T00:11:06.457</td>\n",
       "      <td>4</td>\n",
       "    </tr>\n",
       "  </tbody>\n",
       "</table>\n",
       "</div>"
      ],
      "text/plain": [
       "   New_Id  New_PostTypeId         New_CreationDate  New_Score\n",
       "0       5               1  2014-05-13T23:58:30.457          9\n",
       "1       7               1  2014-05-14T00:11:06.457          4"
      ]
     },
     "execution_count": 35,
     "metadata": {},
     "output_type": "execute_result"
    }
   ],
   "source": [
    "# or provide the column header names\n",
    "header_names = ['New_Id','New_PostTypeId','New_CreationDate','New_Score']\n",
    "df = pd.read_csv(remote_file,names=header_names,usecols=[0,1,2,3])\n",
    "print(df.columns)\n",
    "df.head(2)"
   ]
  },
  {
   "cell_type": "code",
   "execution_count": 36,
   "metadata": {},
   "outputs": [
    {
     "name": "stdout",
     "output_type": "stream",
     "text": [
      "Index(['Id', 'PostTypeId', 'CreationDate', 'Score', 'ViewCount',\n",
      "       'LastActivityDate', 'Title', 'Tags', 'AnswerCount', 'CommentCount',\n",
      "       'FavoriteCount', 'ClosedDate'],\n",
      "      dtype='object')\n"
     ]
    },
    {
     "data": {
      "text/html": [
       "<div>\n",
       "<style scoped>\n",
       "    .dataframe tbody tr th:only-of-type {\n",
       "        vertical-align: middle;\n",
       "    }\n",
       "\n",
       "    .dataframe tbody tr th {\n",
       "        vertical-align: top;\n",
       "    }\n",
       "\n",
       "    .dataframe thead th {\n",
       "        text-align: right;\n",
       "    }\n",
       "</style>\n",
       "<table border=\"1\" class=\"dataframe\">\n",
       "  <thead>\n",
       "    <tr style=\"text-align: right;\">\n",
       "      <th></th>\n",
       "      <th>Id</th>\n",
       "      <th>PostTypeId</th>\n",
       "      <th>CreationDate</th>\n",
       "      <th>Score</th>\n",
       "      <th>ViewCount</th>\n",
       "      <th>LastActivityDate</th>\n",
       "      <th>Title</th>\n",
       "      <th>Tags</th>\n",
       "      <th>AnswerCount</th>\n",
       "      <th>CommentCount</th>\n",
       "      <th>FavoriteCount</th>\n",
       "      <th>ClosedDate</th>\n",
       "    </tr>\n",
       "  </thead>\n",
       "  <tbody>\n",
       "    <tr>\n",
       "      <th>0</th>\n",
       "      <td>5</td>\n",
       "      <td>1</td>\n",
       "      <td>2014-05-13T23:58:30.457</td>\n",
       "      <td>9</td>\n",
       "      <td>448.0</td>\n",
       "      <td>2014-05-14T00:36:31.077</td>\n",
       "      <td>How can I do simple machine learning without h...</td>\n",
       "      <td>&lt;machine-learning&gt;</td>\n",
       "      <td>1.0</td>\n",
       "      <td>1</td>\n",
       "      <td>1.0</td>\n",
       "      <td>2014-05-14T14:40:25.950</td>\n",
       "    </tr>\n",
       "    <tr>\n",
       "      <th>1</th>\n",
       "      <td>7</td>\n",
       "      <td>1</td>\n",
       "      <td>2014-05-14T00:11:06.457</td>\n",
       "      <td>4</td>\n",
       "      <td>388.0</td>\n",
       "      <td>2014-05-16T13:45:00.237</td>\n",
       "      <td>What open-source books (or other materials) pr...</td>\n",
       "      <td>&lt;education&gt;&lt;open-source&gt;</td>\n",
       "      <td>3.0</td>\n",
       "      <td>4</td>\n",
       "      <td>1.0</td>\n",
       "      <td>2014-05-14T08:40:54.950</td>\n",
       "    </tr>\n",
       "  </tbody>\n",
       "</table>\n",
       "</div>"
      ],
      "text/plain": [
       "   Id  PostTypeId             CreationDate  Score  ViewCount  \\\n",
       "0   5           1  2014-05-13T23:58:30.457      9      448.0   \n",
       "1   7           1  2014-05-14T00:11:06.457      4      388.0   \n",
       "\n",
       "          LastActivityDate                                              Title  \\\n",
       "0  2014-05-14T00:36:31.077  How can I do simple machine learning without h...   \n",
       "1  2014-05-16T13:45:00.237  What open-source books (or other materials) pr...   \n",
       "\n",
       "                       Tags  AnswerCount  CommentCount  FavoriteCount  \\\n",
       "0        <machine-learning>          1.0             1            1.0   \n",
       "1  <education><open-source>          3.0             4            1.0   \n",
       "\n",
       "                ClosedDate  \n",
       "0  2014-05-14T14:40:25.950  \n",
       "1  2014-05-14T08:40:54.950  "
      ]
     },
     "execution_count": 36,
     "metadata": {},
     "output_type": "execute_result"
    }
   ],
   "source": [
    "# import file with header row\n",
    "df = pd.read_csv('./files/posts-100-header.csv')  # defaults parameter header=infer\n",
    "print(df.columns)\n",
    "df.head(2)"
   ]
  },
  {
   "cell_type": "code",
   "execution_count": 37,
   "metadata": {},
   "outputs": [
    {
     "name": "stdout",
     "output_type": "stream",
     "text": [
      "Int64Index([0, 1, 2, 3, 4, 5, 6, 7, 8, 9, 10, 11], dtype='int64')\n"
     ]
    },
    {
     "data": {
      "text/html": [
       "<div>\n",
       "<style scoped>\n",
       "    .dataframe tbody tr th:only-of-type {\n",
       "        vertical-align: middle;\n",
       "    }\n",
       "\n",
       "    .dataframe tbody tr th {\n",
       "        vertical-align: top;\n",
       "    }\n",
       "\n",
       "    .dataframe thead th {\n",
       "        text-align: right;\n",
       "    }\n",
       "</style>\n",
       "<table border=\"1\" class=\"dataframe\">\n",
       "  <thead>\n",
       "    <tr style=\"text-align: right;\">\n",
       "      <th></th>\n",
       "      <th>0</th>\n",
       "      <th>1</th>\n",
       "      <th>2</th>\n",
       "      <th>3</th>\n",
       "      <th>4</th>\n",
       "      <th>5</th>\n",
       "      <th>6</th>\n",
       "      <th>7</th>\n",
       "      <th>8</th>\n",
       "      <th>9</th>\n",
       "      <th>10</th>\n",
       "      <th>11</th>\n",
       "    </tr>\n",
       "  </thead>\n",
       "  <tbody>\n",
       "    <tr>\n",
       "      <th>0</th>\n",
       "      <td>Id</td>\n",
       "      <td>PostTypeId</td>\n",
       "      <td>CreationDate</td>\n",
       "      <td>Score</td>\n",
       "      <td>ViewCount</td>\n",
       "      <td>LastActivityDate</td>\n",
       "      <td>Title</td>\n",
       "      <td>Tags</td>\n",
       "      <td>AnswerCount</td>\n",
       "      <td>CommentCount</td>\n",
       "      <td>FavoriteCount</td>\n",
       "      <td>ClosedDate</td>\n",
       "    </tr>\n",
       "    <tr>\n",
       "      <th>1</th>\n",
       "      <td>5</td>\n",
       "      <td>1</td>\n",
       "      <td>2014-05-13T23:58:30.457</td>\n",
       "      <td>9</td>\n",
       "      <td>448</td>\n",
       "      <td>2014-05-14T00:36:31.077</td>\n",
       "      <td>How can I do simple machine learning without h...</td>\n",
       "      <td>&lt;machine-learning&gt;</td>\n",
       "      <td>1</td>\n",
       "      <td>1</td>\n",
       "      <td>1</td>\n",
       "      <td>2014-05-14T14:40:25.950</td>\n",
       "    </tr>\n",
       "  </tbody>\n",
       "</table>\n",
       "</div>"
      ],
      "text/plain": [
       "   0           1                        2      3          4   \\\n",
       "0  Id  PostTypeId             CreationDate  Score  ViewCount   \n",
       "1   5           1  2014-05-13T23:58:30.457      9        448   \n",
       "\n",
       "                        5                                                  6   \\\n",
       "0         LastActivityDate                                              Title   \n",
       "1  2014-05-14T00:36:31.077  How can I do simple machine learning without h...   \n",
       "\n",
       "                   7            8             9              10  \\\n",
       "0                Tags  AnswerCount  CommentCount  FavoriteCount   \n",
       "1  <machine-learning>            1             1              1   \n",
       "\n",
       "                        11  \n",
       "0               ClosedDate  \n",
       "1  2014-05-14T14:40:25.950  "
      ]
     },
     "execution_count": 37,
     "metadata": {},
     "output_type": "execute_result"
    }
   ],
   "source": [
    "# import file with header row - can ignore header row with header=None\n",
    "df = pd.read_csv('./files/posts-100-header.csv',header=None)\n",
    "print(df.columns)\n",
    "df.head(2)"
   ]
  },
  {
   "cell_type": "code",
   "execution_count": 41,
   "metadata": {},
   "outputs": [
    {
     "data": {
      "text/plain": [
       "Index(['Id', 'PostTypeId', 'CreationDate', 'Score', 'ViewCount',\n",
       "       'LastActivityDate', 'Title', 'Tags', 'AnswerCount', 'CommentCount',\n",
       "       'FavoriteCount', 'ClosedDate'],\n",
       "      dtype='object')"
      ]
     },
     "execution_count": 41,
     "metadata": {},
     "output_type": "execute_result"
    }
   ],
   "source": [
    "# header='infer' uses the first row as the column index values ('infer' is the default)\n",
    "pd.read_csv('./files/posts-100-header.csv',header='infer').columns"
   ]
  },
  {
   "cell_type": "code",
   "execution_count": 39,
   "metadata": {},
   "outputs": [
    {
     "data": {
      "text/plain": [
       "Int64Index([0, 1, 2, 3, 4, 5, 6, 7, 8, 9, 10, 11], dtype='int64')"
      ]
     },
     "execution_count": 39,
     "metadata": {},
     "output_type": "execute_result"
    }
   ],
   "source": [
    "p# header=None generates an index based on integer position\n",
    "d.read_csv('./files/posts-100-header.csv',header=None).columns"
   ]
  },
  {
   "cell_type": "code",
   "execution_count": 42,
   "metadata": {},
   "outputs": [
    {
     "data": {
      "text/plain": [
       "Index(['5', '1', '2014-05-13T23:58:30.457', '9', '448',\n",
       "       '2014-05-14T00:36:31.077',\n",
       "       'How can I do simple machine learning without hard-coding behavior?',\n",
       "       '<machine-learning>', '1.1', '1.2', '1.3', '2014-05-14T14:40:25.950'],\n",
       "      dtype='object')"
      ]
     },
     "execution_count": 42,
     "metadata": {},
     "output_type": "execute_result"
    }
   ],
   "source": [
    "# header='infer' uses the first row as the column index values - first row used even if it is data\n",
    "pd.read_csv('./files/posts-100.csv',header='infer').columns"
   ]
  },
  {
   "cell_type": "code",
   "execution_count": 43,
   "metadata": {},
   "outputs": [
    {
     "data": {
      "text/plain": [
       "Id               int64\n",
       "PostTypeId       int64\n",
       "CreationDate    object\n",
       "Tags            object\n",
       "dtype: object"
      ]
     },
     "execution_count": 43,
     "metadata": {},
     "output_type": "execute_result"
    }
   ],
   "source": [
    "# inspect types of imported columns\n",
    "pd.read_csv('./files/posts-100-header.csv',usecols=[0,1,2,7]).dtypes"
   ]
  },
  {
   "cell_type": "code",
   "execution_count": 49,
   "metadata": {},
   "outputs": [
    {
     "name": "stdout",
     "output_type": "stream",
     "text": [
      "Id                int64\n",
      "PostTypeId      float64\n",
      "CreationDate     object\n",
      "Tags             object\n",
      "dtype: object\n",
      "\n",
      "Id               int64\n",
      "PostTypeId      object\n",
      "CreationDate    object\n",
      "Tags            object\n",
      "dtype: object\n"
     ]
    }
   ],
   "source": [
    "# specify the types of the columns on import, using dtype={dictionary}\n",
    "print(pd.read_csv('./files/posts-100-header.csv',dtype={'PostTypeId': float},usecols=[0,1,2,7]).dtypes)\n",
    "print('')\n",
    "print(pd.read_csv('./files/posts-100-header.csv',dtype={'PostTypeId': str},usecols=[0,1,2,7]).dtypes)"
   ]
  },
  {
   "cell_type": "code",
   "execution_count": 58,
   "metadata": {},
   "outputs": [
    {
     "name": "stdout",
     "output_type": "stream",
     "text": [
      "Id                                     7\n",
      "PostTypeId                             1\n",
      "CreationDate     2014-05-14T00:11:06.457\n",
      "Tags            <education><open-source>\n",
      "Name: 1, dtype: object\n",
      "\n",
      "<education><open-source> <class 'str'>\n",
      "\n",
      "['<education>', '<open-source>'] <class 'list'>\n"
     ]
    },
    {
     "data": {
      "text/html": [
       "<div>\n",
       "<style scoped>\n",
       "    .dataframe tbody tr th:only-of-type {\n",
       "        vertical-align: middle;\n",
       "    }\n",
       "\n",
       "    .dataframe tbody tr th {\n",
       "        vertical-align: top;\n",
       "    }\n",
       "\n",
       "    .dataframe thead th {\n",
       "        text-align: right;\n",
       "    }\n",
       "</style>\n",
       "<table border=\"1\" class=\"dataframe\">\n",
       "  <thead>\n",
       "    <tr style=\"text-align: right;\">\n",
       "      <th></th>\n",
       "      <th>Id</th>\n",
       "      <th>PostTypeId</th>\n",
       "      <th>CreationDate</th>\n",
       "      <th>Tags</th>\n",
       "    </tr>\n",
       "  </thead>\n",
       "  <tbody>\n",
       "    <tr>\n",
       "      <th>0</th>\n",
       "      <td>5</td>\n",
       "      <td>1</td>\n",
       "      <td>2014-05-13T23:58:30.457</td>\n",
       "      <td>[&lt;machine-learning&gt;]</td>\n",
       "    </tr>\n",
       "    <tr>\n",
       "      <th>1</th>\n",
       "      <td>7</td>\n",
       "      <td>1</td>\n",
       "      <td>2014-05-14T00:11:06.457</td>\n",
       "      <td>[&lt;education&gt;, &lt;open-source&gt;]</td>\n",
       "    </tr>\n",
       "    <tr>\n",
       "      <th>2</th>\n",
       "      <td>9</td>\n",
       "      <td>2</td>\n",
       "      <td>2014-05-14T00:36:31.077</td>\n",
       "      <td>[]</td>\n",
       "    </tr>\n",
       "  </tbody>\n",
       "</table>\n",
       "</div>"
      ],
      "text/plain": [
       "   Id  PostTypeId             CreationDate                          Tags\n",
       "0   5           1  2014-05-13T23:58:30.457          [<machine-learning>]\n",
       "1   7           1  2014-05-14T00:11:06.457  [<education>, <open-source>]\n",
       "2   9           2  2014-05-14T00:36:31.077                            []"
      ]
     },
     "execution_count": 58,
     "metadata": {},
     "output_type": "execute_result"
    }
   ],
   "source": [
    "# Using a converter to process column as it's loaded\n",
    "import re\n",
    "df = pd.read_csv('./files/posts-100-header.csv',dtype={'PostTypeId': str},usecols=[0,1,2,7])\n",
    "print(df.iloc[1])\n",
    "print()\n",
    "print(df.iloc[1]['Tags'], type(df.iloc[1]['Tags']))\n",
    "print()\n",
    "df = pd.read_csv('./files/posts-100-header.csv',usecols=[0,1,2,7],\n",
    "                converters={'Tags': lambda x: re.findall('<[A-Za-z0-9_-]*>',x)})\n",
    "print(df.iloc[1]['Tags'], type(df.iloc[1]['Tags']))\n",
    "df.head(3)"
   ]
  },
  {
   "cell_type": "code",
   "execution_count": 64,
   "metadata": {},
   "outputs": [
    {
     "name": "stdout",
     "output_type": "stream",
     "text": [
      "Id               int64\n",
      "PostTypeId      object\n",
      "CreationDate    object\n",
      "Tags            object\n",
      "dtype: object\n",
      "<class 'str'>\n",
      "\n",
      "Id                       int64\n",
      "PostTypeId              object\n",
      "CreationDate    datetime64[ns]\n",
      "Tags                    object\n",
      "dtype: object\n",
      "<class 'pandas._libs.tslibs.timestamps.Timestamp'>\n"
     ]
    }
   ],
   "source": [
    "# laoding dates: use parse_dates with index(es) or name(s)\n",
    "df = pd.read_csv('./files/posts-100-header.csv',dtype={'PostTypeId': str},usecols=[0,1,2,7])\n",
    "print(df.dtypes)\n",
    "print(type(df['CreationDate'][0]))\n",
    "print()\n",
    "df = pd.read_csv('./files/posts-100-header.csv',dtype={'PostTypeId': str},usecols=[0,1,2,7],\n",
    "                parse_dates=['CreationDate'])\n",
    "print(df.dtypes)\n",
    "print(type(df['CreationDate'][0]))"
   ]
  },
  {
   "cell_type": "code",
   "execution_count": 72,
   "metadata": {},
   "outputs": [
    {
     "name": "stdout",
     "output_type": "stream",
     "text": [
      "   Id  Score  ViewCount  AnswerCount  CommentCount  FavoriteCount\n",
      "0   5      9      448.0          1.0             1            1.0\n",
      "1   7      4      388.0          3.0             4            1.0\n",
      "2   9      5        NaN          NaN             0            NaN\n",
      "3  10     12        NaN          NaN             1            NaN\n",
      "4  14     21     1243.0          4.0             1            4.0\n",
      "\n",
      "   Id  Score ViewCount AnswerCount  CommentCount FavoriteCount\n",
      "0   5      9       448           1             1             1\n",
      "1   7      4       388           3             4             1\n",
      "2   9      5                                   0              \n",
      "3  10     12                                   1              \n",
      "4  14     21      1243           4             1             4\n",
      "   Id  Score  ViewCount  AnswerCount  CommentCount  FavoriteCount\n",
      "0   5      9      448.0          1.0             1            1.0\n",
      "1   7      4      388.0          3.0             4            1.0\n",
      "2   9      5        NaN          NaN             0            NaN\n",
      "3  10     12        NaN          NaN             1            NaN\n",
      "4  14     21     1243.0          4.0             1            4.0\n"
     ]
    }
   ],
   "source": [
    "# handling missing values\n",
    "df = pd.read_csv('./files/posts-100-header.csv',usecols=[0,3,4,8,9,10]) # missing values are converted to nan by default\n",
    "print(df.head(5))\n",
    "print()\n",
    "\n",
    "df = pd.read_csv('./files/posts-100-header.csv',usecols=[0,3,4,8,9,10], na_filter=False) # missing values not converted to nan\n",
    "print(df.head(5))\n",
    "print()\n",
    "\n",
    "#df = pd.read_csv('./files/posts-100-header.csv',usecols=[0,3,4,8,9,10],\n",
    "#                 dtype={'ViewCount': float}, na_filter=False) # raises exception - can't convert missing to float\n",
    "\n",
    "df = pd.read_csv('./files/posts-100-header.csv',usecols=[0,3,4,8,9,10],\n",
    "                 dtype={'ViewCount': float}, na_filter=True) # na_filter=True avoids exception\n",
    "print(df.head(5))\n",
    "print()"
   ]
  },
  {
   "cell_type": "markdown",
   "metadata": {},
   "source": [
    "### Tab seperated values file"
   ]
  },
  {
   "cell_type": "code",
   "execution_count": 77,
   "metadata": {},
   "outputs": [
    {
     "data": {
      "text/html": [
       "<div>\n",
       "<style scoped>\n",
       "    .dataframe tbody tr th:only-of-type {\n",
       "        vertical-align: middle;\n",
       "    }\n",
       "\n",
       "    .dataframe tbody tr th {\n",
       "        vertical-align: top;\n",
       "    }\n",
       "\n",
       "    .dataframe thead th {\n",
       "        text-align: right;\n",
       "    }\n",
       "</style>\n",
       "<table border=\"1\" class=\"dataframe\">\n",
       "  <thead>\n",
       "    <tr style=\"text-align: right;\">\n",
       "      <th></th>\n",
       "      <th>5</th>\n",
       "      <th>1</th>\n",
       "      <th>2014-05-13T23:58:30.457</th>\n",
       "      <th>9</th>\n",
       "      <th>448</th>\n",
       "      <th>2014-05-14T00:36:31.077</th>\n",
       "      <th>How can I do simple machine learning without hard-coding behavior?</th>\n",
       "      <th>&lt;machine-learning&gt;</th>\n",
       "      <th>1.1</th>\n",
       "      <th>1.2</th>\n",
       "      <th>1.3</th>\n",
       "      <th>2014-05-14T14:40:25.950</th>\n",
       "    </tr>\n",
       "  </thead>\n",
       "  <tbody>\n",
       "    <tr>\n",
       "      <th>0</th>\n",
       "      <td>7</td>\n",
       "      <td>1</td>\n",
       "      <td>2014-05-14T00:11:06.457</td>\n",
       "      <td>4</td>\n",
       "      <td>388.0</td>\n",
       "      <td>2014-05-16T13:45:00.237</td>\n",
       "      <td>What open-source books (or other materials) pr...</td>\n",
       "      <td>&lt;education&gt;&lt;open-source&gt;</td>\n",
       "      <td>3.0</td>\n",
       "      <td>4</td>\n",
       "      <td>1.0</td>\n",
       "      <td>2014-05-14T08:40:54.950</td>\n",
       "    </tr>\n",
       "    <tr>\n",
       "      <th>1</th>\n",
       "      <td>9</td>\n",
       "      <td>2</td>\n",
       "      <td>2014-05-14T00:36:31.077</td>\n",
       "      <td>5</td>\n",
       "      <td>NaN</td>\n",
       "      <td>2014-05-14T00:36:31.077</td>\n",
       "      <td>NaN</td>\n",
       "      <td>NaN</td>\n",
       "      <td>NaN</td>\n",
       "      <td>0</td>\n",
       "      <td>NaN</td>\n",
       "      <td>NaN</td>\n",
       "    </tr>\n",
       "    <tr>\n",
       "      <th>2</th>\n",
       "      <td>10</td>\n",
       "      <td>2</td>\n",
       "      <td>2014-05-14T00:53:43.273</td>\n",
       "      <td>12</td>\n",
       "      <td>NaN</td>\n",
       "      <td>2014-05-14T00:53:43.273</td>\n",
       "      <td>NaN</td>\n",
       "      <td>NaN</td>\n",
       "      <td>NaN</td>\n",
       "      <td>1</td>\n",
       "      <td>NaN</td>\n",
       "      <td>NaN</td>\n",
       "    </tr>\n",
       "  </tbody>\n",
       "</table>\n",
       "</div>"
      ],
      "text/plain": [
       "    5  1  2014-05-13T23:58:30.457   9    448  2014-05-14T00:36:31.077  \\\n",
       "0   7  1  2014-05-14T00:11:06.457   4  388.0  2014-05-16T13:45:00.237   \n",
       "1   9  2  2014-05-14T00:36:31.077   5    NaN  2014-05-14T00:36:31.077   \n",
       "2  10  2  2014-05-14T00:53:43.273  12    NaN  2014-05-14T00:53:43.273   \n",
       "\n",
       "  How can I do simple machine learning without hard-coding behavior?  \\\n",
       "0  What open-source books (or other materials) pr...                   \n",
       "1                                                NaN                   \n",
       "2                                                NaN                   \n",
       "\n",
       "         <machine-learning>  1.1  1.2  1.3  2014-05-14T14:40:25.950  \n",
       "0  <education><open-source>  3.0    4  1.0  2014-05-14T08:40:54.950  \n",
       "1                       NaN  NaN    0  NaN                      NaN  \n",
       "2                       NaN  NaN    1  NaN                      NaN  "
      ]
     },
     "execution_count": 77,
     "metadata": {},
     "output_type": "execute_result"
    }
   ],
   "source": [
    "#pd.read_csv('./files/posts-100.tsv').head() # raises exception, trying to use ',' as seperator\n",
    "pd.read_csv('./files/posts-100.tsv',sep='\\t').head()  # can use sep= to define the seperator\n",
    "pd.read_csv('./files/posts-100.tsv',delimiter='\\t').head()  # can also use delimiter=\n",
    "\n",
    "# alternate pandas function\n",
    "pd.read_table('./files/posts-100.tsv').head(3)"
   ]
  },
  {
   "cell_type": "code",
   "execution_count": null,
   "metadata": {},
   "outputs": [],
   "source": []
  }
 ],
 "metadata": {
  "kernelspec": {
   "display_name": "Python 3",
   "language": "python",
   "name": "python3"
  },
  "language_info": {
   "codemirror_mode": {
    "name": "ipython",
    "version": 3
   },
   "file_extension": ".py",
   "mimetype": "text/x-python",
   "name": "python",
   "nbconvert_exporter": "python",
   "pygments_lexer": "ipython3",
   "version": "3.7.1"
  }
 },
 "nbformat": 4,
 "nbformat_minor": 2
}
