{
 "cells": [
  {
   "cell_type": "markdown",
   "metadata": {},
   "source": [
    "### Importing from JSON"
   ]
  },
  {
   "cell_type": "code",
   "execution_count": 2,
   "metadata": {},
   "outputs": [],
   "source": [
    "import json  # part of standard library: https://docs.python.org/3/library/json.html"
   ]
  },
  {
   "cell_type": "code",
   "execution_count": 3,
   "metadata": {},
   "outputs": [
    {
     "name": "stdout",
     "output_type": "stream",
     "text": [
      "Help on function load in module json:\n",
      "\n",
      "load(fp, *, cls=None, object_hook=None, parse_float=None, parse_int=None, parse_constant=None, object_pairs_hook=None, **kw)\n",
      "    Deserialize ``fp`` (a ``.read()``-supporting file-like object containing\n",
      "    a JSON document) to a Python object.\n",
      "    \n",
      "    ``object_hook`` is an optional function that will be called with the\n",
      "    result of any object literal decode (a ``dict``). The return value of\n",
      "    ``object_hook`` will be used instead of the ``dict``. This feature\n",
      "    can be used to implement custom decoders (e.g. JSON-RPC class hinting).\n",
      "    \n",
      "    ``object_pairs_hook`` is an optional function that will be called with the\n",
      "    result of any object literal decoded with an ordered list of pairs.  The\n",
      "    return value of ``object_pairs_hook`` will be used instead of the ``dict``.\n",
      "    This feature can be used to implement custom decoders.  If ``object_hook``\n",
      "    is also defined, the ``object_pairs_hook`` takes priority.\n",
      "    \n",
      "    To use a custom ``JSONDecoder`` subclass, specify it with the ``cls``\n",
      "    kwarg; otherwise ``JSONDecoder`` is used.\n",
      "\n"
     ]
    }
   ],
   "source": [
    "help(json.load)"
   ]
  },
  {
   "cell_type": "code",
   "execution_count": 4,
   "metadata": {},
   "outputs": [
    {
     "name": "stdout",
     "output_type": "stream",
     "text": [
      "Help on function loads in module json:\n",
      "\n",
      "loads(s, *, encoding=None, cls=None, object_hook=None, parse_float=None, parse_int=None, parse_constant=None, object_pairs_hook=None, **kw)\n",
      "    Deserialize ``s`` (a ``str``, ``bytes`` or ``bytearray`` instance\n",
      "    containing a JSON document) to a Python object.\n",
      "    \n",
      "    ``object_hook`` is an optional function that will be called with the\n",
      "    result of any object literal decode (a ``dict``). The return value of\n",
      "    ``object_hook`` will be used instead of the ``dict``. This feature\n",
      "    can be used to implement custom decoders (e.g. JSON-RPC class hinting).\n",
      "    \n",
      "    ``object_pairs_hook`` is an optional function that will be called with the\n",
      "    result of any object literal decoded with an ordered list of pairs.  The\n",
      "    return value of ``object_pairs_hook`` will be used instead of the ``dict``.\n",
      "    This feature can be used to implement custom decoders.  If ``object_hook``\n",
      "    is also defined, the ``object_pairs_hook`` takes priority.\n",
      "    \n",
      "    ``parse_float``, if specified, will be called with the string\n",
      "    of every JSON float to be decoded. By default this is equivalent to\n",
      "    float(num_str). This can be used to use another datatype or parser\n",
      "    for JSON floats (e.g. decimal.Decimal).\n",
      "    \n",
      "    ``parse_int``, if specified, will be called with the string\n",
      "    of every JSON int to be decoded. By default this is equivalent to\n",
      "    int(num_str). This can be used to use another datatype or parser\n",
      "    for JSON integers (e.g. float).\n",
      "    \n",
      "    ``parse_constant``, if specified, will be called with one of the\n",
      "    following strings: -Infinity, Infinity, NaN.\n",
      "    This can be used to raise an exception if invalid JSON numbers\n",
      "    are encountered.\n",
      "    \n",
      "    To use a custom ``JSONDecoder`` subclass, specify it with the ``cls``\n",
      "    kwarg; otherwise ``JSONDecoder`` is used.\n",
      "    \n",
      "    The ``encoding`` argument is ignored and deprecated.\n",
      "\n"
     ]
    }
   ],
   "source": [
    "help(json.loads)"
   ]
  },
  {
   "cell_type": "code",
   "execution_count": 10,
   "metadata": {},
   "outputs": [
    {
     "name": "stdout",
     "output_type": "stream",
     "text": [
      "<class 'list'>\n",
      "100\n",
      "<class 'dict'>\n",
      "{'Id': 5, 'PostTypeId': '1', 'CreationDate': '2014-05-13T23:58:30.457', 'Score': 9, 'ViewCount': 448, 'LastActivityDate': '2014-05-14T00:36:31.077', 'Title': 'How can I do simple machine learning without hard-coding behavior?', 'Tags': '<machine-learning>', 'AnswerCount': 1, 'CommentCount': 1, 'FavoriteCount': 1, 'ClosedDate': '2014-05-14T14:40:25.950'}\n"
     ]
    }
   ],
   "source": [
    "# basic json loading\n",
    "with open('./files/posts-100.json','r') as f:\n",
    "    posts = json.load(f)\n",
    "\n",
    "print(type(posts))\n",
    "print(len(posts))\n",
    "print(type(posts[0]))\n",
    "print(posts[0])"
   ]
  },
  {
   "cell_type": "code",
   "execution_count": 15,
   "metadata": {},
   "outputs": [
    {
     "name": "stdout",
     "output_type": "stream",
     "text": [
      "<class 'tuple'>\n",
      "<class 'list'>\n",
      "[\"one\", \"two\"]\n",
      "[\"one\", \"two\"]\n",
      "<class 'list'>\n",
      "<class 'list'>\n"
     ]
    }
   ],
   "source": [
    "# watch out for problems in data types with serializing-deserializing\n",
    "tuple1 = ('one', 'two')\n",
    "list1 = ['one','two']\n",
    "print(type(tuple1))\n",
    "print(type(list1))\n",
    "\n",
    "# serialize into json\n",
    "j_tuple1 = json.dumps(tuple1)\n",
    "j_list1 = json.dumps(list1)\n",
    "\n",
    "print(j_tuple1)\n",
    "print(j_list1)\n",
    "\n",
    "# deserialize json  -- BOTH END UP LISTS\n",
    "print(type(json.loads(j_tuple1)))\n",
    "print(type(json.loads(j_list1)))"
   ]
  },
  {
   "cell_type": "markdown",
   "metadata": {},
   "source": [
    "### Importing data from JSON API"
   ]
  },
  {
   "cell_type": "code",
   "execution_count": 25,
   "metadata": {},
   "outputs": [
    {
     "name": "stdout",
     "output_type": "stream",
     "text": [
      "200\n",
      "{'userId': 1, 'id': 4, 'title': 'et porro tempora', 'completed': True}\n",
      "et porro tempora\n"
     ]
    }
   ],
   "source": [
    "test_api = 'https://jsonplaceholder.typicode.com/todos'\n",
    "import requests  # simple library for http requests\n",
    "from pprint import pprint as pp\n",
    "test_call = requests.get(test_api)\n",
    "todos = json.loads(test_call.text)\n",
    "pp(len(todos))\n",
    "print(todos[3])\n",
    "print(todos[3]['title'])"
   ]
  },
  {
   "cell_type": "markdown",
   "metadata": {},
   "source": [
    "### Importing from XML"
   ]
  },
  {
   "cell_type": "code",
   "execution_count": 31,
   "metadata": {},
   "outputs": [
    {
     "data": {
      "text/plain": [
       "<xml.etree.ElementTree.ElementTree at 0x1b560d453c8>"
      ]
     },
     "execution_count": 31,
     "metadata": {},
     "output_type": "execute_result"
    }
   ],
   "source": [
    "import xml.etree.ElementTree as ET\n",
    "tree = ET.parse('./files/users-100.xml')\n",
    "tree"
   ]
  },
  {
   "cell_type": "code",
   "execution_count": 32,
   "metadata": {},
   "outputs": [
    {
     "data": {
      "text/plain": [
       "['__class__',\n",
       " '__delattr__',\n",
       " '__dict__',\n",
       " '__dir__',\n",
       " '__doc__',\n",
       " '__eq__',\n",
       " '__format__',\n",
       " '__ge__',\n",
       " '__getattribute__',\n",
       " '__gt__',\n",
       " '__hash__',\n",
       " '__init__',\n",
       " '__init_subclass__',\n",
       " '__le__',\n",
       " '__lt__',\n",
       " '__module__',\n",
       " '__ne__',\n",
       " '__new__',\n",
       " '__reduce__',\n",
       " '__reduce_ex__',\n",
       " '__repr__',\n",
       " '__setattr__',\n",
       " '__sizeof__',\n",
       " '__str__',\n",
       " '__subclasshook__',\n",
       " '__weakref__',\n",
       " '_root',\n",
       " '_setroot',\n",
       " 'find',\n",
       " 'findall',\n",
       " 'findtext',\n",
       " 'getiterator',\n",
       " 'getroot',\n",
       " 'iter',\n",
       " 'iterfind',\n",
       " 'parse',\n",
       " 'write',\n",
       " 'write_c14n']"
      ]
     },
     "execution_count": 32,
     "metadata": {},
     "output_type": "execute_result"
    }
   ],
   "source": [
    "dir(tree)"
   ]
  },
  {
   "cell_type": "code",
   "execution_count": 34,
   "metadata": {},
   "outputs": [
    {
     "data": {
      "text/plain": [
       "'Users'"
      ]
     },
     "execution_count": 34,
     "metadata": {},
     "output_type": "execute_result"
    }
   ],
   "source": [
    "users_root = tree.getroot()\n",
    "users_root.tag"
   ]
  },
  {
   "cell_type": "code",
   "execution_count": 40,
   "metadata": {},
   "outputs": [
    {
     "data": {
      "text/plain": [
       "[<Element 'row' at 0x000001B5604C8E58>,\n",
       " <Element 'row' at 0x000001B560616E58>,\n",
       " <Element 'row' at 0x000001B560616EF8>,\n",
       " <Element 'row' at 0x000001B560626098>,\n",
       " <Element 'row' at 0x000001B560626138>,\n",
       " <Element 'row' at 0x000001B560626278>,\n",
       " <Element 'row' at 0x000001B560626368>,\n",
       " <Element 'row' at 0x000001B5606264A8>,\n",
       " <Element 'row' at 0x000001B560626598>,\n",
       " <Element 'row' at 0x000001B5606266D8>,\n",
       " <Element 'row' at 0x000001B5606267C8>,\n",
       " <Element 'row' at 0x000001B560626958>,\n",
       " <Element 'row' at 0x000001B560626A48>,\n",
       " <Element 'row' at 0x000001B560626AE8>,\n",
       " <Element 'row' at 0x000001B560626BD8>,\n",
       " <Element 'row' at 0x000001B560626D18>,\n",
       " <Element 'row' at 0x000001B560626E08>,\n",
       " <Element 'row' at 0x000001B560626F48>,\n",
       " <Element 'row' at 0x000001B560442098>,\n",
       " <Element 'row' at 0x000001B560442138>,\n",
       " <Element 'row' at 0x000001B560442278>,\n",
       " <Element 'row' at 0x000001B560442318>,\n",
       " <Element 'row' at 0x000001B560442408>,\n",
       " <Element 'row' at 0x000001B5604424A8>,\n",
       " <Element 'row' at 0x000001B5604425E8>,\n",
       " <Element 'row' at 0x000001B560442688>,\n",
       " <Element 'row' at 0x000001B560442778>,\n",
       " <Element 'row' at 0x000001B560442818>,\n",
       " <Element 'row' at 0x000001B560442958>,\n",
       " <Element 'row' at 0x000001B560442A48>,\n",
       " <Element 'row' at 0x000001B560442B38>,\n",
       " <Element 'row' at 0x000001B560442BD8>,\n",
       " <Element 'row' at 0x000001B560442CC8>,\n",
       " <Element 'row' at 0x000001B560442D68>,\n",
       " <Element 'row' at 0x000001B560442E58>,\n",
       " <Element 'row' at 0x000001B560442F98>,\n",
       " <Element 'row' at 0x000001B560419138>,\n",
       " <Element 'row' at 0x000001B5604191D8>,\n",
       " <Element 'row' at 0x000001B560419278>,\n",
       " <Element 'row' at 0x000001B560419318>,\n",
       " <Element 'row' at 0x000001B560419458>,\n",
       " <Element 'row' at 0x000001B560419598>,\n",
       " <Element 'row' at 0x000001B560419638>,\n",
       " <Element 'row' at 0x000001B560419728>,\n",
       " <Element 'row' at 0x000001B5604197C8>,\n",
       " <Element 'row' at 0x000001B560419908>,\n",
       " <Element 'row' at 0x000001B5604199A8>,\n",
       " <Element 'row' at 0x000001B560419A48>,\n",
       " <Element 'row' at 0x000001B560419AE8>,\n",
       " <Element 'row' at 0x000001B560419B88>,\n",
       " <Element 'row' at 0x000001B560419CC8>,\n",
       " <Element 'row' at 0x000001B560419D68>,\n",
       " <Element 'row' at 0x000001B560419E58>,\n",
       " <Element 'row' at 0x000001B560419F48>,\n",
       " <Element 'row' at 0x000001B560412048>,\n",
       " <Element 'row' at 0x000001B5604120E8>,\n",
       " <Element 'row' at 0x000001B560412188>,\n",
       " <Element 'row' at 0x000001B560412228>,\n",
       " <Element 'row' at 0x000001B560412318>,\n",
       " <Element 'row' at 0x000001B560412458>,\n",
       " <Element 'row' at 0x000001B560412548>,\n",
       " <Element 'row' at 0x000001B5604125E8>,\n",
       " <Element 'row' at 0x000001B560412688>,\n",
       " <Element 'row' at 0x000001B560412728>,\n",
       " <Element 'row' at 0x000001B5604127C8>,\n",
       " <Element 'row' at 0x000001B560412868>,\n",
       " <Element 'row' at 0x000001B560412908>,\n",
       " <Element 'row' at 0x000001B5604129A8>,\n",
       " <Element 'row' at 0x000001B560412AE8>,\n",
       " <Element 'row' at 0x000001B560412B88>,\n",
       " <Element 'row' at 0x000001B560412C78>,\n",
       " <Element 'row' at 0x000001B560412DB8>,\n",
       " <Element 'row' at 0x000001B560412EF8>,\n",
       " <Element 'row' at 0x000001B5604220E8>,\n",
       " <Element 'row' at 0x000001B5604221D8>,\n",
       " <Element 'row' at 0x000001B560422318>,\n",
       " <Element 'row' at 0x000001B5604224A8>,\n",
       " <Element 'row' at 0x000001B560422548>,\n",
       " <Element 'row' at 0x000001B5604225E8>,\n",
       " <Element 'row' at 0x000001B560422688>,\n",
       " <Element 'row' at 0x000001B5604227C8>,\n",
       " <Element 'row' at 0x000001B560422908>,\n",
       " <Element 'row' at 0x000001B560422A48>,\n",
       " <Element 'row' at 0x000001B560422B88>,\n",
       " <Element 'row' at 0x000001B560422C28>,\n",
       " <Element 'row' at 0x000001B560422CC8>,\n",
       " <Element 'row' at 0x000001B560422D68>,\n",
       " <Element 'row' at 0x000001B560422E08>,\n",
       " <Element 'row' at 0x000001B560422EA8>,\n",
       " <Element 'row' at 0x000001B560422F48>,\n",
       " <Element 'row' at 0x000001B560430098>,\n",
       " <Element 'row' at 0x000001B5604301D8>,\n",
       " <Element 'row' at 0x000001B560430278>,\n",
       " <Element 'row' at 0x000001B560430318>,\n",
       " <Element 'row' at 0x000001B560430408>,\n",
       " <Element 'row' at 0x000001B5604304F8>,\n",
       " <Element 'row' at 0x000001B560430598>,\n",
       " <Element 'row' at 0x000001B5604306D8>,\n",
       " <Element 'row' at 0x000001B560430818>,\n",
       " <Element 'row' at 0x000001B5604308B8>]"
      ]
     },
     "execution_count": 40,
     "metadata": {},
     "output_type": "execute_result"
    }
   ],
   "source": [
    "# users_root.getchildren()  # depreciated\n",
    "children = list(users_root)\n",
    "children"
   ]
  },
  {
   "cell_type": "code",
   "execution_count": 41,
   "metadata": {},
   "outputs": [
    {
     "data": {
      "text/plain": [
       "100"
      ]
     },
     "execution_count": 41,
     "metadata": {},
     "output_type": "execute_result"
    }
   ],
   "source": [
    "len(children)"
   ]
  },
  {
   "cell_type": "code",
   "execution_count": 42,
   "metadata": {},
   "outputs": [
    {
     "data": {
      "text/plain": [
       "'row'"
      ]
     },
     "execution_count": 42,
     "metadata": {},
     "output_type": "execute_result"
    }
   ],
   "source": [
    "children[0].tag"
   ]
  },
  {
   "cell_type": "code",
   "execution_count": 44,
   "metadata": {},
   "outputs": [
    {
     "data": {
      "text/plain": [
       "{'AccountId': '-1',\n",
       " 'CreationDate': '2014-05-13T21:29:22.820',\n",
       " 'DownVotes': '679',\n",
       " 'Id': '-1',\n",
       " 'LastAccessDate': '2014-05-13T21:29:22.820',\n",
       " 'Location': 'on the server farm',\n",
       " 'Reputation': '1',\n",
       " 'UpVotes': '780',\n",
       " 'Views': '0'}"
      ]
     },
     "execution_count": 44,
     "metadata": {},
     "output_type": "execute_result"
    }
   ],
   "source": [
    "children[0].attrib"
   ]
  },
  {
   "cell_type": "code",
   "execution_count": null,
   "metadata": {},
   "outputs": [],
   "source": []
  }
 ],
 "metadata": {
  "kernelspec": {
   "display_name": "Python 3",
   "language": "python",
   "name": "python3"
  },
  "language_info": {
   "codemirror_mode": {
    "name": "ipython",
    "version": 3
   },
   "file_extension": ".py",
   "mimetype": "text/x-python",
   "name": "python",
   "nbconvert_exporter": "python",
   "pygments_lexer": "ipython3",
   "version": "3.7.1"
  }
 },
 "nbformat": 4,
 "nbformat_minor": 2
}
