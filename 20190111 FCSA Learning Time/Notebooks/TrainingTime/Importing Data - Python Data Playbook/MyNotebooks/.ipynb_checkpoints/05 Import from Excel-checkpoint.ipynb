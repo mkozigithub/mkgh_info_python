{
 "cells": [
  {
   "cell_type": "code",
   "execution_count": 1,
   "metadata": {},
   "outputs": [],
   "source": [
    "import pandas as pd  "
   ]
  },
  {
   "cell_type": "code",
   "execution_count": 4,
   "metadata": {},
   "outputs": [
    {
     "data": {
      "text/plain": [
       "pandas.io.excel.ExcelFile"
      ]
     },
     "execution_count": 4,
     "metadata": {},
     "output_type": "execute_result"
    }
   ],
   "source": [
    "# need to have xlrd installed: > conda install xlrd\n",
    "xl_file = pd.ExcelFile('./files/stackoverflow.xlsx')\n",
    "type(xl_file)"
   ]
  },
  {
   "cell_type": "code",
   "execution_count": 5,
   "metadata": {},
   "outputs": [
    {
     "data": {
      "text/plain": [
       "['Posts Raw', 'Posts', 'Users']"
      ]
     },
     "execution_count": 5,
     "metadata": {},
     "output_type": "execute_result"
    }
   ],
   "source": [
    "xl_file.sheet_names"
   ]
  },
  {
   "cell_type": "code",
   "execution_count": 10,
   "metadata": {},
   "outputs": [
    {
     "data": {
      "text/html": [
       "<div>\n",
       "<style scoped>\n",
       "    .dataframe tbody tr th:only-of-type {\n",
       "        vertical-align: middle;\n",
       "    }\n",
       "\n",
       "    .dataframe tbody tr th {\n",
       "        vertical-align: top;\n",
       "    }\n",
       "\n",
       "    .dataframe thead th {\n",
       "        text-align: right;\n",
       "    }\n",
       "</style>\n",
       "<table border=\"1\" class=\"dataframe\">\n",
       "  <thead>\n",
       "    <tr style=\"text-align: right;\">\n",
       "      <th></th>\n",
       "      <th>5</th>\n",
       "      <th>1</th>\n",
       "      <th>2014-05-13T23:58:30.457</th>\n",
       "      <th>9</th>\n",
       "      <th>448</th>\n",
       "      <th>2014-05-14T00:36:31.077</th>\n",
       "      <th>How can I do simple machine learning without hard-coding behavior?</th>\n",
       "      <th>&lt;machine-learning&gt;</th>\n",
       "      <th>1.1</th>\n",
       "      <th>1.2</th>\n",
       "      <th>1.3</th>\n",
       "      <th>2014-05-14T14:40:25.950</th>\n",
       "    </tr>\n",
       "  </thead>\n",
       "  <tbody>\n",
       "    <tr>\n",
       "      <th>0</th>\n",
       "      <td>7</td>\n",
       "      <td>1</td>\n",
       "      <td>2014-05-14T00:11:06.457</td>\n",
       "      <td>4</td>\n",
       "      <td>388.0</td>\n",
       "      <td>2014-05-16T13:45:00.237</td>\n",
       "      <td>What open-source books (or other materials) pr...</td>\n",
       "      <td>&lt;education&gt;&lt;open-source&gt;</td>\n",
       "      <td>3.0</td>\n",
       "      <td>4</td>\n",
       "      <td>1.0</td>\n",
       "      <td>2014-05-14T08:40:54.950</td>\n",
       "    </tr>\n",
       "    <tr>\n",
       "      <th>1</th>\n",
       "      <td>9</td>\n",
       "      <td>2</td>\n",
       "      <td>2014-05-14T00:36:31.077</td>\n",
       "      <td>5</td>\n",
       "      <td>NaN</td>\n",
       "      <td>2014-05-14T00:36:31.077</td>\n",
       "      <td>NaN</td>\n",
       "      <td>NaN</td>\n",
       "      <td>NaN</td>\n",
       "      <td>0</td>\n",
       "      <td>NaN</td>\n",
       "      <td>NaN</td>\n",
       "    </tr>\n",
       "    <tr>\n",
       "      <th>2</th>\n",
       "      <td>10</td>\n",
       "      <td>2</td>\n",
       "      <td>2014-05-14T00:53:43.273</td>\n",
       "      <td>12</td>\n",
       "      <td>NaN</td>\n",
       "      <td>2014-05-14T00:53:43.273</td>\n",
       "      <td>NaN</td>\n",
       "      <td>NaN</td>\n",
       "      <td>NaN</td>\n",
       "      <td>1</td>\n",
       "      <td>NaN</td>\n",
       "      <td>NaN</td>\n",
       "    </tr>\n",
       "  </tbody>\n",
       "</table>\n",
       "</div>"
      ],
      "text/plain": [
       "    5  1  2014-05-13T23:58:30.457   9    448  2014-05-14T00:36:31.077  \\\n",
       "0   7  1  2014-05-14T00:11:06.457   4  388.0  2014-05-16T13:45:00.237   \n",
       "1   9  2  2014-05-14T00:36:31.077   5    NaN  2014-05-14T00:36:31.077   \n",
       "2  10  2  2014-05-14T00:53:43.273  12    NaN  2014-05-14T00:53:43.273   \n",
       "\n",
       "  How can I do simple machine learning without hard-coding behavior?  \\\n",
       "0  What open-source books (or other materials) pr...                   \n",
       "1                                                NaN                   \n",
       "2                                                NaN                   \n",
       "\n",
       "         <machine-learning>  1.1  1.2  1.3  2014-05-14T14:40:25.950  \n",
       "0  <education><open-source>  3.0    4  1.0  2014-05-14T08:40:54.950  \n",
       "1                       NaN  NaN    0  NaN                      NaN  \n",
       "2                       NaN  NaN    1  NaN                      NaN  "
      ]
     },
     "execution_count": 10,
     "metadata": {},
     "output_type": "execute_result"
    }
   ],
   "source": [
    "# create pandas dataframe from excel file\n",
    "xl_df = xl_file.parse()  # no parameters: imports the first sheet of the workbooks\n",
    "xl_df.head(3)"
   ]
  },
  {
   "cell_type": "code",
   "execution_count": 13,
   "metadata": {},
   "outputs": [
    {
     "name": "stdout",
     "output_type": "stream",
     "text": [
      "<class 'pandas.core.frame.DataFrame'>\n"
     ]
    },
    {
     "data": {
      "text/html": [
       "<div>\n",
       "<style scoped>\n",
       "    .dataframe tbody tr th:only-of-type {\n",
       "        vertical-align: middle;\n",
       "    }\n",
       "\n",
       "    .dataframe tbody tr th {\n",
       "        vertical-align: top;\n",
       "    }\n",
       "\n",
       "    .dataframe thead th {\n",
       "        text-align: right;\n",
       "    }\n",
       "</style>\n",
       "<table border=\"1\" class=\"dataframe\">\n",
       "  <thead>\n",
       "    <tr style=\"text-align: right;\">\n",
       "      <th></th>\n",
       "      <th>Id</th>\n",
       "      <th>PostTypeId</th>\n",
       "      <th>Location</th>\n",
       "      <th>Name</th>\n",
       "      <th>CreationDate</th>\n",
       "      <th>LastUpdateDate</th>\n",
       "      <th>ViewCount</th>\n",
       "      <th>Reputation</th>\n",
       "    </tr>\n",
       "  </thead>\n",
       "  <tbody>\n",
       "    <tr>\n",
       "      <th>0</th>\n",
       "      <td>-1</td>\n",
       "      <td>1</td>\n",
       "      <td>on the server farm</td>\n",
       "      <td>Community</td>\n",
       "      <td>2014-05-13T21:29:22.820</td>\n",
       "      <td>2014-05-13T21:29:22.820</td>\n",
       "      <td>780</td>\n",
       "      <td>679</td>\n",
       "    </tr>\n",
       "    <tr>\n",
       "      <th>1</th>\n",
       "      <td>1</td>\n",
       "      <td>101</td>\n",
       "      <td>Costa Rica</td>\n",
       "      <td>Xavier Morera</td>\n",
       "      <td>2014-05-13T22:58:54.810</td>\n",
       "      <td>2018-08-19T18:07:35.607</td>\n",
       "      <td>1542</td>\n",
       "      <td>1250</td>\n",
       "    </tr>\n",
       "    <tr>\n",
       "      <th>2</th>\n",
       "      <td>2</td>\n",
       "      <td>101</td>\n",
       "      <td>New York, NY</td>\n",
       "      <td>Irene</td>\n",
       "      <td>2014-05-13T22:59:19.787</td>\n",
       "      <td>2017-12-19T18:52:19.423</td>\n",
       "      <td>4528</td>\n",
       "      <td>750</td>\n",
       "    </tr>\n",
       "  </tbody>\n",
       "</table>\n",
       "</div>"
      ],
      "text/plain": [
       "   Id  PostTypeId            Location           Name             CreationDate  \\\n",
       "0  -1           1  on the server farm      Community  2014-05-13T21:29:22.820   \n",
       "1   1         101          Costa Rica  Xavier Morera  2014-05-13T22:58:54.810   \n",
       "2   2         101        New York, NY          Irene  2014-05-13T22:59:19.787   \n",
       "\n",
       "            LastUpdateDate  ViewCount  Reputation  \n",
       "0  2014-05-13T21:29:22.820        780         679  \n",
       "1  2018-08-19T18:07:35.607       1542        1250  \n",
       "2  2017-12-19T18:52:19.423       4528         750  "
      ]
     },
     "execution_count": 13,
     "metadata": {},
     "output_type": "execute_result"
    }
   ],
   "source": [
    "# use read_excel to import the first sheet into a pandas dataframe\n",
    "xl_posts = pd.read_excel('./files/stackoverflow-one.xlsx')\n",
    "print(type(xl_posts))\n",
    "xl_posts.head(3)"
   ]
  },
  {
   "cell_type": "code",
   "execution_count": 14,
   "metadata": {},
   "outputs": [
    {
     "data": {
      "text/plain": [
       "Index(['Id', 'PostTypeId', 'Location', 'Name', 'CreationDate',\n",
       "       'LastUpdateDate', 'ViewCount', 'Reputation'],\n",
       "      dtype='object')"
      ]
     },
     "execution_count": 14,
     "metadata": {},
     "output_type": "execute_result"
    }
   ],
   "source": [
    "xl_posts.columns"
   ]
  },
  {
   "cell_type": "code",
   "execution_count": 15,
   "metadata": {},
   "outputs": [
    {
     "data": {
      "text/plain": [
       "Index(['Id', 'Name'], dtype='object')"
      ]
     },
     "execution_count": 15,
     "metadata": {},
     "output_type": "execute_result"
    }
   ],
   "source": [
    "# import specific columns\n",
    "pd.read_excel('./files/stackoverflow-one.xlsx',usecols=[0,3]).columns"
   ]
  },
  {
   "cell_type": "code",
   "execution_count": 20,
   "metadata": {},
   "outputs": [
    {
     "data": {
      "text/plain": [
       "Index(['Id', 'PostTypeId', 'Location', 'Name'], dtype='object')"
      ]
     },
     "execution_count": 20,
     "metadata": {},
     "output_type": "execute_result"
    }
   ],
   "source": [
    "# import columns by excel column names in a slice\n",
    "pd.read_excel('./files/stackoverflow-one.xlsx',usecols='A:D').columns"
   ]
  },
  {
   "cell_type": "code",
   "execution_count": 19,
   "metadata": {},
   "outputs": [
    {
     "data": {
      "text/plain": [
       "Index(['Id', 'Name'], dtype='object')"
      ]
     },
     "execution_count": 19,
     "metadata": {},
     "output_type": "execute_result"
    }
   ],
   "source": [
    "# import columns by excel column names in a list, so only the columns listed are imported\n",
    "pd.read_excel('./files/stackoverflow-one.xlsx',usecols='A,D').columns"
   ]
  },
  {
   "cell_type": "code",
   "execution_count": 29,
   "metadata": {},
   "outputs": [
    {
     "name": "stdout",
     "output_type": "stream",
     "text": [
      "['Posts Raw', 'Posts', 'Users']\n",
      "<class 'collections.OrderedDict'>\n",
      "odict_keys(['Posts Raw', 'Posts', 'Users'])\n"
     ]
    }
   ],
   "source": [
    "# importing multiple sheets\n",
    "print(xl_file.sheet_names)\n",
    "xl_dict = pd.read_excel('./files/stackoverflow.xlsx',sheet_name=None)  # sheet_name=None results in all sheets imported\n",
    "print(type(xl_dict))\n",
    "print(xl_dict.keys())"
   ]
  },
  {
   "cell_type": "code",
   "execution_count": 31,
   "metadata": {},
   "outputs": [
    {
     "name": "stdout",
     "output_type": "stream",
     "text": [
      "<class 'pandas.core.frame.DataFrame'>\n"
     ]
    },
    {
     "data": {
      "text/html": [
       "<div>\n",
       "<style scoped>\n",
       "    .dataframe tbody tr th:only-of-type {\n",
       "        vertical-align: middle;\n",
       "    }\n",
       "\n",
       "    .dataframe tbody tr th {\n",
       "        vertical-align: top;\n",
       "    }\n",
       "\n",
       "    .dataframe thead th {\n",
       "        text-align: right;\n",
       "    }\n",
       "</style>\n",
       "<table border=\"1\" class=\"dataframe\">\n",
       "  <thead>\n",
       "    <tr style=\"text-align: right;\">\n",
       "      <th></th>\n",
       "      <th>Id</th>\n",
       "      <th>PostTypeId</th>\n",
       "      <th>CreationDate</th>\n",
       "      <th>Score</th>\n",
       "      <th>ViewCount</th>\n",
       "      <th>LastActivityDate</th>\n",
       "      <th>Title</th>\n",
       "      <th>Tags</th>\n",
       "      <th>AnswerCount</th>\n",
       "      <th>CommentCount</th>\n",
       "      <th>FavoriteCount</th>\n",
       "      <th>ClosedDate</th>\n",
       "    </tr>\n",
       "  </thead>\n",
       "  <tbody>\n",
       "    <tr>\n",
       "      <th>0</th>\n",
       "      <td>5</td>\n",
       "      <td>1</td>\n",
       "      <td>2014-05-13T23:58:30.457</td>\n",
       "      <td>9</td>\n",
       "      <td>448.0</td>\n",
       "      <td>2014-05-14T00:36:31.077</td>\n",
       "      <td>How can I do simple machine learning without h...</td>\n",
       "      <td>&lt;machine-learning&gt;</td>\n",
       "      <td>1.0</td>\n",
       "      <td>1</td>\n",
       "      <td>1.0</td>\n",
       "      <td>2014-05-14T14:40:25.950</td>\n",
       "    </tr>\n",
       "    <tr>\n",
       "      <th>1</th>\n",
       "      <td>7</td>\n",
       "      <td>1</td>\n",
       "      <td>2014-05-14T00:11:06.457</td>\n",
       "      <td>4</td>\n",
       "      <td>388.0</td>\n",
       "      <td>2014-05-16T13:45:00.237</td>\n",
       "      <td>What open-source books (or other materials) pr...</td>\n",
       "      <td>&lt;education&gt;&lt;open-source&gt;</td>\n",
       "      <td>3.0</td>\n",
       "      <td>4</td>\n",
       "      <td>1.0</td>\n",
       "      <td>2014-05-14T08:40:54.950</td>\n",
       "    </tr>\n",
       "    <tr>\n",
       "      <th>2</th>\n",
       "      <td>9</td>\n",
       "      <td>2</td>\n",
       "      <td>2014-05-14T00:36:31.077</td>\n",
       "      <td>5</td>\n",
       "      <td>NaN</td>\n",
       "      <td>2014-05-14T00:36:31.077</td>\n",
       "      <td>NaN</td>\n",
       "      <td>NaN</td>\n",
       "      <td>NaN</td>\n",
       "      <td>0</td>\n",
       "      <td>NaN</td>\n",
       "      <td>NaN</td>\n",
       "    </tr>\n",
       "  </tbody>\n",
       "</table>\n",
       "</div>"
      ],
      "text/plain": [
       "   Id  PostTypeId             CreationDate  Score  ViewCount  \\\n",
       "0   5           1  2014-05-13T23:58:30.457      9      448.0   \n",
       "1   7           1  2014-05-14T00:11:06.457      4      388.0   \n",
       "2   9           2  2014-05-14T00:36:31.077      5        NaN   \n",
       "\n",
       "          LastActivityDate                                              Title  \\\n",
       "0  2014-05-14T00:36:31.077  How can I do simple machine learning without h...   \n",
       "1  2014-05-16T13:45:00.237  What open-source books (or other materials) pr...   \n",
       "2  2014-05-14T00:36:31.077                                                NaN   \n",
       "\n",
       "                       Tags  AnswerCount  CommentCount  FavoriteCount  \\\n",
       "0        <machine-learning>          1.0             1            1.0   \n",
       "1  <education><open-source>          3.0             4            1.0   \n",
       "2                       NaN          NaN             0            NaN   \n",
       "\n",
       "                ClosedDate  \n",
       "0  2014-05-14T14:40:25.950  \n",
       "1  2014-05-14T08:40:54.950  \n",
       "2                      NaN  "
      ]
     },
     "execution_count": 31,
     "metadata": {},
     "output_type": "execute_result"
    }
   ],
   "source": [
    "# the sheets have been imported as the values of the OderedDict\n",
    "print(type(xl_dict['Posts']))\n",
    "xl_dict['Posts'].head(3)"
   ]
  },
  {
   "cell_type": "code",
   "execution_count": 32,
   "metadata": {},
   "outputs": [
    {
     "data": {
      "text/plain": [
       "odict_keys(['Posts', 'Users'])"
      ]
     },
     "execution_count": 32,
     "metadata": {},
     "output_type": "execute_result"
    }
   ],
   "source": [
    "# can import a specific set of sheets\n",
    "pd.read_excel('./files/stackoverflow.xlsx',sheet_name=['Posts','Users']).keys()"
   ]
  },
  {
   "cell_type": "code",
   "execution_count": 36,
   "metadata": {},
   "outputs": [
    {
     "name": "stdout",
     "output_type": "stream",
     "text": [
      "Index(['Unnamed: 0', 'Id', 'PostTypeId', 'Location', 'Name', 'CreationDate',\n",
      "       'LastUpdateDate', 'ViewCount', 'Reputation'],\n",
      "      dtype='object')\n"
     ]
    },
    {
     "data": {
      "text/html": [
       "<div>\n",
       "<style scoped>\n",
       "    .dataframe tbody tr th:only-of-type {\n",
       "        vertical-align: middle;\n",
       "    }\n",
       "\n",
       "    .dataframe tbody tr th {\n",
       "        vertical-align: top;\n",
       "    }\n",
       "\n",
       "    .dataframe thead th {\n",
       "        text-align: right;\n",
       "    }\n",
       "</style>\n",
       "<table border=\"1\" class=\"dataframe\">\n",
       "  <thead>\n",
       "    <tr style=\"text-align: right;\">\n",
       "      <th></th>\n",
       "      <th>Unnamed: 0</th>\n",
       "      <th>Id</th>\n",
       "      <th>PostTypeId</th>\n",
       "      <th>Location</th>\n",
       "      <th>Name</th>\n",
       "      <th>CreationDate</th>\n",
       "      <th>LastUpdateDate</th>\n",
       "      <th>ViewCount</th>\n",
       "      <th>Reputation</th>\n",
       "    </tr>\n",
       "  </thead>\n",
       "  <tbody>\n",
       "    <tr>\n",
       "      <th>0</th>\n",
       "      <td>NaN</td>\n",
       "      <td>-1</td>\n",
       "      <td>1</td>\n",
       "      <td>on the server farm</td>\n",
       "      <td>Community</td>\n",
       "      <td>2014-05-13T21:29:22.820</td>\n",
       "      <td>2014-05-13T21:29:22.820</td>\n",
       "      <td>780</td>\n",
       "      <td>679</td>\n",
       "    </tr>\n",
       "    <tr>\n",
       "      <th>1</th>\n",
       "      <td>NaN</td>\n",
       "      <td>1</td>\n",
       "      <td>101</td>\n",
       "      <td>Costa Rica</td>\n",
       "      <td>Xavier Morera</td>\n",
       "      <td>2014-05-13T22:58:54.810</td>\n",
       "      <td>2018-08-19T18:07:35.607</td>\n",
       "      <td>1542</td>\n",
       "      <td>1250</td>\n",
       "    </tr>\n",
       "    <tr>\n",
       "      <th>2</th>\n",
       "      <td>NaN</td>\n",
       "      <td>2</td>\n",
       "      <td>101</td>\n",
       "      <td>New York, NY</td>\n",
       "      <td>Irene</td>\n",
       "      <td>2014-05-13T22:59:19.787</td>\n",
       "      <td>2017-12-19T18:52:19.423</td>\n",
       "      <td>4528</td>\n",
       "      <td>750</td>\n",
       "    </tr>\n",
       "  </tbody>\n",
       "</table>\n",
       "</div>"
      ],
      "text/plain": [
       "   Unnamed: 0  Id  PostTypeId            Location           Name  \\\n",
       "0         NaN  -1           1  on the server farm      Community   \n",
       "1         NaN   1         101          Costa Rica  Xavier Morera   \n",
       "2         NaN   2         101        New York, NY          Irene   \n",
       "\n",
       "              CreationDate           LastUpdateDate  ViewCount  Reputation  \n",
       "0  2014-05-13T21:29:22.820  2014-05-13T21:29:22.820        780         679  \n",
       "1  2014-05-13T22:58:54.810  2018-08-19T18:07:35.607       1542        1250  \n",
       "2  2014-05-13T22:59:19.787  2017-12-19T18:52:19.423       4528         750  "
      ]
     },
     "execution_count": 36,
     "metadata": {},
     "output_type": "execute_result"
    }
   ],
   "source": [
    "# can import a specific sheet as a pandas dataframe\n",
    "xl_df = pd.read_excel('./files/stackoverflow.xlsx',sheet_name='Users')\n",
    "print(xl_df.columns)\n",
    "xl_df.head(3)"
   ]
  },
  {
   "cell_type": "code",
   "execution_count": 37,
   "metadata": {},
   "outputs": [
    {
     "data": {
      "text/html": [
       "<div>\n",
       "<style scoped>\n",
       "    .dataframe tbody tr th:only-of-type {\n",
       "        vertical-align: middle;\n",
       "    }\n",
       "\n",
       "    .dataframe tbody tr th {\n",
       "        vertical-align: top;\n",
       "    }\n",
       "\n",
       "    .dataframe thead th {\n",
       "        text-align: right;\n",
       "    }\n",
       "</style>\n",
       "<table border=\"1\" class=\"dataframe\">\n",
       "  <thead>\n",
       "    <tr style=\"text-align: right;\">\n",
       "      <th></th>\n",
       "      <th>Id</th>\n",
       "      <th>PostTypeId</th>\n",
       "      <th>Location</th>\n",
       "      <th>Name</th>\n",
       "      <th>CreationDate</th>\n",
       "      <th>LastUpdateDate</th>\n",
       "      <th>ViewCount</th>\n",
       "      <th>Reputation</th>\n",
       "    </tr>\n",
       "  </thead>\n",
       "  <tbody>\n",
       "    <tr>\n",
       "      <th>0</th>\n",
       "      <td>-1</td>\n",
       "      <td>1</td>\n",
       "      <td>on the server farm</td>\n",
       "      <td>Community</td>\n",
       "      <td>2014-05-13T21:29:22.820</td>\n",
       "      <td>2014-05-13T21:29:22.820</td>\n",
       "      <td>780</td>\n",
       "      <td>679</td>\n",
       "    </tr>\n",
       "    <tr>\n",
       "      <th>1</th>\n",
       "      <td>1</td>\n",
       "      <td>101</td>\n",
       "      <td>Costa Rica</td>\n",
       "      <td>Xavier Morera</td>\n",
       "      <td>2014-05-13T22:58:54.810</td>\n",
       "      <td>2018-08-19T18:07:35.607</td>\n",
       "      <td>1542</td>\n",
       "      <td>1250</td>\n",
       "    </tr>\n",
       "  </tbody>\n",
       "</table>\n",
       "</div>"
      ],
      "text/plain": [
       "   Id  PostTypeId            Location           Name             CreationDate  \\\n",
       "0  -1           1  on the server farm      Community  2014-05-13T21:29:22.820   \n",
       "1   1         101          Costa Rica  Xavier Morera  2014-05-13T22:58:54.810   \n",
       "\n",
       "            LastUpdateDate  ViewCount  Reputation  \n",
       "0  2014-05-13T21:29:22.820        780         679  \n",
       "1  2018-08-19T18:07:35.607       1542        1250  "
      ]
     },
     "execution_count": 37,
     "metadata": {},
     "output_type": "execute_result"
    }
   ],
   "source": [
    "# can import a specific set of columns from a specific sheet\n",
    "pd.read_excel('./files/stackoverflow.xlsx',sheet_name='Users',usecols=range(1,9)).head(2)  # skipping first empty column"
   ]
  },
  {
   "cell_type": "code",
   "execution_count": 40,
   "metadata": {},
   "outputs": [
    {
     "data": {
      "text/html": [
       "<div>\n",
       "<style scoped>\n",
       "    .dataframe tbody tr th:only-of-type {\n",
       "        vertical-align: middle;\n",
       "    }\n",
       "\n",
       "    .dataframe tbody tr th {\n",
       "        vertical-align: top;\n",
       "    }\n",
       "\n",
       "    .dataframe thead th {\n",
       "        text-align: right;\n",
       "    }\n",
       "</style>\n",
       "<table border=\"1\" class=\"dataframe\">\n",
       "  <thead>\n",
       "    <tr style=\"text-align: right;\">\n",
       "      <th></th>\n",
       "      <th>Id</th>\n",
       "      <th>PostTypeId</th>\n",
       "      <th>Location</th>\n",
       "      <th>Name</th>\n",
       "      <th>CreationDate</th>\n",
       "      <th>LastUpdateDate</th>\n",
       "      <th>ViewCount</th>\n",
       "      <th>Reputation</th>\n",
       "    </tr>\n",
       "  </thead>\n",
       "  <tbody>\n",
       "    <tr>\n",
       "      <th>0</th>\n",
       "      <td>-1</td>\n",
       "      <td>1</td>\n",
       "      <td>on the server farm</td>\n",
       "      <td>Community</td>\n",
       "      <td>2014-05-13T21:29:22.820</td>\n",
       "      <td>2014-05-13T21:29:22.820</td>\n",
       "      <td>780</td>\n",
       "      <td>679</td>\n",
       "    </tr>\n",
       "    <tr>\n",
       "      <th>1</th>\n",
       "      <td>1</td>\n",
       "      <td>101</td>\n",
       "      <td>Costa Rica</td>\n",
       "      <td>Xavier Morera</td>\n",
       "      <td>2014-05-13T22:58:54.810</td>\n",
       "      <td>2018-08-19T18:07:35.607</td>\n",
       "      <td>1542</td>\n",
       "      <td>1250</td>\n",
       "    </tr>\n",
       "    <tr>\n",
       "      <th>2</th>\n",
       "      <td>2</td>\n",
       "      <td>101</td>\n",
       "      <td>New York, NY</td>\n",
       "      <td>Irene</td>\n",
       "      <td>2014-05-13T22:59:19.787</td>\n",
       "      <td>2017-12-19T18:52:19.423</td>\n",
       "      <td>4528</td>\n",
       "      <td>750</td>\n",
       "    </tr>\n",
       "    <tr>\n",
       "      <th>3</th>\n",
       "      <td>3</td>\n",
       "      <td>101</td>\n",
       "      <td>Curridabat</td>\n",
       "      <td>Juliana</td>\n",
       "      <td>2014-05-13T23:15:34.483</td>\n",
       "      <td>2018-02-21T21:19:57.513</td>\n",
       "      <td>5457</td>\n",
       "      <td>1100</td>\n",
       "    </tr>\n",
       "    <tr>\n",
       "      <th>4</th>\n",
       "      <td>4</td>\n",
       "      <td>101</td>\n",
       "      <td>Republic of Texas</td>\n",
       "      <td>Lucia</td>\n",
       "      <td>2014-05-13T23:16:09.937</td>\n",
       "      <td>2014-08-04T15:25:54.810</td>\n",
       "      <td>7845</td>\n",
       "      <td>1100</td>\n",
       "    </tr>\n",
       "  </tbody>\n",
       "</table>\n",
       "</div>"
      ],
      "text/plain": [
       "   Id  PostTypeId            Location           Name             CreationDate  \\\n",
       "0  -1           1  on the server farm      Community  2014-05-13T21:29:22.820   \n",
       "1   1         101          Costa Rica  Xavier Morera  2014-05-13T22:58:54.810   \n",
       "2   2         101        New York, NY          Irene  2014-05-13T22:59:19.787   \n",
       "3   3         101          Curridabat        Juliana  2014-05-13T23:15:34.483   \n",
       "4   4         101   Republic of Texas          Lucia  2014-05-13T23:16:09.937   \n",
       "\n",
       "            LastUpdateDate  ViewCount  Reputation  \n",
       "0  2014-05-13T21:29:22.820        780         679  \n",
       "1  2018-08-19T18:07:35.607       1542        1250  \n",
       "2  2017-12-19T18:52:19.423       4528         750  \n",
       "3  2018-02-21T21:19:57.513       5457        1100  \n",
       "4  2014-08-04T15:25:54.810       7845        1100  "
      ]
     },
     "execution_count": 40,
     "metadata": {},
     "output_type": "execute_result"
    }
   ],
   "source": [
    "# can import a specific set of columns from a specific sheet (by integer position)\n",
    "pd.read_excel('./files/stackoverflow.xlsx',sheet_name=2,usecols=range(1,9)).head()"
   ]
  },
  {
   "cell_type": "code",
   "execution_count": 41,
   "metadata": {},
   "outputs": [
    {
     "data": {
      "text/html": [
       "<div>\n",
       "<style scoped>\n",
       "    .dataframe tbody tr th:only-of-type {\n",
       "        vertical-align: middle;\n",
       "    }\n",
       "\n",
       "    .dataframe tbody tr th {\n",
       "        vertical-align: top;\n",
       "    }\n",
       "\n",
       "    .dataframe thead th {\n",
       "        text-align: right;\n",
       "    }\n",
       "</style>\n",
       "<table border=\"1\" class=\"dataframe\">\n",
       "  <thead>\n",
       "    <tr style=\"text-align: right;\">\n",
       "      <th></th>\n",
       "      <th>2</th>\n",
       "      <th>101</th>\n",
       "      <th>New York, NY</th>\n",
       "      <th>Irene</th>\n",
       "      <th>2014-05-13T22:59:19.787</th>\n",
       "      <th>2017-12-19T18:52:19.423</th>\n",
       "      <th>4528</th>\n",
       "      <th>750</th>\n",
       "    </tr>\n",
       "  </thead>\n",
       "  <tbody>\n",
       "    <tr>\n",
       "      <th>0</th>\n",
       "      <td>3</td>\n",
       "      <td>101</td>\n",
       "      <td>Curridabat</td>\n",
       "      <td>Juliana</td>\n",
       "      <td>2014-05-13T23:15:34.483</td>\n",
       "      <td>2018-02-21T21:19:57.513</td>\n",
       "      <td>5457</td>\n",
       "      <td>1100</td>\n",
       "    </tr>\n",
       "    <tr>\n",
       "      <th>1</th>\n",
       "      <td>4</td>\n",
       "      <td>101</td>\n",
       "      <td>Republic of Texas</td>\n",
       "      <td>Lucia</td>\n",
       "      <td>2014-05-13T23:16:09.937</td>\n",
       "      <td>2014-08-04T15:25:54.810</td>\n",
       "      <td>7845</td>\n",
       "      <td>1100</td>\n",
       "    </tr>\n",
       "  </tbody>\n",
       "</table>\n",
       "</div>"
      ],
      "text/plain": [
       "   2  101       New York, NY    Irene  2014-05-13T22:59:19.787  \\\n",
       "0  3  101         Curridabat  Juliana  2014-05-13T23:15:34.483   \n",
       "1  4  101  Republic of Texas    Lucia  2014-05-13T23:16:09.937   \n",
       "\n",
       "   2017-12-19T18:52:19.423  4528   750  \n",
       "0  2018-02-21T21:19:57.513  5457  1100  \n",
       "1  2014-08-04T15:25:54.810  7845  1100  "
      ]
     },
     "execution_count": 41,
     "metadata": {},
     "output_type": "execute_result"
    }
   ],
   "source": [
    "# can skip rows at the top\n",
    "pd.read_excel('./files/stackoverflow.xlsx',sheet_name=2,usecols=range(1,9),skiprows=4).head(2)"
   ]
  },
  {
   "cell_type": "code",
   "execution_count": 42,
   "metadata": {},
   "outputs": [
    {
     "data": {
      "text/html": [
       "<div>\n",
       "<style scoped>\n",
       "    .dataframe tbody tr th:only-of-type {\n",
       "        vertical-align: middle;\n",
       "    }\n",
       "\n",
       "    .dataframe tbody tr th {\n",
       "        vertical-align: top;\n",
       "    }\n",
       "\n",
       "    .dataframe thead th {\n",
       "        text-align: right;\n",
       "    }\n",
       "</style>\n",
       "<table border=\"1\" class=\"dataframe\">\n",
       "  <thead>\n",
       "    <tr style=\"text-align: right;\">\n",
       "      <th></th>\n",
       "      <th>Id</th>\n",
       "      <th>PostTypeId</th>\n",
       "      <th>Location</th>\n",
       "      <th>Name</th>\n",
       "      <th>CreationDate</th>\n",
       "      <th>LastUpdateDate</th>\n",
       "      <th>ViewCount</th>\n",
       "      <th>Reputation</th>\n",
       "    </tr>\n",
       "  </thead>\n",
       "  <tbody>\n",
       "    <tr>\n",
       "      <th>0</th>\n",
       "      <td>-1</td>\n",
       "      <td>1</td>\n",
       "      <td>on the server farm</td>\n",
       "      <td>Community</td>\n",
       "      <td>2014-05-13T21:29:22.820</td>\n",
       "      <td>2014-05-13T21:29:22.820</td>\n",
       "      <td>780</td>\n",
       "      <td>679</td>\n",
       "    </tr>\n",
       "    <tr>\n",
       "      <th>1</th>\n",
       "      <td>1</td>\n",
       "      <td>101</td>\n",
       "      <td>Costa Rica</td>\n",
       "      <td>Xavier Morera</td>\n",
       "      <td>2014-05-13T22:58:54.810</td>\n",
       "      <td>2018-08-19T18:07:35.607</td>\n",
       "      <td>1542</td>\n",
       "      <td>1250</td>\n",
       "    </tr>\n",
       "  </tbody>\n",
       "</table>\n",
       "</div>"
      ],
      "text/plain": [
       "   Id  PostTypeId            Location           Name             CreationDate  \\\n",
       "0  -1           1  on the server farm      Community  2014-05-13T21:29:22.820   \n",
       "1   1         101          Costa Rica  Xavier Morera  2014-05-13T22:58:54.810   \n",
       "\n",
       "            LastUpdateDate  ViewCount  Reputation  \n",
       "0  2014-05-13T21:29:22.820        780         679  \n",
       "1  2018-08-19T18:07:35.607       1542        1250  "
      ]
     },
     "execution_count": 42,
     "metadata": {},
     "output_type": "execute_result"
    }
   ],
   "source": [
    "# can take a specific number of rows\n",
    "pd.read_excel('./files/stackoverflow.xlsx',sheet_name=2,usecols=range(1,9),nrows=2).head()"
   ]
  },
  {
   "cell_type": "code",
   "execution_count": 43,
   "metadata": {},
   "outputs": [
    {
     "data": {
      "text/html": [
       "<div>\n",
       "<style scoped>\n",
       "    .dataframe tbody tr th:only-of-type {\n",
       "        vertical-align: middle;\n",
       "    }\n",
       "\n",
       "    .dataframe tbody tr th {\n",
       "        vertical-align: top;\n",
       "    }\n",
       "\n",
       "    .dataframe thead th {\n",
       "        text-align: right;\n",
       "    }\n",
       "</style>\n",
       "<table border=\"1\" class=\"dataframe\">\n",
       "  <thead>\n",
       "    <tr style=\"text-align: right;\">\n",
       "      <th></th>\n",
       "      <th>-1</th>\n",
       "      <th>1</th>\n",
       "      <th>on the server farm</th>\n",
       "      <th>Community</th>\n",
       "      <th>2014-05-13T21:29:22.820</th>\n",
       "      <th>2014-05-13T21:29:22.820.1</th>\n",
       "      <th>780</th>\n",
       "      <th>679</th>\n",
       "    </tr>\n",
       "  </thead>\n",
       "  <tbody>\n",
       "    <tr>\n",
       "      <th>0</th>\n",
       "      <td>1</td>\n",
       "      <td>101</td>\n",
       "      <td>Costa Rica</td>\n",
       "      <td>Xavier Morera</td>\n",
       "      <td>2014-05-13T22:58:54.810</td>\n",
       "      <td>2018-08-19T18:07:35.607</td>\n",
       "      <td>1542</td>\n",
       "      <td>1250</td>\n",
       "    </tr>\n",
       "    <tr>\n",
       "      <th>1</th>\n",
       "      <td>2</td>\n",
       "      <td>101</td>\n",
       "      <td>New York, NY</td>\n",
       "      <td>Irene</td>\n",
       "      <td>2014-05-13T22:59:19.787</td>\n",
       "      <td>2017-12-19T18:52:19.423</td>\n",
       "      <td>4528</td>\n",
       "      <td>750</td>\n",
       "    </tr>\n",
       "  </tbody>\n",
       "</table>\n",
       "</div>"
      ],
      "text/plain": [
       "   -1    1 on the server farm      Community  2014-05-13T21:29:22.820  \\\n",
       "0   1  101         Costa Rica  Xavier Morera  2014-05-13T22:58:54.810   \n",
       "1   2  101       New York, NY          Irene  2014-05-13T22:59:19.787   \n",
       "\n",
       "  2014-05-13T21:29:22.820.1   780   679  \n",
       "0   2018-08-19T18:07:35.607  1542  1250  \n",
       "1   2017-12-19T18:52:19.423  4528   750  "
      ]
     },
     "execution_count": 43,
     "metadata": {},
     "output_type": "execute_result"
    }
   ],
   "source": [
    "# can skip and take a specific number of rows\n",
    "pd.read_excel('./files/stackoverflow.xlsx',sheet_name=2,usecols=range(1,9),skiprows=2,nrows=2).head()"
   ]
  },
  {
   "cell_type": "code",
   "execution_count": 44,
   "metadata": {},
   "outputs": [
    {
     "data": {
      "text/plain": [
       "Unnamed: 0        float64\n",
       "Id                  int64\n",
       "PostTypeId          int64\n",
       "Location           object\n",
       "Name               object\n",
       "CreationDate       object\n",
       "LastUpdateDate     object\n",
       "ViewCount           int64\n",
       "Reputation          int64\n",
       "dtype: object"
      ]
     },
     "execution_count": 44,
     "metadata": {},
     "output_type": "execute_result"
    }
   ],
   "source": [
    "# pandas infers the column datatypes\n",
    "pd.read_excel('./files/stackoverflow.xlsx',sheet_name='Users').dtypes"
   ]
  },
  {
   "cell_type": "code",
   "execution_count": 45,
   "metadata": {},
   "outputs": [
    {
     "data": {
      "text/plain": [
       "Unnamed: 0        float64\n",
       "Id                  int64\n",
       "PostTypeId         object\n",
       "Location           object\n",
       "Name               object\n",
       "CreationDate       object\n",
       "LastUpdateDate     object\n",
       "ViewCount           int64\n",
       "Reputation          int64\n",
       "dtype: object"
      ]
     },
     "execution_count": 45,
     "metadata": {},
     "output_type": "execute_result"
    }
   ],
   "source": [
    "# can define column types\n",
    "pd.read_excel('./files/stackoverflow.xlsx',sheet_name='Users',dtype={'PostTypeId': str}).dtypes"
   ]
  },
  {
   "cell_type": "code",
   "execution_count": 52,
   "metadata": {},
   "outputs": [
    {
     "data": {
      "text/html": [
       "<div>\n",
       "<style scoped>\n",
       "    .dataframe tbody tr th:only-of-type {\n",
       "        vertical-align: middle;\n",
       "    }\n",
       "\n",
       "    .dataframe tbody tr th {\n",
       "        vertical-align: top;\n",
       "    }\n",
       "\n",
       "    .dataframe thead th {\n",
       "        text-align: right;\n",
       "    }\n",
       "</style>\n",
       "<table border=\"1\" class=\"dataframe\">\n",
       "  <thead>\n",
       "    <tr style=\"text-align: right;\">\n",
       "      <th></th>\n",
       "      <th>Id</th>\n",
       "      <th>PostTypeId</th>\n",
       "      <th>Location</th>\n",
       "      <th>Name</th>\n",
       "      <th>CreationDate</th>\n",
       "      <th>LastUpdateDate</th>\n",
       "      <th>ViewCount</th>\n",
       "      <th>Reputation</th>\n",
       "    </tr>\n",
       "  </thead>\n",
       "  <tbody>\n",
       "    <tr>\n",
       "      <th>0</th>\n",
       "      <td>999</td>\n",
       "      <td>1</td>\n",
       "      <td>on the server farm</td>\n",
       "      <td>Community</td>\n",
       "      <td>2014-05-13T21:29:22.820</td>\n",
       "      <td>2014-05-13T21:29:22.820</td>\n",
       "      <td>780</td>\n",
       "      <td>679</td>\n",
       "    </tr>\n",
       "    <tr>\n",
       "      <th>1</th>\n",
       "      <td>1001</td>\n",
       "      <td>101</td>\n",
       "      <td>Costa Rica</td>\n",
       "      <td>Xavier Morera</td>\n",
       "      <td>2014-05-13T22:58:54.810</td>\n",
       "      <td>2018-08-19T18:07:35.607</td>\n",
       "      <td>1542</td>\n",
       "      <td>1250</td>\n",
       "    </tr>\n",
       "    <tr>\n",
       "      <th>2</th>\n",
       "      <td>1002</td>\n",
       "      <td>101</td>\n",
       "      <td>New York, NY</td>\n",
       "      <td>Irene</td>\n",
       "      <td>2014-05-13T22:59:19.787</td>\n",
       "      <td>2017-12-19T18:52:19.423</td>\n",
       "      <td>4528</td>\n",
       "      <td>750</td>\n",
       "    </tr>\n",
       "  </tbody>\n",
       "</table>\n",
       "</div>"
      ],
      "text/plain": [
       "     Id  PostTypeId            Location           Name  \\\n",
       "0   999           1  on the server farm      Community   \n",
       "1  1001         101          Costa Rica  Xavier Morera   \n",
       "2  1002         101        New York, NY          Irene   \n",
       "\n",
       "              CreationDate           LastUpdateDate  ViewCount  Reputation  \n",
       "0  2014-05-13T21:29:22.820  2014-05-13T21:29:22.820        780         679  \n",
       "1  2014-05-13T22:58:54.810  2018-08-19T18:07:35.607       1542        1250  \n",
       "2  2014-05-13T22:59:19.787  2017-12-19T18:52:19.423       4528         750  "
      ]
     },
     "execution_count": 52,
     "metadata": {},
     "output_type": "execute_result"
    }
   ],
   "source": [
    "# can use converters to transform column data\n",
    "pd.read_excel('./files/stackoverflow.xlsx',sheet_name='Users',usecols=range(1,9),\n",
    "             converters={'Id': lambda x: x+1000}).head(3)"
   ]
  },
  {
   "cell_type": "code",
   "execution_count": 55,
   "metadata": {},
   "outputs": [
    {
     "data": {
      "text/html": [
       "<div>\n",
       "<style scoped>\n",
       "    .dataframe tbody tr th:only-of-type {\n",
       "        vertical-align: middle;\n",
       "    }\n",
       "\n",
       "    .dataframe tbody tr th {\n",
       "        vertical-align: top;\n",
       "    }\n",
       "\n",
       "    .dataframe thead th {\n",
       "        text-align: right;\n",
       "    }\n",
       "</style>\n",
       "<table border=\"1\" class=\"dataframe\">\n",
       "  <thead>\n",
       "    <tr style=\"text-align: right;\">\n",
       "      <th></th>\n",
       "      <th>Id</th>\n",
       "      <th>Tags</th>\n",
       "      <th>AnswerCount</th>\n",
       "    </tr>\n",
       "  </thead>\n",
       "  <tbody>\n",
       "    <tr>\n",
       "      <th>0</th>\n",
       "      <td>5</td>\n",
       "      <td>&lt;machine-learning&gt;</td>\n",
       "      <td>1</td>\n",
       "    </tr>\n",
       "    <tr>\n",
       "      <th>1</th>\n",
       "      <td>7</td>\n",
       "      <td>&lt;education&gt;&lt;open-source&gt;</td>\n",
       "      <td>3</td>\n",
       "    </tr>\n",
       "    <tr>\n",
       "      <th>2</th>\n",
       "      <td>9</td>\n",
       "      <td></td>\n",
       "      <td></td>\n",
       "    </tr>\n",
       "    <tr>\n",
       "      <th>3</th>\n",
       "      <td>10</td>\n",
       "      <td></td>\n",
       "      <td></td>\n",
       "    </tr>\n",
       "    <tr>\n",
       "      <th>4</th>\n",
       "      <td>14</td>\n",
       "      <td>&lt;data-mining&gt;&lt;definitions&gt;</td>\n",
       "      <td>4</td>\n",
       "    </tr>\n",
       "  </tbody>\n",
       "</table>\n",
       "</div>"
      ],
      "text/plain": [
       "   Id                        Tags AnswerCount\n",
       "0   5          <machine-learning>           1\n",
       "1   7    <education><open-source>           3\n",
       "2   9                                        \n",
       "3  10                                        \n",
       "4  14  <data-mining><definitions>           4"
      ]
     },
     "execution_count": 55,
     "metadata": {},
     "output_type": "execute_result"
    }
   ],
   "source": [
    "# can keep empty values\n",
    "pd.read_excel('./files/stackoverflow.xlsx',sheet_name='Posts',usecols=[0,7,8],keep_default_na=False).head()"
   ]
  },
  {
   "cell_type": "code",
   "execution_count": null,
   "metadata": {},
   "outputs": [],
   "source": []
  }
 ],
 "metadata": {
  "kernelspec": {
   "display_name": "Python 3",
   "language": "python",
   "name": "python3"
  },
  "language_info": {
   "codemirror_mode": {
    "name": "ipython",
    "version": 3
   },
   "file_extension": ".py",
   "mimetype": "text/x-python",
   "name": "python",
   "nbconvert_exporter": "python",
   "pygments_lexer": "ipython3",
   "version": "3.7.1"
  }
 },
 "nbformat": 4,
 "nbformat_minor": 2
}
